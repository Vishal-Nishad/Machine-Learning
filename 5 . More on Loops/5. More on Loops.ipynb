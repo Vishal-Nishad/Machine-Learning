{
 "cells": [
  {
   "cell_type": "markdown",
   "id": "c9155e11-a80e-4eb8-a51a-c496043aa2d0",
   "metadata": {},
   "source": [
    "## Q. print multiple of 3 by using For loop"
   ]
  },
  {
   "cell_type": "code",
   "execution_count": 4,
   "id": "b98e09f3-25ee-4360-be7a-c54088511f0a",
   "metadata": {},
   "outputs": [
    {
     "name": "stdin",
     "output_type": "stream",
     "text": [
      "enter start. 18\n"
     ]
    },
    {
     "name": "stdout",
     "output_type": "stream",
     "text": [
      "18\n"
     ]
    }
   ],
   "source": [
    "\n",
    "start=int(input(\"enter start.\"))\n",
    "if start%3==0:\n",
    "    start=start\n",
    "elif start%3==1:\n",
    "    start=start+2\n",
    "else:\n",
    "    start=start+1\n",
    "for i in range(start,19,3):\n",
    "    print(i)\n"
   ]
  },
  {
   "cell_type": "markdown",
   "id": "87946c80-9d03-4171-ad8f-42a3448757aa",
   "metadata": {},
   "source": [
    "## Check if number is prime or not"
   ]
  },
  {
   "cell_type": "code",
   "execution_count": 3,
   "id": "4c587287-bc7b-4b64-9450-877090fe2dfd",
   "metadata": {},
   "outputs": [
    {
     "name": "stdin",
     "output_type": "stream",
     "text": [
      " 66\n"
     ]
    },
    {
     "name": "stdout",
     "output_type": "stream",
     "text": [
      "number is not prime.\n"
     ]
    }
   ],
   "source": [
    "n=int(input())\n",
    "flag=False\n",
    "for i in range(2,n):\n",
    "    if n%i==0:\n",
    "        flag=True\n",
    "if flag:\n",
    "    print(\"number is not prime.\")\n",
    "else:\n",
    "    print(\"number is prime.\")"
   ]
  },
  {
   "cell_type": "markdown",
   "id": "bdd3159c-ca40-4f52-8e30-5ed8b0ecc009",
   "metadata": {},
   "source": [
    "## Q. Terms of AP"
   ]
  },
  {
   "cell_type": "code",
   "execution_count": 5,
   "id": "896aaf9c-05d7-4dd4-a5a7-fa48076c6aa7",
   "metadata": {},
   "outputs": [
    {
     "name": "stdin",
     "output_type": "stream",
     "text": [
      " 10\n"
     ]
    },
    {
     "name": "stdout",
     "output_type": "stream",
     "text": [
      "5 11 14 17 23 26 29 "
     ]
    }
   ],
   "source": [
    "n=int(input())\n",
    "for i in range (1,n+1):\n",
    "    term=3*i+2\n",
    "    if term%4!=0:\n",
    "        print(term,end=\" \")"
   ]
  },
  {
   "cell_type": "code",
   "execution_count": 3,
   "id": "203fff09-f5dd-4b9b-a563-a2b8b571f151",
   "metadata": {},
   "outputs": [
    {
     "name": "stdin",
     "output_type": "stream",
     "text": [
      " 4\n"
     ]
    },
    {
     "name": "stdout",
     "output_type": "stream",
     "text": [
      "***1\n",
      "**232\n",
      "*34543\n",
      "4567654\n"
     ]
    }
   ],
   "source": [
    "n=int(input())\n",
    "for i in range(1,n+1,1):\n",
    "    for s in range(n-i):\n",
    "        print('*',end='')\n",
    "    for j in range(i,2*i,):\n",
    "        print(j,end='')\n",
    "    for j in range(2*i-2,i-1,-1):\n",
    "        print(j,end='')\n",
    "    print()"
   ]
  },
  {
   "cell_type": "code",
   "execution_count": 9,
   "id": "da1644fb-f42d-4122-9f67-c1fba9c4c032",
   "metadata": {},
   "outputs": [
    {
     "name": "stdin",
     "output_type": "stream",
     "text": [
      "enter number. 5\n",
      "enter 1 for sum or 2 for product 6\n"
     ]
    },
    {
     "name": "stdout",
     "output_type": "stream",
     "text": [
      "-1\n"
     ]
    }
   ],
   "source": [
    "n=int(input('enter number.'))\n",
    "c=int(input('enter 1 for sum or 2 for product'))\n",
    "sum=0\n",
    "product=1\n",
    "if c==1:\n",
    "    for i in range (1,n+1):\n",
    "        sum=sum+i\n",
    "    print(sum)\n",
    "elif c==2:\n",
    "    for i in range(1,n+1):\n",
    "        product=product*i\n",
    "    print(product)\n",
    "else:\n",
    "    print(\"-1\")"
   ]
  },
  {
   "cell_type": "code",
   "execution_count": null,
   "id": "4349c0a5-f409-4ac3-8e65-074ef4d2122f",
   "metadata": {},
   "outputs": [],
   "source": []
  }
 ],
 "metadata": {
  "kernelspec": {
   "display_name": "Python 3 (ipykernel)",
   "language": "python",
   "name": "python3"
  },
  "language_info": {
   "codemirror_mode": {
    "name": "ipython",
    "version": 3
   },
   "file_extension": ".py",
   "mimetype": "text/x-python",
   "name": "python",
   "nbconvert_exporter": "python",
   "pygments_lexer": "ipython3",
   "version": "3.11.7"
  }
 },
 "nbformat": 4,
 "nbformat_minor": 5
}
