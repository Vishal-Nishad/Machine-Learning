{
 "cells": [
  {
   "cell_type": "code",
   "execution_count": 4,
   "id": "e4a2ee44-d74f-48b7-bec8-0214792092ee",
   "metadata": {},
   "outputs": [
    {
     "name": "stdout",
     "output_type": "stream",
     "text": [
      "h\n",
      "e\n",
      "l\n",
      "l\n",
      "o\n",
      " \n",
      "i\n",
      "'\n",
      "a\n",
      "m\n",
      " \n",
      "v\n",
      "i\n",
      "s\n",
      "h\n",
      "a\n",
      "l\n",
      "h\n",
      "e\n",
      "l\n",
      "l\n",
      "o\n",
      " \n",
      "i\n",
      "'\n",
      "a\n",
      "m\n",
      " \n",
      "v\n",
      "i\n",
      "s\n",
      "h\n",
      "a\n",
      "l\n"
     ]
    }
   ],
   "source": [
    "a='hello i\\'am vishal'\n",
    "for i in range (0,len(a)):\n",
    "    print(a[i])\n",
    "for i in a:\n",
    "    print (i)"
   ]
  },
  {
   "cell_type": "code",
   "execution_count": 5,
   "id": "1f72c8a8-9b6f-4d60-b9df-ea037d84c2a4",
   "metadata": {},
   "outputs": [
    {
     "data": {
      "text/plain": [
       "\"hello i'am vishal\""
      ]
     },
     "execution_count": 5,
     "metadata": {},
     "output_type": "execute_result"
    }
   ],
   "source": [
    "a.lower()"
   ]
  },
  {
   "cell_type": "code",
   "execution_count": 6,
   "id": "310e4197-897f-4ce1-936d-426b9858130e",
   "metadata": {},
   "outputs": [
    {
     "data": {
      "text/plain": [
       "\"HELLO I'AM VISHAL\""
      ]
     },
     "execution_count": 6,
     "metadata": {},
     "output_type": "execute_result"
    }
   ],
   "source": [
    "a.upper()"
   ]
  },
  {
   "cell_type": "code",
   "execution_count": 7,
   "id": "00d843ea-94a3-4397-9c99-96ad1e539f78",
   "metadata": {},
   "outputs": [
    {
     "data": {
      "text/plain": [
       "\"hi i'am vishal\""
      ]
     },
     "execution_count": 7,
     "metadata": {},
     "output_type": "execute_result"
    }
   ],
   "source": [
    "a.replace('hello' , 'hi')"
   ]
  },
  {
   "cell_type": "code",
   "execution_count": 8,
   "id": "daceea3a-a89a-4a5a-baab-5ae89108de37",
   "metadata": {},
   "outputs": [
    {
     "name": "stdout",
     "output_type": "stream",
     "text": [
      "hello i'am vishal\n"
     ]
    }
   ],
   "source": [
    "print(a)"
   ]
  },
  {
   "cell_type": "code",
   "execution_count": 12,
   "id": "959317e1-89cd-4809-b9df-6d136d8dd8f2",
   "metadata": {},
   "outputs": [
    {
     "name": "stdout",
     "output_type": "stream",
     "text": [
      "hello i'am vishal12\n"
     ]
    }
   ],
   "source": [
    "print(a + str(12))"
   ]
  },
  {
   "cell_type": "code",
   "execution_count": 14,
   "id": "d8566915-4366-4930-b891-3700cc31df5a",
   "metadata": {},
   "outputs": [
    {
     "name": "stdout",
     "output_type": "stream",
     "text": [
      "llo \n"
     ]
    }
   ],
   "source": [
    "print(a[2:6])"
   ]
  },
  {
   "cell_type": "code",
   "execution_count": 19,
   "id": "8ccc2d88-6024-4ee5-8a35-4268eee7c499",
   "metadata": {},
   "outputs": [
    {
     "name": "stdin",
     "output_type": "stream",
     "text": [
      " abab\n"
     ]
    },
    {
     "name": "stdout",
     "output_type": "stream",
     "text": [
      "bbbb\n"
     ]
    }
   ],
   "source": [
    "a=input()\n",
    "x='a'\n",
    "y='b'\n",
    "ans=a\n",
    "for i in range(0,len(a)):\n",
    "    if a[i]==x:\n",
    "        a=a[:i] + y + a[i+1:]\n",
    "print(a)"
   ]
  },
  {
   "cell_type": "markdown",
   "id": "5306b3ee-06d9-496b-8f71-e537b3f1d407",
   "metadata": {},
   "source": [
    "## Q. To check String Palindrome"
   ]
  },
  {
   "cell_type": "code",
   "execution_count": 16,
   "id": "ff538064-11b2-46f5-b0a8-10836cff803c",
   "metadata": {},
   "outputs": [
    {
     "name": "stdin",
     "output_type": "stream",
     "text": [
      " malayalam\n"
     ]
    },
    {
     "name": "stdout",
     "output_type": "stream",
     "text": [
      "malayalam\n",
      "True\n"
     ]
    }
   ],
   "source": [
    "n=input()\n",
    "rev=n[::-1]\n",
    "print(rev)\n",
    "if (rev==n):\n",
    "    print(True)\n",
    "else:\n",
    "    print(False)"
   ]
  },
  {
   "cell_type": "code",
   "execution_count": null,
   "id": "c11fc8a9-2e28-4bf7-9873-8320d3af9c7a",
   "metadata": {},
   "outputs": [],
   "source": []
  },
  {
   "cell_type": "markdown",
   "id": "4609cd0a-25d0-4557-970e-52fd4d6bb274",
   "metadata": {},
   "source": [
    "## List"
   ]
  },
  {
   "cell_type": "code",
   "execution_count": 20,
   "id": "7da39005-e6b4-4c7c-9b05-3135dd0034b5",
   "metadata": {},
   "outputs": [
    {
     "data": {
      "text/plain": [
       "[0, 1, 2, 3, 4, 5, 6, 7, 8, 9]"
      ]
     },
     "execution_count": 20,
     "metadata": {},
     "output_type": "execute_result"
    }
   ],
   "source": [
    "a=[i for i in range(10)]\n",
    "a"
   ]
  },
  {
   "cell_type": "code",
   "execution_count": 21,
   "id": "beb0d319-d1a2-43c8-b012-1c8d40e78a35",
   "metadata": {},
   "outputs": [
    {
     "data": {
      "text/plain": [
       "[0, 1, 4, 9, 16, 25, 36, 49, 64, 81]"
      ]
     },
     "execution_count": 21,
     "metadata": {},
     "output_type": "execute_result"
    }
   ],
   "source": [
    "a=[i*i for i in range(10)]\n",
    "a"
   ]
  },
  {
   "cell_type": "code",
   "execution_count": 22,
   "id": "d58b2183-761a-4daa-8189-7ce86981e914",
   "metadata": {},
   "outputs": [
    {
     "data": {
      "text/plain": [
       "[1, 1, 1, 1, 1, 1, 1, 1, 1, 1]"
      ]
     },
     "execution_count": 22,
     "metadata": {},
     "output_type": "execute_result"
    }
   ],
   "source": [
    "a=[1 for i in range(10)]\n",
    "a"
   ]
  },
  {
   "cell_type": "markdown",
   "id": "9d3bc8e5-ae59-484f-91b2-3f6d70fdcd51",
   "metadata": {},
   "source": [
    "## List Functions"
   ]
  },
  {
   "cell_type": "code",
   "execution_count": 24,
   "id": "a6c06b86-4594-47b5-90de-68378eb1291c",
   "metadata": {},
   "outputs": [
    {
     "data": {
      "text/plain": [
       "[3, 3, 5, 6, 234, 5, 3245, 2, 3, 54, 6, 2, 34, 6, 3, 0]"
      ]
     },
     "execution_count": 24,
     "metadata": {},
     "output_type": "execute_result"
    }
   ],
   "source": [
    "a=[3,3,5,6,234,5,3245,2,3,54,6,2,34,6,3]\n",
    "a.append(0)\n",
    "a"
   ]
  },
  {
   "cell_type": "code",
   "execution_count": 25,
   "id": "bd8b9dc5-01b0-4c27-bd4c-b67bed94726d",
   "metadata": {},
   "outputs": [
    {
     "data": {
      "text/plain": [
       "[3, 5, 6, 234, 5, 3245, 2, 3, 54, 6, 2, 34, 6, 3, 0]"
      ]
     },
     "execution_count": 25,
     "metadata": {},
     "output_type": "execute_result"
    }
   ],
   "source": [
    "a.remove(3)\n",
    "a"
   ]
  },
  {
   "cell_type": "code",
   "execution_count": 26,
   "id": "c0f31b27-feec-4354-8171-c37dd663bc7a",
   "metadata": {},
   "outputs": [
    {
     "data": {
      "text/plain": [
       "[3, 6, 234, 5, 3245, 2, 3, 54, 6, 2, 34, 6, 3, 0]"
      ]
     },
     "execution_count": 26,
     "metadata": {},
     "output_type": "execute_result"
    }
   ],
   "source": [
    "a.pop(1)\n",
    "a"
   ]
  },
  {
   "cell_type": "code",
   "execution_count": 27,
   "id": "ac548eda-7d43-449f-acf6-373a732b7dcd",
   "metadata": {},
   "outputs": [
    {
     "data": {
      "text/plain": [
       "[6, 234, 5, 3245, 2, 3, 54, 6, 2, 34, 6, 3, 0]"
      ]
     },
     "execution_count": 27,
     "metadata": {},
     "output_type": "execute_result"
    }
   ],
   "source": [
    "del a[0]\n",
    "a"
   ]
  },
  {
   "cell_type": "code",
   "execution_count": 28,
   "id": "d32a5a81-ab74-420e-8d9f-2db01cf5b93e",
   "metadata": {},
   "outputs": [
    {
     "data": {
      "text/plain": [
       "[0, 2, 2, 3, 3, 5, 6, 6, 6, 34, 54, 234, 3245]"
      ]
     },
     "execution_count": 28,
     "metadata": {},
     "output_type": "execute_result"
    }
   ],
   "source": [
    "a.sort()\n",
    "a"
   ]
  },
  {
   "cell_type": "code",
   "execution_count": 32,
   "id": "79f69b29-73d4-4258-ba3f-96b858d49940",
   "metadata": {},
   "outputs": [
    {
     "name": "stdout",
     "output_type": "stream",
     "text": [
      "11\n"
     ]
    },
    {
     "data": {
      "text/plain": [
       "[0, 2, 2, 3, 3, 5, 6, 6, 6, 34, 54, 234, 3245]"
      ]
     },
     "execution_count": 32,
     "metadata": {},
     "output_type": "execute_result"
    }
   ],
   "source": [
    "print(a.index(234))\n",
    "a"
   ]
  },
  {
   "cell_type": "markdown",
   "id": "2d2ade86-66ac-4a33-95c8-1f8980927e81",
   "metadata": {},
   "source": [
    "## Q. Taking input of LIST"
   ]
  },
  {
   "cell_type": "code",
   "execution_count": 33,
   "id": "084d793c-1708-4ea4-96a9-bf2c013cb7d1",
   "metadata": {},
   "outputs": [
    {
     "name": "stdin",
     "output_type": "stream",
     "text": [
      " 3\n",
      " 1\n",
      " 2\n",
      " 3\n"
     ]
    },
    {
     "data": {
      "text/plain": [
       "[1, 2, 3]"
      ]
     },
     "execution_count": 33,
     "metadata": {},
     "output_type": "execute_result"
    }
   ],
   "source": [
    "size=int(input())\n",
    "a=[]\n",
    "for i in range(size):\n",
    "    ne=int(input())\n",
    "    a.append(ne)\n",
    "a"
   ]
  },
  {
   "cell_type": "markdown",
   "id": "f2c3311c-1542-4228-9b06-4587bd757426",
   "metadata": {},
   "source": [
    "## Another way to take input"
   ]
  },
  {
   "cell_type": "code",
   "execution_count": 38,
   "id": "e25fda28-4774-4ba3-8104-8ba5e68ff651",
   "metadata": {},
   "outputs": [
    {
     "name": "stdin",
     "output_type": "stream",
     "text": [
      " 1 2 3 4\n"
     ]
    },
    {
     "name": "stdout",
     "output_type": "stream",
     "text": [
      "['1', '2', '3', '4']\n"
     ]
    },
    {
     "data": {
      "text/plain": [
       "[1, 2, 3, 4]"
      ]
     },
     "execution_count": 38,
     "metadata": {},
     "output_type": "execute_result"
    }
   ],
   "source": [
    "l=input().split()\n",
    "a=[int(s) for s in l]\n",
    "print(l)\n",
    "a"
   ]
  },
  {
   "cell_type": "markdown",
   "id": "60b8e9c3-ec73-4499-b799-b4ef4d96bdbf",
   "metadata": {},
   "source": [
    "## same thing return in single line"
   ]
  },
  {
   "cell_type": "code",
   "execution_count": 39,
   "id": "180abaf0-5840-45d6-a44e-db704af4d7f9",
   "metadata": {},
   "outputs": [
    {
     "name": "stdin",
     "output_type": "stream",
     "text": [
      " 1 2 3 4 5 6\n"
     ]
    },
    {
     "data": {
      "text/plain": [
       "[1, 2, 3, 4, 5, 6]"
      ]
     },
     "execution_count": 39,
     "metadata": {},
     "output_type": "execute_result"
    }
   ],
   "source": [
    "a=[int(s) for s in input().split()]\n",
    "a"
   ]
  },
  {
   "cell_type": "markdown",
   "id": "1b8fe739-163c-434d-af3f-e5264da1f1b1",
   "metadata": {},
   "source": [
    "## Q. print the difference of even and odd sum"
   ]
  },
  {
   "cell_type": "code",
   "execution_count": 40,
   "id": "ba9ae9e6-66e6-4840-b204-6e8c934c3af5",
   "metadata": {},
   "outputs": [
    {
     "name": "stdin",
     "output_type": "stream",
     "text": [
      " 1 2 3 4 5 6 7 8 \n"
     ]
    },
    {
     "name": "stdout",
     "output_type": "stream",
     "text": [
      "4\n"
     ]
    }
   ],
   "source": [
    "n=[int(s) for s in input().split()]\n",
    "even=0\n",
    "odd=0\n",
    "for i in n:\n",
    "    if i%2==0:\n",
    "        even +=i\n",
    "    else:\n",
    "        odd +=i\n",
    "print(even-odd)"
   ]
  },
  {
   "cell_type": "markdown",
   "id": "d4360e70-1ce4-403a-ad1a-91ca91dbcba2",
   "metadata": {},
   "source": [
    "## List Slicing"
   ]
  },
  {
   "cell_type": "code",
   "execution_count": 2,
   "id": "4de3bd61-63f2-4db5-b453-4eeb38aa5257",
   "metadata": {},
   "outputs": [
    {
     "data": {
      "text/plain": [
       "[5, 11, 345, 32, 55, 33, 5]"
      ]
     },
     "execution_count": 2,
     "metadata": {},
     "output_type": "execute_result"
    }
   ],
   "source": [
    "a=[3,4,5,2,5,33,55,32,345,11,5]\n",
    "a[:3:-1]"
   ]
  },
  {
   "cell_type": "code",
   "execution_count": 3,
   "id": "28bcef59-1315-487a-b415-4f8ecce5e9d8",
   "metadata": {},
   "outputs": [
    {
     "data": {
      "text/plain": [
       "[3, 4, 5, 2, 5, 33, 55, 32, 345, 11, 5]"
      ]
     },
     "execution_count": 3,
     "metadata": {},
     "output_type": "execute_result"
    }
   ],
   "source": [
    "a"
   ]
  },
  {
   "cell_type": "code",
   "execution_count": 4,
   "id": "2c24c937-8a23-4baf-9f01-f47cd5b18084",
   "metadata": {},
   "outputs": [
    {
     "data": {
      "text/plain": [
       "[5, 345, 55, 5, 5]"
      ]
     },
     "execution_count": 4,
     "metadata": {},
     "output_type": "execute_result"
    }
   ],
   "source": [
    "a[10:1:-2]"
   ]
  },
  {
   "cell_type": "code",
   "execution_count": 5,
   "id": "182553af-67de-4ff0-95a7-6944205bcb3f",
   "metadata": {},
   "outputs": [
    {
     "data": {
      "text/plain": [
       "[3, 5, 5, 55, 345, 5]"
      ]
     },
     "execution_count": 5,
     "metadata": {},
     "output_type": "execute_result"
    }
   ],
   "source": [
    "a[::2]"
   ]
  },
  {
   "cell_type": "markdown",
   "id": "90b12a59-6831-443f-a6dc-bf2d5712aa98",
   "metadata": {},
   "source": [
    "## Multidimensional List"
   ]
  },
  {
   "cell_type": "code",
   "execution_count": 6,
   "id": "4e168b05-633f-4779-a9e2-2a4b93a000ab",
   "metadata": {},
   "outputs": [
    {
     "data": {
      "text/plain": [
       "[[1, 2, 3], [5, 4, 3, 3], [56, 4, 3]]"
      ]
     },
     "execution_count": 6,
     "metadata": {},
     "output_type": "execute_result"
    }
   ],
   "source": [
    "a=[[1,2,3],[5,4,3,3],[56,4,3]]\n",
    "a"
   ]
  },
  {
   "cell_type": "code",
   "execution_count": 7,
   "id": "c75bb6d8-a778-4c63-8ac8-b99504e43af6",
   "metadata": {},
   "outputs": [
    {
     "data": {
      "text/plain": [
       "56"
      ]
     },
     "execution_count": 7,
     "metadata": {},
     "output_type": "execute_result"
    }
   ],
   "source": [
    "a[2][0]"
   ]
  },
  {
   "cell_type": "markdown",
   "id": "a10bb1b2-ac7b-4885-b792-5374ce558b10",
   "metadata": {},
   "source": [
    "## Taking input of multidimensional list"
   ]
  },
  {
   "cell_type": "code",
   "execution_count": 9,
   "id": "b52ed535-7661-4dee-a607-34dded8425fa",
   "metadata": {},
   "outputs": [
    {
     "name": "stdin",
     "output_type": "stream",
     "text": [
      " 3 4\n",
      " 3 3 4 4 \n",
      " 3 5 2\n",
      " 1 4 3 \n"
     ]
    },
    {
     "data": {
      "text/plain": [
       "[[3, 3, 4, 4], [3, 5, 2], [1, 4, 3]]"
      ]
     },
     "execution_count": 9,
     "metadata": {},
     "output_type": "execute_result"
    }
   ],
   "source": [
    "sizes=input().split()\n",
    "m=int(sizes[0])\n",
    "n=int(sizes[1])\n",
    "l=[]\n",
    "for i in range(m):\n",
    "    next=[int(s) for s in input().split()]\n",
    "    l.append(next)\n",
    "l"
   ]
  },
  {
   "cell_type": "code",
   "execution_count": 15,
   "id": "808a4f21-f44a-407f-89da-fa44adea15d8",
   "metadata": {},
   "outputs": [
    {
     "name": "stdin",
     "output_type": "stream",
     "text": [
      " 3 3\n",
      " 1 2 3 4 5 6 7 8 9\n"
     ]
    },
    {
     "name": "stdout",
     "output_type": "stream",
     "text": [
      "[[1, 2, 3], [4, 5, 6], [7, 8, 9]]\n"
     ]
    }
   ],
   "source": [
    "sizes=input().split()\n",
    "m=int(sizes[0])\n",
    "n=int(sizes[1])\n",
    "l2=[int(s) for s in input().split()]\n",
    "l=[]\n",
    "for i in range(m):\n",
    "    st=n*i\n",
    "    end=n*(i+1)\n",
    "    next=l2[st:end]\n",
    "    l.append(next)\n",
    "   # print(l)\n",
    "    #print(next)\n",
    "#print(l2)\n",
    "print(l)"
   ]
  },
  {
   "cell_type": "markdown",
   "id": "d9cf4439-41e6-4fdb-bd87-a4adbf81b0ef",
   "metadata": {},
   "source": [
    "## Creating 2D List"
   ]
  },
  {
   "cell_type": "code",
   "execution_count": 16,
   "id": "0bd561d2-a5e5-47b9-b201-5ad77fcb29fb",
   "metadata": {},
   "outputs": [
    {
     "data": {
      "text/plain": [
       "[1, 1, 1, 1, 1, 1, 1, 1, 1, 1]"
      ]
     },
     "execution_count": 16,
     "metadata": {},
     "output_type": "execute_result"
    }
   ],
   "source": [
    "a=[1 for i in range(10)]\n",
    "a"
   ]
  },
  {
   "cell_type": "code",
   "execution_count": 17,
   "id": "cb4dfe55-8bbd-439c-be82-8b62b4363d7a",
   "metadata": {},
   "outputs": [
    {
     "data": {
      "text/plain": [
       "[0, 1, 2, 3, 4, 5, 6, 7, 8, 9]"
      ]
     },
     "execution_count": 17,
     "metadata": {},
     "output_type": "execute_result"
    }
   ],
   "source": [
    "a=[i for i in range(10)]\n",
    "a"
   ]
  },
  {
   "cell_type": "code",
   "execution_count": 19,
   "id": "6e130e36-0b70-43ab-8068-8f023db12a61",
   "metadata": {},
   "outputs": [
    {
     "data": {
      "text/plain": [
       "[[0], [0], [0], [0], [0], [0], [0], [0], [0], [0]]"
      ]
     },
     "execution_count": 19,
     "metadata": {},
     "output_type": "execute_result"
    }
   ],
   "source": [
    "a=[[0] for i in range(10)]\n",
    "a\n"
   ]
  },
  {
   "cell_type": "code",
   "execution_count": 20,
   "id": "f4211d8b-e686-4c4c-aed8-b4a5c7b4960d",
   "metadata": {},
   "outputs": [
    {
     "data": {
      "text/plain": [
       "[[1, 2],\n",
       " [1, 2],\n",
       " [1, 2],\n",
       " [1, 2],\n",
       " [1, 2],\n",
       " [1, 2],\n",
       " [1, 2],\n",
       " [1, 2],\n",
       " [1, 2],\n",
       " [1, 2]]"
      ]
     },
     "execution_count": 20,
     "metadata": {},
     "output_type": "execute_result"
    }
   ],
   "source": [
    "a=[[1,2] for i in range(10)]\n",
    "a\n"
   ]
  },
  {
   "cell_type": "code",
   "execution_count": 21,
   "id": "c2a30c8a-9839-43cc-9b85-2eb89e77af3c",
   "metadata": {},
   "outputs": [
    {
     "data": {
      "text/plain": [
       "[[0, 0, 0, 0, 0],\n",
       " [0, 0, 0, 0, 0],\n",
       " [0, 0, 0, 0, 0],\n",
       " [0, 0, 0, 0, 0],\n",
       " [0, 0, 0, 0, 0],\n",
       " [0, 0, 0, 0, 0],\n",
       " [0, 0, 0, 0, 0],\n",
       " [0, 0, 0, 0, 0],\n",
       " [0, 0, 0, 0, 0],\n",
       " [0, 0, 0, 0, 0]]"
      ]
     },
     "execution_count": 21,
     "metadata": {},
     "output_type": "execute_result"
    }
   ],
   "source": [
    "a=[[0 for j in range(5)] for i in range(10)]\n",
    "a\n"
   ]
  },
  {
   "cell_type": "code",
   "execution_count": null,
   "id": "4b6fdf6d-205c-40f6-b77e-36c11e128d1a",
   "metadata": {},
   "outputs": [],
   "source": []
  }
 ],
 "metadata": {
  "kernelspec": {
   "display_name": "Python 3 (ipykernel)",
   "language": "python",
   "name": "python3"
  },
  "language_info": {
   "codemirror_mode": {
    "name": "ipython",
    "version": 3
   },
   "file_extension": ".py",
   "mimetype": "text/x-python",
   "name": "python",
   "nbconvert_exporter": "python",
   "pygments_lexer": "ipython3",
   "version": "3.11.7"
  }
 },
 "nbformat": 4,
 "nbformat_minor": 5
}
