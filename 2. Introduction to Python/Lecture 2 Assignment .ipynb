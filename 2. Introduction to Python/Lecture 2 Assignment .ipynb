{
 "cells": [
  {
   "cell_type": "markdown",
   "id": "8f6797a7-9720-44bc-a48a-7ed5ee6e79f7",
   "metadata": {},
   "source": [
    "##  Q. Find the Average of Marks"
   ]
  },
  {
   "cell_type": "code",
   "execution_count": 1,
   "id": "f663bbe0-c226-4f5f-958b-b8efb48568f5",
   "metadata": {},
   "outputs": [
    {
     "name": "stdin",
     "output_type": "stream",
     "text": [
      " 50\n",
      " 30\n",
      " 40\n"
     ]
    },
    {
     "name": "stdout",
     "output_type": "stream",
     "text": [
      "40.0\n"
     ]
    }
   ],
   "source": [
    "a=int(input())\n",
    "b=int(input())\n",
    "c=int(input())\n",
    "avr=(a+b+c)/3\n",
    "print(avr)"
   ]
  },
  {
   "cell_type": "markdown",
   "id": "7e2a92ac-e1b7-4e35-8bfc-deac898cddcf",
   "metadata": {},
   "source": [
    "## Q. Find the X raised to power N"
   ]
  },
  {
   "cell_type": "code",
   "execution_count": 4,
   "id": "d6519215-ace5-45a3-91a7-03ee43b6d779",
   "metadata": {},
   "outputs": [
    {
     "name": "stdin",
     "output_type": "stream",
     "text": [
      "Enter your integer number 10\n",
      "Enter its exponential power  4\n"
     ]
    },
    {
     "data": {
      "text/plain": [
       "10000"
      ]
     },
     "execution_count": 4,
     "metadata": {},
     "output_type": "execute_result"
    }
   ],
   "source": [
    "x= int(input(\"Enter your integer number\"))\n",
    "n=int(input(\"Enter its exponential power \"))\n",
    "x**n"
   ]
  },
  {
   "cell_type": "markdown",
   "id": "081f6832-4335-48bb-a6e5-9f748afdc559",
   "metadata": {},
   "source": [
    "## Q. Find common difference of AP"
   ]
  },
  {
   "cell_type": "markdown",
   "id": "4ce12d68-6647-4050-8d8b-d682fdbdd70c",
   "metadata": {},
   "source": [
    "a=int(input())\n",
    "b=int(input())\n",
    "c=int(input())\n",
    "b-a"
   ]
  },
  {
   "cell_type": "markdown",
   "id": "b5d0fccd-7c0d-4875-91b1-359760195bf9",
   "metadata": {},
   "source": [
    "## Q. Simple Interest"
   ]
  },
  {
   "cell_type": "code",
   "execution_count": 10,
   "id": "37b61a21-3050-4da2-9c50-48daec8c2c83",
   "metadata": {},
   "outputs": [
    {
     "name": "stdin",
     "output_type": "stream",
     "text": [
      " 100\n",
      " 12\n",
      " 1\n"
     ]
    },
    {
     "name": "stdout",
     "output_type": "stream",
     "text": [
      "112.0\n"
     ]
    }
   ],
   "source": [
    "principal =int(input())\n",
    "rate=float(input())\n",
    "time=int(input())\n",
    "si=(principal*rate*time)/100\n",
    "print(principal+si)"
   ]
  },
  {
   "cell_type": "code",
   "execution_count": 11,
   "id": "8a7230a9-0ace-44e7-aafd-e8e94f5ad4b2",
   "metadata": {},
   "outputs": [
    {
     "name": "stdin",
     "output_type": "stream",
     "text": [
      " 100\n",
      " 12\n",
      " 5\n"
     ]
    },
    {
     "name": "stdout",
     "output_type": "stream",
     "text": [
      "160.0\n"
     ]
    }
   ],
   "source": [
    "principal =int(input())\n",
    "rate=float(input())\n",
    "time=int(input())\n",
    "si=(principal*rate*time)/100\n",
    "print(principal+si)"
   ]
  },
  {
   "cell_type": "code",
   "execution_count": null,
   "id": "544770e4-8110-468c-9903-e1adb53d3170",
   "metadata": {},
   "outputs": [],
   "source": []
  }
 ],
 "metadata": {
  "kernelspec": {
   "display_name": "Python 3 (ipykernel)",
   "language": "python",
   "name": "python3"
  },
  "language_info": {
   "codemirror_mode": {
    "name": "ipython",
    "version": 3
   },
   "file_extension": ".py",
   "mimetype": "text/x-python",
   "name": "python",
   "nbconvert_exporter": "python",
   "pygments_lexer": "ipython3",
   "version": "3.11.7"
  }
 },
 "nbformat": 4,
 "nbformat_minor": 5
}
