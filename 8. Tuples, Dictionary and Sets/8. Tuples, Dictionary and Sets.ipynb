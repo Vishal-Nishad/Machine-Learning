{
 "cells": [
  {
   "cell_type": "markdown",
   "id": "0fdf5bc4-ea6a-4f89-bf3f-9ecb1c9fbf98",
   "metadata": {},
   "source": [
    "## Tuple"
   ]
  },
  {
   "cell_type": "code",
   "execution_count": 1,
   "id": "58c0ee40-cd79-4922-b718-fb432e47b76f",
   "metadata": {},
   "outputs": [
    {
     "name": "stdout",
     "output_type": "stream",
     "text": [
      "(2, 3, 4, 3, 4, 2, 5, 6)\n"
     ]
    }
   ],
   "source": [
    "a=(2,3,4)\n",
    "b=3,4,2,5,6\n",
    "print(a+b)"
   ]
  },
  {
   "cell_type": "code",
   "execution_count": 3,
   "id": "fc83c9d5-011d-43d5-a7f6-b266ccd8d8a0",
   "metadata": {},
   "outputs": [
    {
     "data": {
      "text/plain": [
       "(2, 3, 4, 3, 4, 2, 5, 6)"
      ]
     },
     "execution_count": 3,
     "metadata": {},
     "output_type": "execute_result"
    }
   ],
   "source": [
    "c=a+b\n",
    "c"
   ]
  },
  {
   "cell_type": "code",
   "execution_count": 4,
   "id": "6871dc47-1d0b-4fa0-b2f1-87989a9c4668",
   "metadata": {},
   "outputs": [
    {
     "ename": "TypeError",
     "evalue": "'tuple' object does not support item assignment",
     "output_type": "error",
     "traceback": [
      "\u001b[1;31m---------------------------------------------------------------------------\u001b[0m",
      "\u001b[1;31mTypeError\u001b[0m                                 Traceback (most recent call last)",
      "Cell \u001b[1;32mIn[4], line 1\u001b[0m\n\u001b[1;32m----> 1\u001b[0m a[\u001b[38;5;241m0\u001b[39m]\u001b[38;5;241m=\u001b[39m\u001b[38;5;241m5\u001b[39m\n",
      "\u001b[1;31mTypeError\u001b[0m: 'tuple' object does not support item assignment"
     ]
    }
   ],
   "source": [
    "a[0]=5"
   ]
  },
  {
   "cell_type": "code",
   "execution_count": 5,
   "id": "0923b1a6-7a94-4870-84e2-b781a37cb234",
   "metadata": {},
   "outputs": [
    {
     "data": {
      "text/plain": [
       "2"
      ]
     },
     "execution_count": 5,
     "metadata": {},
     "output_type": "execute_result"
    }
   ],
   "source": [
    "a[0]"
   ]
  },
  {
   "cell_type": "code",
   "execution_count": 9,
   "id": "6cda0bb1-0148-489d-a1d6-de96b49f86aa",
   "metadata": {},
   "outputs": [
    {
     "name": "stdout",
     "output_type": "stream",
     "text": [
      "True\n"
     ]
    },
    {
     "data": {
      "text/plain": [
       "False"
      ]
     },
     "execution_count": 9,
     "metadata": {},
     "output_type": "execute_result"
    }
   ],
   "source": [
    "print(2 in a)\n",
    "5 in a"
   ]
  },
  {
   "cell_type": "code",
   "execution_count": 10,
   "id": "9a6b2888-c050-4542-a2ba-afe5395df97f",
   "metadata": {},
   "outputs": [
    {
     "data": {
      "text/plain": [
       "2"
      ]
     },
     "execution_count": 10,
     "metadata": {},
     "output_type": "execute_result"
    }
   ],
   "source": [
    "min(a)"
   ]
  },
  {
   "cell_type": "code",
   "execution_count": 11,
   "id": "d5109716-1ba0-4806-859a-d8735d97495a",
   "metadata": {},
   "outputs": [
    {
     "data": {
      "text/plain": [
       "4"
      ]
     },
     "execution_count": 11,
     "metadata": {},
     "output_type": "execute_result"
    }
   ],
   "source": [
    "max(a)"
   ]
  },
  {
   "cell_type": "code",
   "execution_count": 34,
   "id": "d0105b49-d9ca-4d80-8a65-904717f3a189",
   "metadata": {},
   "outputs": [
    {
     "name": "stdout",
     "output_type": "stream",
     "text": [
      "[(2, 3, 4), 6]\n"
     ]
    },
    {
     "ename": "TypeError",
     "evalue": "'tuple' object does not support item assignment",
     "output_type": "error",
     "traceback": [
      "\u001b[1;31m---------------------------------------------------------------------------\u001b[0m",
      "\u001b[1;31mTypeError\u001b[0m                                 Traceback (most recent call last)",
      "Cell \u001b[1;32mIn[34], line 4\u001b[0m\n\u001b[0;32m      2\u001b[0m l\u001b[38;5;241m.\u001b[39mappend(\u001b[38;5;241m6\u001b[39m)\n\u001b[0;32m      3\u001b[0m \u001b[38;5;28mprint\u001b[39m(l)\n\u001b[1;32m----> 4\u001b[0m l[\u001b[38;5;241m0\u001b[39m][\u001b[38;5;241m1\u001b[39m]\u001b[38;5;241m=\u001b[39m\u001b[38;5;241m8\u001b[39m\n",
      "\u001b[1;31mTypeError\u001b[0m: 'tuple' object does not support item assignment"
     ]
    }
   ],
   "source": [
    "l=[a]\n",
    "l.append(6)\n",
    "print(l)\n",
    "l[0][1]=8"
   ]
  },
  {
   "cell_type": "code",
   "execution_count": 33,
   "id": "fd374b1a-6d17-49fe-8143-62a9f604847f",
   "metadata": {},
   "outputs": [
    {
     "data": {
      "text/plain": [
       "[3, 45, [111, 8]]"
      ]
     },
     "execution_count": 33,
     "metadata": {},
     "output_type": "execute_result"
    }
   ],
   "source": [
    "l=[3,45,[3,8]]\n",
    "l[2][0]=111\n",
    "l"
   ]
  },
  {
   "cell_type": "markdown",
   "id": "d98db85a-4fde-477f-8293-dc30e3b09d33",
   "metadata": {},
   "source": [
    "## . Ways of creating of dictionary"
   ]
  },
  {
   "cell_type": "markdown",
   "id": "729d09a1-8ff5-4ba1-bc24-97ffd198ccab",
   "metadata": {},
   "source": [
    "## first"
   ]
  },
  {
   "cell_type": "code",
   "execution_count": 37,
   "id": "dd48bc4a-23d3-4500-9444-a1ed5b4afd1d",
   "metadata": {},
   "outputs": [
    {
     "data": {
      "text/plain": [
       "{1: 'a', 2: 'b', 3: (2, 3, 4, 3, 4, 2, 5, 6), 'cd': 5, 'de': 10}"
      ]
     },
     "execution_count": 37,
     "metadata": {},
     "output_type": "execute_result"
    }
   ],
   "source": [
    "a={1:'a',2:'b',3:c,\"cd\":5,\"de\":10}\n",
    "a"
   ]
  },
  {
   "cell_type": "markdown",
   "id": "9d9e1495-3891-4952-aae2-ecdf28912cf4",
   "metadata": {},
   "source": [
    "## Second"
   ]
  },
  {
   "cell_type": "code",
   "execution_count": 38,
   "id": "f8632054-7e17-45ba-afc2-1fcc279d903b",
   "metadata": {},
   "outputs": [
    {
     "data": {
      "text/plain": [
       "{1: 'a', 2: 'b', 3: (2, 3, 4, 3, 4, 2, 5, 6), 'cd': 5, 'de': 10}"
      ]
     },
     "execution_count": 38,
     "metadata": {},
     "output_type": "execute_result"
    }
   ],
   "source": [
    "bc=a.copy()\n",
    "bc"
   ]
  },
  {
   "cell_type": "code",
   "execution_count": 39,
   "id": "0350984e-a1b8-4e65-aacc-e407d9c9ad34",
   "metadata": {},
   "outputs": [
    {
     "data": {
      "text/plain": [
       "{1: 'a', 'b': 2, 2: 4}"
      ]
     },
     "execution_count": 39,
     "metadata": {},
     "output_type": "execute_result"
    }
   ],
   "source": [
    "second=dict([(1,'a'),('b',2),(2,4)])\n",
    "second"
   ]
  },
  {
   "cell_type": "markdown",
   "id": "f381b024-be3c-4973-8f8c-5b560875ec39",
   "metadata": {},
   "source": [
    "## Third"
   ]
  },
  {
   "cell_type": "code",
   "execution_count": 46,
   "id": "00b13649-520b-46e9-8d45-b787a30111a6",
   "metadata": {},
   "outputs": [
    {
     "data": {
      "text/plain": [
       "{'key': 3, 'abc': 3, 'vishal': 3}"
      ]
     },
     "execution_count": 46,
     "metadata": {},
     "output_type": "execute_result"
    }
   ],
   "source": [
    "third=dict.fromkeys(['key','abc','vishal'],3)  #It take only one common value for all the keys\n",
    "third"
   ]
  },
  {
   "cell_type": "markdown",
   "id": "ff282a4f-681b-46cd-bb6c-4c56a5543b3d",
   "metadata": {},
   "source": [
    "## Dictionary Functions"
   ]
  },
  {
   "cell_type": "code",
   "execution_count": 47,
   "id": "fe829d9d-7e9b-44fa-aa61-9d6a8013f263",
   "metadata": {},
   "outputs": [
    {
     "data": {
      "text/plain": [
       "dict_values(['a', 'b', (2, 3, 4, 3, 4, 2, 5, 6), 5, 10])"
      ]
     },
     "execution_count": 47,
     "metadata": {},
     "output_type": "execute_result"
    }
   ],
   "source": [
    "a.values()"
   ]
  },
  {
   "cell_type": "code",
   "execution_count": 48,
   "id": "5cbe00ff-145b-4fe1-a0ce-07705a966bd1",
   "metadata": {},
   "outputs": [
    {
     "data": {
      "text/plain": [
       "dict_keys([1, 2, 3, 'cd', 'de'])"
      ]
     },
     "execution_count": 48,
     "metadata": {},
     "output_type": "execute_result"
    }
   ],
   "source": [
    "a.keys()"
   ]
  },
  {
   "cell_type": "code",
   "execution_count": 49,
   "id": "6a40da72-dbff-499c-a7f5-7885bf56c67c",
   "metadata": {},
   "outputs": [
    {
     "data": {
      "text/plain": [
       "dict_items([(1, 'a'), (2, 'b'), (3, (2, 3, 4, 3, 4, 2, 5, 6)), ('cd', 5), ('de', 10)])"
      ]
     },
     "execution_count": 49,
     "metadata": {},
     "output_type": "execute_result"
    }
   ],
   "source": [
    "a.items()"
   ]
  },
  {
   "cell_type": "code",
   "execution_count": 50,
   "id": "d0b24062-a6be-4dc9-84fa-af2065b7701e",
   "metadata": {},
   "outputs": [
    {
     "name": "stdout",
     "output_type": "stream",
     "text": [
      "1 a\n",
      "2 b\n",
      "3 (2, 3, 4, 3, 4, 2, 5, 6)\n",
      "cd 5\n",
      "de 10\n"
     ]
    }
   ],
   "source": [
    "for i in a:\n",
    "    print(i,a[i])"
   ]
  },
  {
   "cell_type": "code",
   "execution_count": 52,
   "id": "49c3c393-fba8-43e9-b7b0-8f7256d30b2d",
   "metadata": {},
   "outputs": [
    {
     "name": "stdout",
     "output_type": "stream",
     "text": [
      "a\n",
      "b\n",
      "(2, 3, 4, 3, 4, 2, 5, 6)\n",
      "5\n",
      "10\n"
     ]
    }
   ],
   "source": [
    "for i in a.values():\n",
    "    print(i)\n",
    "    "
   ]
  },
  {
   "cell_type": "code",
   "execution_count": 53,
   "id": "bc4ae6ba-ed71-47e0-a64a-99724de1014b",
   "metadata": {},
   "outputs": [
    {
     "data": {
      "text/plain": [
       "(3, 4, 2, 5, 6)"
      ]
     },
     "execution_count": 53,
     "metadata": {},
     "output_type": "execute_result"
    }
   ],
   "source": [
    "b"
   ]
  },
  {
   "cell_type": "code",
   "execution_count": 54,
   "id": "61e5d32b-6041-492a-9b6d-e868d17f2f2b",
   "metadata": {},
   "outputs": [
    {
     "name": "stdout",
     "output_type": "stream",
     "text": [
      "{1: 'a', 2: 'b', 3: (2, 3, 4, 3, 4, 2, 5, 6), 'cd': 5, 'de': 10}\n"
     ]
    },
    {
     "data": {
      "text/plain": [
       "{1: 'a', 'b': 2, 2: 4}"
      ]
     },
     "execution_count": 54,
     "metadata": {},
     "output_type": "execute_result"
    }
   ],
   "source": [
    "print(bc)\n",
    "second\n"
   ]
  },
  {
   "cell_type": "code",
   "execution_count": 55,
   "id": "b30e716d-e5e6-4d2d-917e-b32571886a07",
   "metadata": {},
   "outputs": [
    {
     "data": {
      "text/plain": [
       "{1: 'a', 2: 4, 3: (2, 3, 4, 3, 4, 2, 5, 6), 'cd': 5, 'de': 10, 'b': 2}"
      ]
     },
     "execution_count": 55,
     "metadata": {},
     "output_type": "execute_result"
    }
   ],
   "source": [
    "bc.update(second)\n",
    "bc"
   ]
  },
  {
   "cell_type": "code",
   "execution_count": 56,
   "id": "dec223a1-11fd-4487-9063-24dac204b51f",
   "metadata": {},
   "outputs": [
    {
     "data": {
      "text/plain": [
       "(2, 3, 4, 3, 4, 2, 5, 6)"
      ]
     },
     "execution_count": 56,
     "metadata": {},
     "output_type": "execute_result"
    }
   ],
   "source": [
    "bc.pop(3)"
   ]
  },
  {
   "cell_type": "code",
   "execution_count": 57,
   "id": "e4c46851-b9e2-4441-8999-f180cab5d092",
   "metadata": {},
   "outputs": [
    {
     "data": {
      "text/plain": [
       "{1: 'a', 2: 4, 'cd': 5, 'de': 10, 'b': 2}"
      ]
     },
     "execution_count": 57,
     "metadata": {},
     "output_type": "execute_result"
    }
   ],
   "source": [
    "bc"
   ]
  },
  {
   "cell_type": "code",
   "execution_count": 58,
   "id": "cf8016d5-e753-44e8-b252-00af17a26e3f",
   "metadata": {},
   "outputs": [],
   "source": [
    "bc[1]=100"
   ]
  },
  {
   "cell_type": "code",
   "execution_count": 59,
   "id": "f53f9b12-ef6a-4740-8692-4114f9d2119c",
   "metadata": {},
   "outputs": [
    {
     "data": {
      "text/plain": [
       "{1: 100, 2: 4, 'cd': 5, 'de': 10, 'b': 2}"
      ]
     },
     "execution_count": 59,
     "metadata": {},
     "output_type": "execute_result"
    }
   ],
   "source": [
    "bc"
   ]
  },
  {
   "cell_type": "code",
   "execution_count": null,
   "id": "1a4e531e-f868-4a79-adbc-75c12184b9eb",
   "metadata": {},
   "outputs": [],
   "source": []
  },
  {
   "cell_type": "markdown",
   "id": "ef323a61-b6bf-4a51-8af9-a80c3f947b49",
   "metadata": {},
   "source": [
    "## SETS"
   ]
  },
  {
   "cell_type": "code",
   "execution_count": 60,
   "id": "ed52894e-a869-4070-8b86-f25672a2a35c",
   "metadata": {},
   "outputs": [
    {
     "name": "stdout",
     "output_type": "stream",
     "text": [
      "<class 'set'>\n"
     ]
    }
   ],
   "source": [
    "a={3,4,2,'abv'}\n",
    "print(type(a))"
   ]
  },
  {
   "cell_type": "markdown",
   "id": "61b302e7-2797-42ea-b34f-fa994938686e",
   "metadata": {},
   "source": [
    "## Functions for SETS"
   ]
  },
  {
   "cell_type": "code",
   "execution_count": 61,
   "id": "5d3b3cd6-c2ee-4452-82fa-8adc9938667e",
   "metadata": {},
   "outputs": [],
   "source": [
    "a={1,2,9,8}\n",
    "b={5,4,2,1}\n"
   ]
  },
  {
   "cell_type": "code",
   "execution_count": 62,
   "id": "43235649-c96e-4944-9222-9ebc31349fce",
   "metadata": {},
   "outputs": [
    {
     "data": {
      "text/plain": [
       "{1, 2, 4, 5, 8, 9}"
      ]
     },
     "execution_count": 62,
     "metadata": {},
     "output_type": "execute_result"
    }
   ],
   "source": [
    "a.union(b)"
   ]
  },
  {
   "cell_type": "code",
   "execution_count": 63,
   "id": "9e06617e-06fa-478a-8b8d-9a0331b91e7d",
   "metadata": {},
   "outputs": [
    {
     "data": {
      "text/plain": [
       "{1, 2}"
      ]
     },
     "execution_count": 63,
     "metadata": {},
     "output_type": "execute_result"
    }
   ],
   "source": [
    "a.intersection(b)"
   ]
  },
  {
   "cell_type": "code",
   "execution_count": 64,
   "id": "491b1bb0-07b4-47ce-b7f7-11704bd3f535",
   "metadata": {},
   "outputs": [
    {
     "data": {
      "text/plain": [
       "{8, 9}"
      ]
     },
     "execution_count": 64,
     "metadata": {},
     "output_type": "execute_result"
    }
   ],
   "source": [
    "a.difference(b)"
   ]
  },
  {
   "cell_type": "code",
   "execution_count": 65,
   "id": "09b1acdb-d3a3-4815-a885-faf19eb49327",
   "metadata": {},
   "outputs": [
    {
     "data": {
      "text/plain": [
       "{4, 5}"
      ]
     },
     "execution_count": 65,
     "metadata": {},
     "output_type": "execute_result"
    }
   ],
   "source": [
    "b.difference(a)"
   ]
  },
  {
   "cell_type": "code",
   "execution_count": 66,
   "id": "f6a34e47-cead-4212-8e0e-16e48b48a4ff",
   "metadata": {},
   "outputs": [],
   "source": [
    "b.difference_update(a)"
   ]
  },
  {
   "cell_type": "code",
   "execution_count": 67,
   "id": "e68da4da-d82a-4d5a-9d66-db0e38f9d847",
   "metadata": {},
   "outputs": [
    {
     "data": {
      "text/plain": [
       "{4, 5}"
      ]
     },
     "execution_count": 67,
     "metadata": {},
     "output_type": "execute_result"
    }
   ],
   "source": [
    "b"
   ]
  },
  {
   "cell_type": "code",
   "execution_count": 68,
   "id": "0e43d428-1125-4f03-8f01-0e417eb23ae4",
   "metadata": {},
   "outputs": [
    {
     "name": "stdout",
     "output_type": "stream",
     "text": [
      "{8, 1, 2, 9} {4, 5}\n"
     ]
    }
   ],
   "source": [
    "print(a,b)"
   ]
  },
  {
   "cell_type": "code",
   "execution_count": 69,
   "id": "fdd4524e-2e64-4404-800d-611a79202eb2",
   "metadata": {},
   "outputs": [],
   "source": [
    "a.difference_update(b)"
   ]
  },
  {
   "cell_type": "code",
   "execution_count": 70,
   "id": "57d5d1cc-862b-4d46-80c7-c5c89aec69a6",
   "metadata": {},
   "outputs": [
    {
     "data": {
      "text/plain": [
       "{1, 2, 8, 9}"
      ]
     },
     "execution_count": 70,
     "metadata": {},
     "output_type": "execute_result"
    }
   ],
   "source": [
    "a"
   ]
  },
  {
   "cell_type": "code",
   "execution_count": 71,
   "id": "330af96b-0351-4bc2-bc0e-f83b0e49bcd2",
   "metadata": {},
   "outputs": [],
   "source": [
    "a.add(10)"
   ]
  },
  {
   "cell_type": "code",
   "execution_count": 72,
   "id": "0ac089a8-ba49-45d6-b202-43d9eaa6540c",
   "metadata": {},
   "outputs": [
    {
     "data": {
      "text/plain": [
       "{1, 2, 8, 9, 10}"
      ]
     },
     "execution_count": 72,
     "metadata": {},
     "output_type": "execute_result"
    }
   ],
   "source": [
    "a"
   ]
  },
  {
   "cell_type": "code",
   "execution_count": 75,
   "id": "b4df066c-c725-40a5-86a0-23c72956de16",
   "metadata": {},
   "outputs": [],
   "source": [
    "c={3}"
   ]
  },
  {
   "cell_type": "code",
   "execution_count": 77,
   "id": "444b0402-ee42-4d96-9d7c-4f8dd13b6d4c",
   "metadata": {},
   "outputs": [],
   "source": [
    "c.add(1)"
   ]
  },
  {
   "cell_type": "code",
   "execution_count": 78,
   "id": "d6d069e8-fd62-4852-8778-011eee4a337e",
   "metadata": {},
   "outputs": [
    {
     "data": {
      "text/plain": [
       "{1, 3}"
      ]
     },
     "execution_count": 78,
     "metadata": {},
     "output_type": "execute_result"
    }
   ],
   "source": [
    "c"
   ]
  },
  {
   "cell_type": "code",
   "execution_count": null,
   "id": "0de881e7-fd0f-4a2a-bc84-7624648ecabc",
   "metadata": {},
   "outputs": [],
   "source": []
  }
 ],
 "metadata": {
  "kernelspec": {
   "display_name": "Python 3 (ipykernel)",
   "language": "python",
   "name": "python3"
  },
  "language_info": {
   "codemirror_mode": {
    "name": "ipython",
    "version": 3
   },
   "file_extension": ".py",
   "mimetype": "text/x-python",
   "name": "python",
   "nbconvert_exporter": "python",
   "pygments_lexer": "ipython3",
   "version": "3.11.7"
  }
 },
 "nbformat": 4,
 "nbformat_minor": 5
}
