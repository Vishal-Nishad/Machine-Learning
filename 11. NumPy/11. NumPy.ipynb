{
 "cells": [
  {
   "cell_type": "markdown",
   "id": "1b0b509a-4e07-49fe-b6af-317e2282745b",
   "metadata": {},
   "source": [
    "## Why to use NumPy\n",
    "* Less Requirment of memory Size\n",
    "* Much Faster than Python List\n",
    "* Convenience (Syntax to write code is easy and simple)\n",
    "* More Functionality"
   ]
  },
  {
   "cell_type": "code",
   "execution_count": 5,
   "id": "d630c2b3-1b01-4654-a334-d2df1e155452",
   "metadata": {},
   "outputs": [
    {
     "name": "stdout",
     "output_type": "stream",
     "text": [
      "[1, 2, 3, 4, 5, 6, 7, 8, 9, 10, 11, 12, 13, 14, 15, 16, 17, 18, 19, 20, 21, 22, 23, 24, 25, 26, 27, 28, 29, 30, 31, 32, 33, 34, 35, 36, 37, 38, 39, 40, 41, 42, 43, 44, 45, 46, 47, 48, 49, 50, 51, 52, 53, 54, 55, 56, 57, 58, 59, 60, 61, 62, 63, 64, 65, 66, 67, 68, 69, 70, 71, 72, 73, 74, 75, 76, 77, 78, 79, 80, 81, 82, 83, 84, 85, 86, 87, 88, 89, 90, 91, 92, 93, 94, 95, 96, 97, 98, 99, 100]\n",
      "\n",
      "[  1   2   3   4   5   6   7   8   9  10  11  12  13  14  15  16  17  18\n",
      "  19  20  21  22  23  24  25  26  27  28  29  30  31  32  33  34  35  36\n",
      "  37  38  39  40  41  42  43  44  45  46  47  48  49  50  51  52  53  54\n",
      "  55  56  57  58  59  60  61  62  63  64  65  66  67  68  69  70  71  72\n",
      "  73  74  75  76  77  78  79  80  81  82  83  84  85  86  87  88  89  90\n",
      "  91  92  93  94  95  96  97  98  99 100]\n"
     ]
    }
   ],
   "source": [
    "## Printing no from 1 to 100 using python list and numpy\n",
    "import numpy as np\n",
    "list_arr=[i for i in range(1,101)]\n",
    "\n",
    "numpy_arr=np.arange(1,101)\n",
    "print(list_arr)\n",
    "print()\n",
    "print(numpy_arr)"
   ]
  },
  {
   "cell_type": "code",
   "execution_count": 7,
   "id": "77cfc3cb-4dbe-4d84-a217-55c77fd7e91e",
   "metadata": {},
   "outputs": [
    {
     "name": "stdout",
     "output_type": "stream",
     "text": [
      "4\n",
      "100\n",
      "400\n"
     ]
    }
   ],
   "source": [
    "print(numpy_arr.itemsize)\n",
    "print(numpy_arr.size)\n",
    "print(numpy_arr.itemsize*numpy_arr.size)"
   ]
  },
  {
   "cell_type": "code",
   "execution_count": 9,
   "id": "a862528e-52d4-4c37-89a4-83d90b722dea",
   "metadata": {},
   "outputs": [
    {
     "name": "stdout",
     "output_type": "stream",
     "text": [
      "2800\n"
     ]
    }
   ],
   "source": [
    "import sys\n",
    "print(sys.getsizeof(1)*len(list_arr))       "
   ]
  },
  {
   "cell_type": "markdown",
   "id": "6fe90762-d40a-40a9-83ca-d66ac50cd1b8",
   "metadata": {},
   "source": [
    "## Creating NumPy array"
   ]
  },
  {
   "cell_type": "code",
   "execution_count": 11,
   "id": "6e54bc6d-ce04-4086-88b6-3f02ba6be68d",
   "metadata": {},
   "outputs": [
    {
     "name": "stdout",
     "output_type": "stream",
     "text": [
      "[ 1  4  5  2 35  5]\n",
      "<class 'numpy.ndarray'>\n"
     ]
    }
   ],
   "source": [
    "import numpy as np\n",
    "a=[1,4,5,2,35,5]\n",
    "b=np.array(a)\n",
    "print(b)\n",
    "print(type(b))"
   ]
  },
  {
   "cell_type": "markdown",
   "id": "43b45834-9785-41b5-9f9f-32cce034d87e",
   "metadata": {},
   "source": [
    "## numpy array does not support inhomogeneous elements"
   ]
  },
  {
   "cell_type": "code",
   "execution_count": 13,
   "id": "b0f68cc9-6bcb-4773-869b-aa8fbca49780",
   "metadata": {},
   "outputs": [
    {
     "ename": "ValueError",
     "evalue": "setting an array element with a sequence. The requested array has an inhomogeneous shape after 1 dimensions. The detected shape was (5,) + inhomogeneous part.",
     "output_type": "error",
     "traceback": [
      "\u001b[1;31m---------------------------------------------------------------------------\u001b[0m",
      "\u001b[1;31mValueError\u001b[0m                                Traceback (most recent call last)",
      "Cell \u001b[1;32mIn[13], line 3\u001b[0m\n\u001b[0;32m      1\u001b[0m \u001b[38;5;66;03m## Numpy array is homogeneous , it does not support multiple datatype\u001b[39;00m\n\u001b[0;32m      2\u001b[0m a\u001b[38;5;241m=\u001b[39m[\u001b[38;5;241m3\u001b[39m,\u001b[38;5;241m5\u001b[39m,a,\u001b[38;5;241m65\u001b[39m,\u001b[38;5;241m4.5\u001b[39m]\n\u001b[1;32m----> 3\u001b[0m b\u001b[38;5;241m=\u001b[39mnp\u001b[38;5;241m.\u001b[39marray(a,dtype\u001b[38;5;241m=\u001b[39m\u001b[38;5;28mint\u001b[39m)\n\u001b[0;32m      4\u001b[0m \u001b[38;5;28mprint\u001b[39m(b)\n",
      "\u001b[1;31mValueError\u001b[0m: setting an array element with a sequence. The requested array has an inhomogeneous shape after 1 dimensions. The detected shape was (5,) + inhomogeneous part."
     ]
    }
   ],
   "source": [
    "## Numpy array is homogeneous , it does not support multiple datatype\n",
    "a=[3,5,a,65,4.5]\n",
    "b=np.array(a,dtype=int)\n",
    "print(b)"
   ]
  },
  {
   "cell_type": "code",
   "execution_count": 14,
   "id": "403af120-9af2-487e-9f86-e8b1ec623a46",
   "metadata": {},
   "outputs": [
    {
     "name": "stdout",
     "output_type": "stream",
     "text": [
      "[ 3  5 65  4]\n"
     ]
    }
   ],
   "source": [
    "## Numpy array is homogeneous , it does not support multiple datatype\n",
    "a=[3,5,65,4.5]\n",
    "b=np.array(a,dtype=int)\n",
    "print(b)"
   ]
  },
  {
   "cell_type": "code",
   "execution_count": 15,
   "id": "72e48711-8289-49e2-87df-8a49b13feeb4",
   "metadata": {},
   "outputs": [
    {
     "name": "stdout",
     "output_type": "stream",
     "text": [
      "['3' '5' '65' '4.5']\n"
     ]
    }
   ],
   "source": [
    "## Numpy array is homogeneous , it does not support multiple datatype\n",
    "a=[3,5,65,4.5]\n",
    "b=np.array(a,dtype=str)\n",
    "print(b)"
   ]
  },
  {
   "cell_type": "code",
   "execution_count": 17,
   "id": "4846b881-835c-4649-bd6f-18ed461621b4",
   "metadata": {},
   "outputs": [
    {
     "name": "stdout",
     "output_type": "stream",
     "text": [
      "[ 3  5 65  4  3  5 65  4  3  5 65  4]\n"
     ]
    }
   ],
   "source": [
    "## Numpy array is homogeneous , it does not support multiple datatype\n",
    "a=[3,5,65,4.5]\n",
    "b=np.array(a*3,dtype=int)\n",
    "print(b)"
   ]
  },
  {
   "cell_type": "markdown",
   "id": "9b2001d3-90c5-417e-aadf-b750bb57f21d",
   "metadata": {},
   "source": [
    "## Ways to creat array\n",
    "* np.ones()\n",
    "* np.zeros()\n",
    "* np.full()\n",
    "* np.empty()"
   ]
  },
  {
   "cell_type": "code",
   "execution_count": 29,
   "id": "b8cf3a03-efae-48fe-9f20-03e92eec939e",
   "metadata": {},
   "outputs": [
    {
     "ename": "TypeError",
     "evalue": "Cannot interpret '4' as a data type",
     "output_type": "error",
     "traceback": [
      "\u001b[1;31m---------------------------------------------------------------------------\u001b[0m",
      "\u001b[1;31mTypeError\u001b[0m                                 Traceback (most recent call last)",
      "Cell \u001b[1;32mIn[29], line 1\u001b[0m\n\u001b[1;32m----> 1\u001b[0m a\u001b[38;5;241m=\u001b[39mnp\u001b[38;5;241m.\u001b[39mones(\u001b[38;5;241m3\u001b[39m,\u001b[38;5;241m4\u001b[39m)\n\u001b[0;32m      2\u001b[0m a\n",
      "File \u001b[1;32m~\\anaconda3\\Lib\\site-packages\\numpy\\core\\numeric.py:191\u001b[0m, in \u001b[0;36mones\u001b[1;34m(shape, dtype, order, like)\u001b[0m\n\u001b[0;32m    188\u001b[0m \u001b[38;5;28;01mif\u001b[39;00m like \u001b[38;5;129;01mis\u001b[39;00m \u001b[38;5;129;01mnot\u001b[39;00m \u001b[38;5;28;01mNone\u001b[39;00m:\n\u001b[0;32m    189\u001b[0m     \u001b[38;5;28;01mreturn\u001b[39;00m _ones_with_like(like, shape, dtype\u001b[38;5;241m=\u001b[39mdtype, order\u001b[38;5;241m=\u001b[39morder)\n\u001b[1;32m--> 191\u001b[0m a \u001b[38;5;241m=\u001b[39m empty(shape, dtype, order)\n\u001b[0;32m    192\u001b[0m multiarray\u001b[38;5;241m.\u001b[39mcopyto(a, \u001b[38;5;241m1\u001b[39m, casting\u001b[38;5;241m=\u001b[39m\u001b[38;5;124m'\u001b[39m\u001b[38;5;124munsafe\u001b[39m\u001b[38;5;124m'\u001b[39m)\n\u001b[0;32m    193\u001b[0m \u001b[38;5;28;01mreturn\u001b[39;00m a\n",
      "\u001b[1;31mTypeError\u001b[0m: Cannot interpret '4' as a data type"
     ]
    }
   ],
   "source": [
    "a=np.ones(3,4)\n",
    "a"
   ]
  },
  {
   "cell_type": "code",
   "execution_count": 22,
   "id": "35eb43db-f6f6-4fd6-ac64-7d827491222a",
   "metadata": {},
   "outputs": [
    {
     "data": {
      "text/plain": [
       "array([[1., 1., 1., 1.],\n",
       "       [1., 1., 1., 1.],\n",
       "       [1., 1., 1., 1.]])"
      ]
     },
     "execution_count": 22,
     "metadata": {},
     "output_type": "execute_result"
    }
   ],
   "source": [
    "a=np.ones((3,4))\n",
    "a"
   ]
  },
  {
   "cell_type": "code",
   "execution_count": 23,
   "id": "44f1c2ae-f500-4181-8a3a-a0d37f037019",
   "metadata": {},
   "outputs": [
    {
     "data": {
      "text/plain": [
       "array([[1, 1, 1, 1],\n",
       "       [1, 1, 1, 1],\n",
       "       [1, 1, 1, 1]])"
      ]
     },
     "execution_count": 23,
     "metadata": {},
     "output_type": "execute_result"
    }
   ],
   "source": [
    "a=np.ones((3,4),dtype=int)\n",
    "a"
   ]
  },
  {
   "cell_type": "code",
   "execution_count": 25,
   "id": "a1d67589-622c-4087-8dcd-cc220d8a5822",
   "metadata": {},
   "outputs": [
    {
     "data": {
      "text/plain": [
       "array([[0., 0., 0., 0., 0., 0.],\n",
       "       [0., 0., 0., 0., 0., 0.],\n",
       "       [0., 0., 0., 0., 0., 0.],\n",
       "       [0., 0., 0., 0., 0., 0.],\n",
       "       [0., 0., 0., 0., 0., 0.]])"
      ]
     },
     "execution_count": 25,
     "metadata": {},
     "output_type": "execute_result"
    }
   ],
   "source": [
    "a=np.zeros((5,6))\n",
    "a"
   ]
  },
  {
   "cell_type": "code",
   "execution_count": 28,
   "id": "659d747e-6a33-4737-813e-d536547e232f",
   "metadata": {},
   "outputs": [
    {
     "data": {
      "text/plain": [
       "array([5, 5, 5])"
      ]
     },
     "execution_count": 28,
     "metadata": {},
     "output_type": "execute_result"
    }
   ],
   "source": [
    "a=np.full(3,5)\n",
    "a"
   ]
  },
  {
   "cell_type": "code",
   "execution_count": 30,
   "id": "6eb32fe6-0228-44ea-9458-3b07c1113643",
   "metadata": {},
   "outputs": [
    {
     "ename": "TypeError",
     "evalue": "full() missing 1 required positional argument: 'fill_value'",
     "output_type": "error",
     "traceback": [
      "\u001b[1;31m---------------------------------------------------------------------------\u001b[0m",
      "\u001b[1;31mTypeError\u001b[0m                                 Traceback (most recent call last)",
      "Cell \u001b[1;32mIn[30], line 1\u001b[0m\n\u001b[1;32m----> 1\u001b[0m a\u001b[38;5;241m=\u001b[39mnp\u001b[38;5;241m.\u001b[39mfull((\u001b[38;5;241m3\u001b[39m,\u001b[38;5;241m5\u001b[39m))\n\u001b[0;32m      2\u001b[0m a\n",
      "\u001b[1;31mTypeError\u001b[0m: full() missing 1 required positional argument: 'fill_value'"
     ]
    }
   ],
   "source": [
    "a=np.full((3,5))\n",
    "a"
   ]
  },
  {
   "cell_type": "code",
   "execution_count": 31,
   "id": "1fa00ca4-3dc5-401d-a39b-ea71df33bb4d",
   "metadata": {},
   "outputs": [
    {
     "data": {
      "text/plain": [
       "array([[6, 6, 6, 6, 6],\n",
       "       [6, 6, 6, 6, 6],\n",
       "       [6, 6, 6, 6, 6]])"
      ]
     },
     "execution_count": 31,
     "metadata": {},
     "output_type": "execute_result"
    }
   ],
   "source": [
    "a=np.full((3,5),6)\n",
    "a"
   ]
  },
  {
   "cell_type": "code",
   "execution_count": 33,
   "id": "41c5b035-0075-4d14-9cbd-6766e2d30b28",
   "metadata": {},
   "outputs": [
    {
     "data": {
      "text/plain": [
       "array([-1390846011,  -741776599,  -483414426,  -663073136])"
      ]
     },
     "execution_count": 33,
     "metadata": {},
     "output_type": "execute_result"
    }
   ],
   "source": [
    "a=np.empty(4,dtype=int)\n",
    "a"
   ]
  },
  {
   "cell_type": "markdown",
   "id": "ef36c7db-56f2-459d-9763-423949785a8f",
   "metadata": {},
   "source": [
    "## Q Converting array 2d list into np array"
   ]
  },
  {
   "cell_type": "code",
   "execution_count": 34,
   "id": "cdca9a5d-6a2f-4e83-b575-16e74710bc96",
   "metadata": {},
   "outputs": [
    {
     "name": "stdout",
     "output_type": "stream",
     "text": [
      "[[1 2 3]\n",
      " [4 5 6]\n",
      " [7 8 9]]\n"
     ]
    }
   ],
   "source": [
    "import numpy as np\n",
    "a=[[1,2,3],[4,5,6],[7,8,9]]\n",
    "b=np.array(a)\n",
    "print(b)"
   ]
  },
  {
   "cell_type": "markdown",
   "id": "b971cdb3-4235-4260-bd2e-847bde0f6fa4",
   "metadata": {},
   "source": [
    "## all element should be 0 , but fifth element should be 5"
   ]
  },
  {
   "cell_type": "code",
   "execution_count": 35,
   "id": "7957b4a7-f304-42d1-9333-8525e9d5e1f5",
   "metadata": {},
   "outputs": [
    {
     "name": "stdout",
     "output_type": "stream",
     "text": [
      "[0 0 0 0 5 0 0 0 0 0]\n"
     ]
    }
   ],
   "source": [
    "a=np.zeros(10,dtype=int)\n",
    "a[4]=5\n",
    "print(a)"
   ]
  },
  {
   "cell_type": "markdown",
   "id": "fb395d2e-e03e-42c9-88d9-c81d6635fa38",
   "metadata": {},
   "source": [
    "## NumPy Functions"
   ]
  },
  {
   "cell_type": "code",
   "execution_count": 44,
   "id": "78892877-248b-433f-a92a-12d696333a31",
   "metadata": {},
   "outputs": [
    {
     "data": {
      "text/plain": [
       "array([0, 1, 2])"
      ]
     },
     "execution_count": 44,
     "metadata": {},
     "output_type": "execute_result"
    }
   ],
   "source": [
    "a=np.arange(3)\n",
    "a"
   ]
  },
  {
   "cell_type": "code",
   "execution_count": 45,
   "id": "baf66b5d-69ba-45ba-ba21-5105ca639810",
   "metadata": {},
   "outputs": [
    {
     "data": {
      "text/plain": [
       "array([ 2,  4,  6,  8, 10, 12, 14, 16, 18])"
      ]
     },
     "execution_count": 45,
     "metadata": {},
     "output_type": "execute_result"
    }
   ],
   "source": [
    "a=np.arange(2,20,2)\n",
    "a"
   ]
  },
  {
   "cell_type": "code",
   "execution_count": 46,
   "id": "c094e28a-4038-4073-831b-8bd317c13fb6",
   "metadata": {},
   "outputs": [
    {
     "data": {
      "text/plain": [
       "array([ 2.        ,  2.36734694,  2.73469388,  3.10204082,  3.46938776,\n",
       "        3.83673469,  4.20408163,  4.57142857,  4.93877551,  5.30612245,\n",
       "        5.67346939,  6.04081633,  6.40816327,  6.7755102 ,  7.14285714,\n",
       "        7.51020408,  7.87755102,  8.24489796,  8.6122449 ,  8.97959184,\n",
       "        9.34693878,  9.71428571, 10.08163265, 10.44897959, 10.81632653,\n",
       "       11.18367347, 11.55102041, 11.91836735, 12.28571429, 12.65306122,\n",
       "       13.02040816, 13.3877551 , 13.75510204, 14.12244898, 14.48979592,\n",
       "       14.85714286, 15.2244898 , 15.59183673, 15.95918367, 16.32653061,\n",
       "       16.69387755, 17.06122449, 17.42857143, 17.79591837, 18.16326531,\n",
       "       18.53061224, 18.89795918, 19.26530612, 19.63265306, 20.        ])"
      ]
     },
     "execution_count": 46,
     "metadata": {},
     "output_type": "execute_result"
    }
   ],
   "source": [
    "a=np.linspace(2,20)   # it gives by default 50 samples\n",
    "a"
   ]
  },
  {
   "cell_type": "code",
   "execution_count": 50,
   "id": "05c40480-5537-4ce7-bd1a-6be9dbd4b13b",
   "metadata": {},
   "outputs": [
    {
     "data": {
      "text/plain": [
       "array([ 2,  3,  4,  5,  6,  8,  9, 10, 11, 12, 14, 15, 16, 17, 18])"
      ]
     },
     "execution_count": 50,
     "metadata": {},
     "output_type": "execute_result"
    }
   ],
   "source": [
    "a=np.linspace(2,20, 15 ,dtype=int,endpoint=False)  \n",
    "a"
   ]
  },
  {
   "cell_type": "code",
   "execution_count": 36,
   "id": "a37eda93-73ef-4c65-9b72-d3d75563fa21",
   "metadata": {},
   "outputs": [
    {
     "data": {
      "text/plain": [
       "array([[1., 0., 0.],\n",
       "       [0., 1., 0.],\n",
       "       [0., 0., 1.]])"
      ]
     },
     "execution_count": 36,
     "metadata": {},
     "output_type": "execute_result"
    }
   ],
   "source": [
    "a=np.identity(3)\n",
    "a"
   ]
  },
  {
   "cell_type": "code",
   "execution_count": 37,
   "id": "90f5429b-0f45-4fbf-a1ad-00adc9226bc8",
   "metadata": {},
   "outputs": [
    {
     "data": {
      "text/plain": [
       "array([[1., 0., 0., 0.],\n",
       "       [0., 1., 0., 0.],\n",
       "       [0., 0., 1., 0.]])"
      ]
     },
     "execution_count": 37,
     "metadata": {},
     "output_type": "execute_result"
    }
   ],
   "source": [
    "a=np.eye(3,4)\n",
    "a"
   ]
  },
  {
   "cell_type": "code",
   "execution_count": 39,
   "id": "67401133-25ee-43ec-8f6f-d4f032898d40",
   "metadata": {},
   "outputs": [
    {
     "data": {
      "text/plain": [
       "array([0.23104796, 0.18487061, 0.69473356])"
      ]
     },
     "execution_count": 39,
     "metadata": {},
     "output_type": "execute_result"
    }
   ],
   "source": [
    "a=np.random.rand(3)\n",
    "a"
   ]
  },
  {
   "cell_type": "code",
   "execution_count": 42,
   "id": "f104cd2e-d047-4958-8c26-de8116830613",
   "metadata": {},
   "outputs": [
    {
     "data": {
      "text/plain": [
       "array([0.58619457, 1.06525869, 1.19224797, 3.57087047, 2.17426156,\n",
       "       3.51860327, 2.89799856, 3.49763082, 1.59462814, 4.22013304])"
      ]
     },
     "execution_count": 42,
     "metadata": {},
     "output_type": "execute_result"
    }
   ],
   "source": [
    "a=np.random.rand(10)*5\n",
    "a"
   ]
  },
  {
   "cell_type": "markdown",
   "id": "8d3720ba-032b-4598-b11b-8f2c29e18d10",
   "metadata": {},
   "source": [
    "## Q. Random int array of size 4*4"
   ]
  },
  {
   "cell_type": "code",
   "execution_count": 52,
   "id": "28227769-05fa-49fe-84f0-f60bb4e6882d",
   "metadata": {},
   "outputs": [
    {
     "data": {
      "text/plain": [
       "array([[2, 3, 0, 0],\n",
       "       [4, 3, 8, 7],\n",
       "       [1, 6, 4, 6],\n",
       "       [8, 8, 8, 9]])"
      ]
     },
     "execution_count": 52,
     "metadata": {},
     "output_type": "execute_result"
    }
   ],
   "source": [
    "a=np.random.randint(10,size=(4,4))\n",
    "a"
   ]
  },
  {
   "cell_type": "code",
   "execution_count": 53,
   "id": "f2dce35e-4d8a-4ea7-9fc6-4f1a176c5c5e",
   "metadata": {},
   "outputs": [
    {
     "data": {
      "text/plain": [
       "array([ 9, 10, 11, 12, 13, 14, 15, 16, 17, 18, 19, 20, 21, 22, 23, 24, 25,\n",
       "       26, 27, 28, 29, 30, 31, 32, 33, 34, 35, 36, 37, 38, 39, 40, 41, 42,\n",
       "       43, 44, 45, 46, 47, 48, 49])"
      ]
     },
     "execution_count": 53,
     "metadata": {},
     "output_type": "execute_result"
    }
   ],
   "source": [
    "a=np.arange(9,50)\n",
    "a"
   ]
  },
  {
   "cell_type": "code",
   "execution_count": 55,
   "id": "92384f37-1f0b-4197-ba32-1046a02f362e",
   "metadata": {},
   "outputs": [
    {
     "data": {
      "text/plain": [
       "array([[1., 0., 0., 0., 0., 0.],\n",
       "       [0., 1., 0., 0., 0., 0.],\n",
       "       [0., 0., 1., 0., 0., 0.],\n",
       "       [0., 0., 0., 1., 0., 0.],\n",
       "       [0., 0., 0., 0., 1., 0.]])"
      ]
     },
     "execution_count": 55,
     "metadata": {},
     "output_type": "execute_result"
    }
   ],
   "source": [
    "a=np.eye(5,6)\n",
    "a"
   ]
  },
  {
   "cell_type": "code",
   "execution_count": 61,
   "id": "fb98b123-f10c-4a35-9210-270d3b9dc93b",
   "metadata": {},
   "outputs": [
    {
     "data": {
      "text/plain": [
       "array([0.  , 0.56, 1.11, 1.67, 2.22, 2.78, 3.33, 3.89, 4.44, 5.  ])"
      ]
     },
     "execution_count": 61,
     "metadata": {},
     "output_type": "execute_result"
    }
   ],
   "source": [
    "a=np.linspace(0,5,9+1)\n",
    "a=np.round(a,2)\n",
    "a"
   ]
  },
  {
   "cell_type": "markdown",
   "id": "aff69ad0-4f53-44d6-9002-b6367a828afb",
   "metadata": {},
   "source": [
    "## Indexing and Slicing"
   ]
  },
  {
   "cell_type": "code",
   "execution_count": 62,
   "id": "5ca469ef-37e4-4b3d-b71e-f254d3803087",
   "metadata": {},
   "outputs": [
    {
     "data": {
      "text/plain": [
       "array([2, 3, 5, 6])"
      ]
     },
     "execution_count": 62,
     "metadata": {},
     "output_type": "execute_result"
    }
   ],
   "source": [
    "a=[2,3,5,6]\n",
    "b=np.array(a)\n",
    "b"
   ]
  },
  {
   "cell_type": "code",
   "execution_count": 63,
   "id": "85c86628-61bb-41fb-9e5d-df6e0cf9474d",
   "metadata": {},
   "outputs": [
    {
     "name": "stdout",
     "output_type": "stream",
     "text": [
      "6\n"
     ]
    }
   ],
   "source": [
    "print(b[3])"
   ]
  },
  {
   "cell_type": "code",
   "execution_count": 64,
   "id": "b6dff640-d14c-487a-bf76-efb38f5f6f61",
   "metadata": {},
   "outputs": [
    {
     "data": {
      "text/plain": [
       "array([[ 1,  2,  3,  4],\n",
       "       [ 5,  6,  7,  8],\n",
       "       [ 9, 10, 11, 12],\n",
       "       [13, 14, 15, 16]])"
      ]
     },
     "execution_count": 64,
     "metadata": {},
     "output_type": "execute_result"
    }
   ],
   "source": [
    "a=[[1,2,3,4],[5,6,7,8],[9,10,11,12],[13,14,15,16]]\n",
    "b=np.array(a)\n",
    "b"
   ]
  },
  {
   "cell_type": "code",
   "execution_count": 65,
   "id": "acbb6739-a7e5-49ee-9fe7-271d51fed27b",
   "metadata": {},
   "outputs": [
    {
     "name": "stdout",
     "output_type": "stream",
     "text": [
      "[[2 3]\n",
      " [6 7]]\n"
     ]
    }
   ],
   "source": [
    "print(b[0:2,1:3])"
   ]
  },
  {
   "cell_type": "code",
   "execution_count": 66,
   "id": "9919cde7-e514-4370-b0f6-8e9a04730ba4",
   "metadata": {},
   "outputs": [
    {
     "name": "stdout",
     "output_type": "stream",
     "text": [
      "11\n"
     ]
    }
   ],
   "source": [
    "print(b[2,2])"
   ]
  },
  {
   "cell_type": "code",
   "execution_count": 67,
   "id": "cec68505-e078-42fb-af11-d71920ae619d",
   "metadata": {},
   "outputs": [
    {
     "name": "stdout",
     "output_type": "stream",
     "text": [
      "[ 1  5  9 13]\n"
     ]
    }
   ],
   "source": [
    "print(b[:4,0])"
   ]
  },
  {
   "cell_type": "code",
   "execution_count": 68,
   "id": "ad985b77-b18b-4bae-bf58-81b41ca10ff6",
   "metadata": {},
   "outputs": [
    {
     "name": "stdout",
     "output_type": "stream",
     "text": [
      "[12 16]\n"
     ]
    }
   ],
   "source": [
    "print(b[2:4,3])"
   ]
  },
  {
   "cell_type": "code",
   "execution_count": null,
   "id": "51f5b66f-9dab-418c-a0f1-b57cf6028223",
   "metadata": {},
   "outputs": [],
   "source": []
  },
  {
   "cell_type": "markdown",
   "id": "1fc4078f-881d-455a-8cb1-99383b2bed09",
   "metadata": {},
   "source": [
    "## Finding Indices of elements"
   ]
  },
  {
   "cell_type": "code",
   "execution_count": 2,
   "id": "580fa36c-1b5d-4b40-91e2-1608f0ce6bbb",
   "metadata": {},
   "outputs": [
    {
     "data": {
      "text/plain": [
       "(array([3, 5], dtype=int64),)"
      ]
     },
     "execution_count": 2,
     "metadata": {},
     "output_type": "execute_result"
    }
   ],
   "source": [
    "import numpy as np\n",
    "a=np.array([2,4,5,6,54,6,45])\n",
    "ind=np.where(a==6)     ## np.where print index no. of element\n",
    "ind"
   ]
  },
  {
   "cell_type": "markdown",
   "id": "7bb10d25-6697-40c4-bdc7-6ccc9120545d",
   "metadata": {},
   "source": [
    "## Q. Printing Non - Zero Elements"
   ]
  },
  {
   "cell_type": "code",
   "execution_count": 3,
   "id": "db09badd-b3b6-47f2-9dcb-9930ecdfe6d9",
   "metadata": {},
   "outputs": [
    {
     "data": {
      "text/plain": [
       "(array([0, 1, 4], dtype=int64),)"
      ]
     },
     "execution_count": 3,
     "metadata": {},
     "output_type": "execute_result"
    }
   ],
   "source": [
    "a=np.array([1,2,0,0,4,0])\n",
    "ind=np.where(a!=0)\n",
    "ind"
   ]
  },
  {
   "cell_type": "markdown",
   "id": "5887fbd9-628c-4a95-9615-8b0b792dec18",
   "metadata": {},
   "source": [
    "## . Printing the index of elements which are multiple of three"
   ]
  },
  {
   "cell_type": "code",
   "execution_count": 6,
   "id": "d0249f6f-3b9a-4c5b-8c59-08f50812ba94",
   "metadata": {},
   "outputs": [
    {
     "data": {
      "text/plain": [
       "(array([3, 4, 6, 7, 8], dtype=int64),)"
      ]
     },
     "execution_count": 6,
     "metadata": {},
     "output_type": "execute_result"
    }
   ],
   "source": [
    "a=np.array([2,4,5,3,6,1,15,9,18])\n",
    "ind=np.where(a%3==0)\n",
    "ind"
   ]
  },
  {
   "cell_type": "markdown",
   "id": "42dd1421-792b-42c0-846e-951ff6e493bd",
   "metadata": {},
   "source": [
    "## Q REplacing the ODD no. with -1"
   ]
  },
  {
   "cell_type": "code",
   "execution_count": 7,
   "id": "c7e62d21-c71a-4e65-9601-904c6e9f511c",
   "metadata": {},
   "outputs": [
    {
     "data": {
      "text/plain": [
       "array([-1, 54, -1,  6,  4, -1, -1,  6, -1])"
      ]
     },
     "execution_count": 7,
     "metadata": {},
     "output_type": "execute_result"
    }
   ],
   "source": [
    "a=np.array([1,54,3,6,4,645,3,6,47])\n",
    "ind=np.where(a%2!=0)\n",
    "a[ind]=-1\n",
    "a"
   ]
  },
  {
   "cell_type": "markdown",
   "id": "6f1c6e74-5fac-4adf-97d4-aa96ccda52ff",
   "metadata": {},
   "source": [
    "## Q. Printing Age of students whose height is more than 155cm"
   ]
  },
  {
   "cell_type": "code",
   "execution_count": 2,
   "id": "724affe7-804b-4387-8d1f-1a1ccc00a497",
   "metadata": {},
   "outputs": [
    {
     "name": "stdout",
     "output_type": "stream",
     "text": [
      "[18 21 20 17 25 26] [157 156 170 172 180 155]\n"
     ]
    }
   ],
   "source": [
    "import numpy as np\n",
    "age=np.array([19,18,23,21,20,17,25,19,24,26])\n",
    "ht=np.array([147,157,123,156,170,172,180,127,145,155])\n",
    "ind=np.where(ht>=155)\n",
    "print(age[ind],ht[ind])"
   ]
  },
  {
   "cell_type": "code",
   "execution_count": null,
   "id": "bd82c4f8-fe65-4f1a-adf2-07aab28c777a",
   "metadata": {},
   "outputs": [],
   "source": []
  },
  {
   "cell_type": "markdown",
   "id": "3e768878-8c7a-42dc-b24d-7a7183f34f04",
   "metadata": {},
   "source": [
    "## Indexing for 2D arrays"
   ]
  },
  {
   "cell_type": "code",
   "execution_count": 11,
   "id": "2caf3dba-b52b-4e2b-9a94-44856fec5eaf",
   "metadata": {},
   "outputs": [
    {
     "name": "stdout",
     "output_type": "stream",
     "text": [
      "[[20  5 23 15 25 16]\n",
      " [25 14 16  8 26  5]\n",
      " [ 5 24  4  1  5  8]\n",
      " [11 24 22 17  6 17]\n",
      " [20  2 11  7  8 15]]\n"
     ]
    },
    {
     "data": {
      "text/plain": [
       "array([[False, False,  True, False,  True, False],\n",
       "       [ True, False, False, False,  True, False],\n",
       "       [False,  True, False, False, False, False],\n",
       "       [False,  True,  True, False, False, False],\n",
       "       [False, False, False, False, False, False]])"
      ]
     },
     "execution_count": 11,
     "metadata": {},
     "output_type": "execute_result"
    }
   ],
   "source": [
    "a=np.random.randint(1,30,(5,6))\n",
    "a\n",
    "bool_arr=a>20\n",
    "print(a)\n",
    "bool_arr"
   ]
  },
  {
   "cell_type": "code",
   "execution_count": 12,
   "id": "3863a535-e73b-4d76-9fb9-36adda3adaab",
   "metadata": {},
   "outputs": [
    {
     "data": {
      "text/plain": [
       "array([[ 20,   5, 100,  15, 100,  16],\n",
       "       [100,  14,  16,   8, 100,   5],\n",
       "       [  5, 100,   4,   1,   5,   8],\n",
       "       [ 11, 100, 100,  17,   6,  17],\n",
       "       [ 20,   2,  11,   7,   8,  15]])"
      ]
     },
     "execution_count": 12,
     "metadata": {},
     "output_type": "execute_result"
    }
   ],
   "source": [
    "a[bool_arr]=100\n",
    "a"
   ]
  },
  {
   "cell_type": "markdown",
   "id": "2fd18b79-0852-42a9-aecd-8bfff970c4b4",
   "metadata": {},
   "source": [
    "## Q Sort the 2D array by 2nd column i.e 1 index"
   ]
  },
  {
   "cell_type": "code",
   "execution_count": 14,
   "id": "1320ee16-d01c-4a8f-b3d8-607e949c5e4a",
   "metadata": {},
   "outputs": [
    {
     "name": "stdout",
     "output_type": "stream",
     "text": [
      "[[42  5 16 38  5]\n",
      " [28 38 29 16 17]\n",
      " [41 44 43 41 47]\n",
      " [ 7 32 38 26  5]]\n"
     ]
    },
    {
     "data": {
      "text/plain": [
       "array([[42,  5, 16, 38,  5],\n",
       "       [ 7, 32, 38, 26,  5],\n",
       "       [28, 38, 29, 16, 17],\n",
       "       [41, 44, 43, 41, 47]])"
      ]
     },
     "execution_count": 14,
     "metadata": {},
     "output_type": "execute_result"
    }
   ],
   "source": [
    "a=np.random.randint(1,50,(4,5))\n",
    "print(a)\n",
    "sorted_arr=a[a[:,1].argsort()]   ### .argsort()\n",
    "sorted_arr"
   ]
  },
  {
   "cell_type": "code",
   "execution_count": null,
   "id": "d367d17c-21a2-43da-b3e8-15be8dde7949",
   "metadata": {},
   "outputs": [],
   "source": []
  },
  {
   "cell_type": "markdown",
   "id": "701287b6-b088-4833-b2b6-f9a1f82d58ba",
   "metadata": {},
   "source": [
    "## Q. Broadcasting and mathematical operations"
   ]
  },
  {
   "cell_type": "code",
   "execution_count": 15,
   "id": "1ea4c9f7-6829-469a-b832-80373c9703ae",
   "metadata": {},
   "outputs": [
    {
     "name": "stdout",
     "output_type": "stream",
     "text": [
      "[[22  8 23]\n",
      " [24  2 23]\n",
      " [26 20 17]]\n",
      "[[13  6 18]\n",
      " [ 3  2  6]\n",
      " [ 5 10 15]]\n"
     ]
    }
   ],
   "source": [
    "a=np.random.randint(1,30,(3,3))\n",
    "b=np.random.randint(1,20,(3,3))\n",
    "print(a)\n",
    "print(b)"
   ]
  },
  {
   "cell_type": "code",
   "execution_count": 16,
   "id": "79318162-d762-49a9-9656-c56190041728",
   "metadata": {},
   "outputs": [
    {
     "data": {
      "text/plain": [
       "array([[ 9,  2,  5],\n",
       "       [21,  0, 17],\n",
       "       [21, 10,  2]])"
      ]
     },
     "execution_count": 16,
     "metadata": {},
     "output_type": "execute_result"
    }
   ],
   "source": [
    "ans=a-b\n",
    "ans"
   ]
  },
  {
   "cell_type": "markdown",
   "id": "fdc1861a-cebe-4a38-b3ac-71999224114a",
   "metadata": {},
   "source": [
    "* Broadcasting"
   ]
  },
  {
   "cell_type": "code",
   "execution_count": 17,
   "id": "531eef53-0a76-4a86-a481-a10b8e83dfe0",
   "metadata": {},
   "outputs": [
    {
     "data": {
      "text/plain": [
       "array([ 4,  9, 19])"
      ]
     },
     "execution_count": 17,
     "metadata": {},
     "output_type": "execute_result"
    }
   ],
   "source": [
    "c=np.random.randint(1,20,(3))\n",
    "c"
   ]
  },
  {
   "cell_type": "code",
   "execution_count": 19,
   "id": "9461692c-a890-466f-bc2e-3d7a19a4cead",
   "metadata": {},
   "outputs": [
    {
     "data": {
      "text/plain": [
       "array([[18, -1,  4],\n",
       "       [20, -7,  4],\n",
       "       [22, 11, -2]])"
      ]
     },
     "execution_count": 19,
     "metadata": {},
     "output_type": "execute_result"
    }
   ],
   "source": [
    "ans=a-c    ## this is how bradcasting work\n",
    "ans"
   ]
  },
  {
   "cell_type": "markdown",
   "id": "02219050-6dc9-455b-85f1-3a06a0ac6c7b",
   "metadata": {},
   "source": [
    "## using transpose function"
   ]
  },
  {
   "cell_type": "code",
   "execution_count": 20,
   "id": "3c6b831b-bf19-4bb1-ad07-393d5bf8b7fd",
   "metadata": {},
   "outputs": [
    {
     "name": "stdout",
     "output_type": "stream",
     "text": [
      "[[9 2 6]\n",
      " [1 1 1]]\n",
      "[[1 4]\n",
      " [7 4]\n",
      " [9 1]]\n"
     ]
    }
   ],
   "source": [
    "d=np.random.randint(1,10,(2,3))\n",
    "e=np.random.randint(1,10,(3,2))\n",
    "print(d)\n",
    "print(e)"
   ]
  },
  {
   "cell_type": "code",
   "execution_count": 21,
   "id": "2b8ee612-b935-42d6-aade-b234c782af0d",
   "metadata": {},
   "outputs": [
    {
     "ename": "ValueError",
     "evalue": "operands could not be broadcast together with shapes (2,3) (3,2) ",
     "output_type": "error",
     "traceback": [
      "\u001b[1;31m---------------------------------------------------------------------------\u001b[0m",
      "\u001b[1;31mValueError\u001b[0m                                Traceback (most recent call last)",
      "Cell \u001b[1;32mIn[21], line 1\u001b[0m\n\u001b[1;32m----> 1\u001b[0m ans\u001b[38;5;241m=\u001b[39md\u001b[38;5;241m-\u001b[39me\n\u001b[0;32m      2\u001b[0m ans\n",
      "\u001b[1;31mValueError\u001b[0m: operands could not be broadcast together with shapes (2,3) (3,2) "
     ]
    }
   ],
   "source": [
    "ans=d-e\n",
    "ans"
   ]
  },
  {
   "cell_type": "code",
   "execution_count": 22,
   "id": "d8715810-2f33-41ca-ad4a-0f2ed6aeaa9f",
   "metadata": {},
   "outputs": [
    {
     "name": "stdout",
     "output_type": "stream",
     "text": [
      "[[1 7 9]\n",
      " [4 4 1]]\n"
     ]
    },
    {
     "data": {
      "text/plain": [
       "array([[ 8, -5, -3],\n",
       "       [-3, -3,  0]])"
      ]
     },
     "execution_count": 22,
     "metadata": {},
     "output_type": "execute_result"
    }
   ],
   "source": [
    "e=np.transpose(e)\n",
    "print(e)\n",
    "ans=d-e\n",
    "ans"
   ]
  },
  {
   "cell_type": "code",
   "execution_count": null,
   "id": "857cf7b1-64f6-4232-83ea-bc3e30ecc923",
   "metadata": {},
   "outputs": [],
   "source": []
  },
  {
   "cell_type": "markdown",
   "id": "749aadb4-6bba-4a72-a6ca-c7cb4fa61cec",
   "metadata": {},
   "source": [
    "## NumPy Example"
   ]
  },
  {
   "cell_type": "code",
   "execution_count": 33,
   "id": "c273dfeb-26e1-410c-8499-ddd3d6811287",
   "metadata": {},
   "outputs": [
    {
     "name": "stdout",
     "output_type": "stream",
     "text": [
      "51372.0\n",
      "[ 0.  1.  4.  1.  1.  0.  2.  2.  0.  1.  2.  2.  1.  0.  1.  4.  0.  0.\n",
      "  0.  0.  0.  0.  1.  4.  1.  2.  1.  0.  5.  1.  0.  0.  1.  1.  0.  0.\n",
      "  7.  0.  1.  0.  0.  0.  0.  0.  4.  0. 95.  0.  2.  0.  1.  0.  1.  0.\n",
      "  0.  0.  0.  0.  0.  1.  1.  0.  0.  0.  0.  0.  0.  0.  0.  0.  2.  0.\n",
      "  1.  1. 18.  2. 13.  1.  0.  3.  0.  1.  0.  0.  0.  1.  1. 10.  0.  0.\n",
      "  1.  1.  0.  1.  0.  0.  1.  1.  0.  0.  2.  1.  0.  4.  0.  0.  0.  0.\n",
      "  0.  1.  0.  5.  2.  0.  0.  0.  2.  1.  2.  0.  0.  0.  0.  1.  1.  4.\n",
      "  1.  0.  0.  1.  1.  1.  9.  0.  0.  0.  0.  0.  2.  0.  0.  0.  0.  0.\n",
      "  0.  0.  0.  2.  0.  0.  0.  0.  0.  0.  1.  0.  0.  8.  0.  0.  0.  0.\n",
      "  0.  2.  0.  0.  0.  0.  1.  0.  3.  0.  0.  0.  0.  0.  0. 10.  1.  1.\n",
      "  0.  0.  0.  5.  1.  0.  2.  0.  1.  1. 16.  0.  0.  1.  0.  1.  1.  1.\n",
      "  1.  0.  2.  0.  0.  1.  2.  0.  0.  0.  0.  1.  0.  0.  0.  1.  1.  1.\n",
      "  0.  1.  0.  0.  0.  0.  0.  0.  0.  0.  1.  0.  1.  3.  0.  0.  0.  0.\n",
      "  1.  0.  1.  0.  0.  0.  1.  0.  0.  0.  1.  1.  3.  1.  0. 11.  8.  2.\n",
      "  1.  1.  0.  0.  1.  1.  0.  0.  0.  1.  1.  4.  0.  0.  0.  0.  0.  1.\n",
      "  0.  0.  0.  0.  0.  0.  0.  0.  0.  2.  1.  1.  0.  0.  1.  2.  0.  1.\n",
      "  1.  1.  0.  2.  2.  0.  2.  0.  0.  1.  2. 42.  0.  1.  1.  3.  0.  1.\n",
      " 10.  0.  1.  0.  2.  2.  0.  0.  0.  0.  0.  0.  5.  1.  2.  0.  7.  0.\n",
      "  1.  1.  0.  0. 20.  3.  0.  3.  0.  2.  1.  1.  9.  2.  3.  0.  4.  0.\n",
      "  1.  1.  0.  0.  0.  0.  2.  1.  0.  0.  1.  0.  0.  1.  1.  0.  1.  1.\n",
      "  0.  0.  4.  0.  0.  1.  0.  1.  1.  1.  2.  4.  0.  0.  2.  0.  0.  0.\n",
      " 25.  0.  1.  2.  0.  0.  0.  1.  2.  2.  0.  3.  1.  0.  1.  1.  0.  1.\n",
      "  0.  0.  1.  2.  0.  0.  0.  0.  0.  0.  0.  0.  0.  0.  0.  2.  0.  0.\n",
      "  5.  0.  0.  0.  2.  0.  0.  0.  4.  0.  0.  0.  0.  0.  6.  3.  7.  4.\n",
      "  0.  1.  0.  0.  0.  0.  0.  1.  4.  0.  1.  7.  3.  2.  0.  0.  0.  0.\n",
      " 10.  0.  2.  0.  2.  0.  2.  1.  1.  0.  0.  1.  2.  1.  4.  0.  0.  0.\n",
      "  0.  0.  8.  1.  0.  0.  1.  0.  0.  0.  0.  0.  1.  5.  0.  0.  0.  0.\n",
      "  1.  1.  0.  0.  3.  1.  1.  5.  1.  1.  0.  2.  1.  0.  0.  0.  0.  0.\n",
      "  0.  0.  0.  0.  0.  0.  0.  0.  0.  3.  0.  1.  2.  0.  0.  0.  0.  0.\n",
      "  2.  0.  1.  0.  0.  3.  1.  0.  0.  0.  1.  0.  0.  0.  0.  0.  0. 26.\n",
      "  1.  1.  0.  1.  0.  2.  1.  0.  0.  0.  0.  0.  0.  0.  0.  0.  0.  0.\n",
      "  0.  0.  0.  0.  0.  0.  0.  3.  0.  0.  1.  1.  0.  0.  1.  0.  1.  0.\n",
      "  0.  1.  0.  0.  0.  0.  0.  0.  0.  0.  0.  0.  1.  0.  1.  1.  0.  0.\n",
      "  0.  0.  0.  0.  0.  0.  1.  0.  0.  0.  1.  0.  0.  0.  1.  0.  0.  2.\n",
      "  1. 15. 10.  1.  0.  0.  2.  0.  0.  0.  3.  0.  0.  1.  0.  0.  2.  1.\n",
      "  0.  0.  1.  1.  0.  0.  0.  0.  0.  0.  0.  1.  1.  0.  1.  0.  0.  0.\n",
      "  0.  4.  0.  3.  5.  2.  0.  0.  0.  3.  0.  1.  1.  1.  1.  0.  0.  0.\n",
      "  0.  0.  0.  1.  0.  1.  0.  0.  0. 16.  0.  0.  1.  1.  0.  0.  0.  1.\n",
      "  1.  8.  1.  0.  2.  1.  4.  4.  1.  0.  1.  0.  1.  0.  1.  0.  0. 14.\n",
      "  0.  1.  1.  3.  2.  2.  1.  3.  1.  0.  0.  0.  0.  0.  0.  1.  4.  0.\n",
      "  1.  2.  0.  0.  2.  2.  2.  1. 33.  0.  1.  7.  1.  0.  0.  0.  0.  0.\n",
      "  0.  0.  5.  0.  0.  0.  0.  2.  1.  1.  1.  1.  2.  0.  0.  1.  7.  1.\n",
      "  1.  2.  0.  0.  0.  0.  1.  2.  1.  1.  1.  1.  1.  0.  1.  1.  0.  1.\n",
      "  1.  1.  0.  0.  0.  0.  1.  1.  1.  0.  2.  1.  0. 10.  3.  0.  0.  1.\n",
      "  0.  1.  0.  2.  0.  1.  1.  0.  1.  1.  1.  0.  1.  0.  0.  0.  0.  0.\n",
      "  1.  1.  2.  1.  1.  0.  0.  1.  1.  1.  0.  0.  0.  1.  4.  1.  0.  0.\n",
      "  0.  0.  0.  0.  2.  0.  1.  0.  0.  1.  2.  1.  5.  1.  2.  0.  0.  1.\n",
      "  0.  0.  2.  1.  1.  0.  0.  0.  4.  0.  0.  0.  0.  8.  3.  2.  0.  7.\n",
      "  7.  0.  4.  1.  3.  1.  0.  1.  0.  0.  3.  1.  1.  0.  0.  1.  3.  1.\n",
      "  0.  0.  0.  1.  0.  0.  3.  1.  1.  1.  0.  2.  0.  1.  1.  0.  1.  3.\n",
      "  0.  1.  0.  1.  0.  1.  4.  0.  0.  1.  0.  0.  0.  0.  1.  0.  1.  0.\n",
      "  4.  1.  1.  0.  0.  2.  0.  1.  0.  3.  2.  1.  0.  0.  0.  1.  0.  0.\n",
      "  0.  4.  1.  0.  1.  2.  0.  1.  0.  1.  0.  0.  0.  0.  1.  0.  0.  0.\n",
      "  0.  0.  0.  0.  0.  0.  1.  0.  0. 11.  0.  0.]\n",
      "1167.0\n"
     ]
    }
   ],
   "source": [
    "import numpy as np\n",
    "import csv\n",
    "file_obj=open('year2017.csv')\n",
    "file_data=csv.DictReader(file_obj,skipinitialspace=True)\n",
    "\n",
    "killed=[]\n",
    "wounded=[]\n",
    "country=[]\n",
    "for row in file_data:\n",
    "    killed.append(row['Killed'])\n",
    "    wounded.append(row['Wounded'])\n",
    "    country.append(row['Country'])\n",
    "\n",
    "np_killed=np.array(killed)\n",
    "np_wounded=np.array(wounded)\n",
    "np_killed[np_killed=='']='0.0'\n",
    "np_wounded[np_wounded=='']='0.0'\n",
    "\n",
    "np_killed=np.array(np_killed,dtype=float)\n",
    "np_wounded=np.array(np_wounded,dtype=float)\n",
    "killed_wounded=np_killed+np_wounded\n",
    "\n",
    "print(sum(killed_wounded))\n",
    "\n",
    "## for india\n",
    "np_country=np.array(country)\n",
    "bool_arr= np_country=='India'\n",
    "print(killed_wounded[bool_arr])\n",
    "print(np.sum(killed_wounded[bool_arr]))"
   ]
  },
  {
   "cell_type": "code",
   "execution_count": null,
   "id": "35415397-335b-4c74-abfb-39f09b43d32d",
   "metadata": {},
   "outputs": [],
   "source": []
  },
  {
   "cell_type": "markdown",
   "id": "034b1b46-13e2-4710-9027-dc9c881a3419",
   "metadata": {},
   "source": [
    "## Q. Killed In USA"
   ]
  },
  {
   "cell_type": "code",
   "execution_count": 42,
   "id": "e0daa9ea-ed15-4291-b42f-f08efcf28936",
   "metadata": {},
   "outputs": [
    {
     "name": "stdout",
     "output_type": "stream",
     "text": [
      "[0. 0. 0. ... 0. 0. 1.]\n",
      "3771\n"
     ]
    }
   ],
   "source": [
    "import numpy as np\n",
    "import csv\n",
    "file_obj=open('terrorismData.csv',encoding='utf-8')\n",
    "file_data=csv.DictReader(file_obj,skipinitialspace=True)\n",
    "killed=[]\n",
    "country=[]\n",
    "for row in file_data:\n",
    "    killed.append(row['Killed'])\n",
    "    country.append(row['Country'])\n",
    "np_killed=np.array(killed)\n",
    "\n",
    "np_killed[np_killed=='']='0.0'\n",
    "\n",
    "np_killed=np.array(np_killed,dtype=float)\n",
    "\n",
    "np_country=np.array(country)\n",
    "bool_arr=np_country=='United States'\n",
    "print(np_killed[bool_arr])\n",
    "\n",
    "print(int(np.sum(np_killed[bool_arr])))\n",
    "    "
   ]
  },
  {
   "cell_type": "code",
   "execution_count": null,
   "id": "3708911f-c2f4-4024-b794-57144895973b",
   "metadata": {},
   "outputs": [],
   "source": []
  }
 ],
 "metadata": {
  "kernelspec": {
   "display_name": "Python 3 (ipykernel)",
   "language": "python",
   "name": "python3"
  },
  "language_info": {
   "codemirror_mode": {
    "name": "ipython",
    "version": 3
   },
   "file_extension": ".py",
   "mimetype": "text/x-python",
   "name": "python",
   "nbconvert_exporter": "python",
   "pygments_lexer": "ipython3",
   "version": "3.11.7"
  }
 },
 "nbformat": 4,
 "nbformat_minor": 5
}
