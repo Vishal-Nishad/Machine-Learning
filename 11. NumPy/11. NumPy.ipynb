{
 "cells": [
  {
   "cell_type": "markdown",
   "id": "1b0b509a-4e07-49fe-b6af-317e2282745b",
   "metadata": {},
   "source": [
    "## Why to use NumPy\n",
    "* Less Requirment of memory Size\n",
    "* Much Faster than Python List\n",
    "* Convenience (Syntax to write code is easy and simple)\n",
    "* More Functionality"
   ]
  },
  {
   "cell_type": "code",
   "execution_count": 5,
   "id": "d630c2b3-1b01-4654-a334-d2df1e155452",
   "metadata": {},
   "outputs": [
    {
     "name": "stdout",
     "output_type": "stream",
     "text": [
      "[1, 2, 3, 4, 5, 6, 7, 8, 9, 10, 11, 12, 13, 14, 15, 16, 17, 18, 19, 20, 21, 22, 23, 24, 25, 26, 27, 28, 29, 30, 31, 32, 33, 34, 35, 36, 37, 38, 39, 40, 41, 42, 43, 44, 45, 46, 47, 48, 49, 50, 51, 52, 53, 54, 55, 56, 57, 58, 59, 60, 61, 62, 63, 64, 65, 66, 67, 68, 69, 70, 71, 72, 73, 74, 75, 76, 77, 78, 79, 80, 81, 82, 83, 84, 85, 86, 87, 88, 89, 90, 91, 92, 93, 94, 95, 96, 97, 98, 99, 100]\n",
      "\n",
      "[  1   2   3   4   5   6   7   8   9  10  11  12  13  14  15  16  17  18\n",
      "  19  20  21  22  23  24  25  26  27  28  29  30  31  32  33  34  35  36\n",
      "  37  38  39  40  41  42  43  44  45  46  47  48  49  50  51  52  53  54\n",
      "  55  56  57  58  59  60  61  62  63  64  65  66  67  68  69  70  71  72\n",
      "  73  74  75  76  77  78  79  80  81  82  83  84  85  86  87  88  89  90\n",
      "  91  92  93  94  95  96  97  98  99 100]\n"
     ]
    }
   ],
   "source": [
    "## Printing no from 1 to 100 using python list and numpy\n",
    "import numpy as np\n",
    "list_arr=[i for i in range(1,101)]\n",
    "\n",
    "numpy_arr=np.arange(1,101)\n",
    "print(list_arr)\n",
    "print()\n",
    "print(numpy_arr)"
   ]
  },
  {
   "cell_type": "code",
   "execution_count": 7,
   "id": "77cfc3cb-4dbe-4d84-a217-55c77fd7e91e",
   "metadata": {},
   "outputs": [
    {
     "name": "stdout",
     "output_type": "stream",
     "text": [
      "4\n",
      "100\n",
      "400\n"
     ]
    }
   ],
   "source": [
    "print(numpy_arr.itemsize)\n",
    "print(numpy_arr.size)\n",
    "print(numpy_arr.itemsize*numpy_arr.size)"
   ]
  },
  {
   "cell_type": "code",
   "execution_count": 9,
   "id": "a862528e-52d4-4c37-89a4-83d90b722dea",
   "metadata": {},
   "outputs": [
    {
     "name": "stdout",
     "output_type": "stream",
     "text": [
      "2800\n"
     ]
    }
   ],
   "source": [
    "import sys\n",
    "print(sys.getsizeof(1)*len(list_arr))       "
   ]
  },
  {
   "cell_type": "code",
   "execution_count": null,
   "id": "602abab5-61dd-4578-9dd6-6acea2980a5c",
   "metadata": {},
   "outputs": [],
   "source": []
  }
 ],
 "metadata": {
  "kernelspec": {
   "display_name": "Python 3 (ipykernel)",
   "language": "python",
   "name": "python3"
  },
  "language_info": {
   "codemirror_mode": {
    "name": "ipython",
    "version": 3
   },
   "file_extension": ".py",
   "mimetype": "text/x-python",
   "name": "python",
   "nbconvert_exporter": "python",
   "pygments_lexer": "ipython3",
   "version": "3.11.7"
  }
 },
 "nbformat": 4,
 "nbformat_minor": 5
}
