{
 "cells": [
  {
   "cell_type": "code",
   "execution_count": 19,
   "id": "72815b09-11d9-4f26-8a7f-9b3ece6a424b",
   "metadata": {},
   "outputs": [
    {
     "name": "stdout",
     "output_type": "stream",
     "text": [
      "     sepal.length  sepal.width  petal.length  petal.width    variety\n",
      "0             5.1          3.5           1.4          0.2     Setosa\n",
      "1             4.9          3.0           1.4          0.2     Setosa\n",
      "2             4.7          3.2           1.3          0.2     Setosa\n",
      "3             4.6          3.1           1.5          0.2     Setosa\n",
      "4             5.0          3.6           1.4          0.2     Setosa\n",
      "..            ...          ...           ...          ...        ...\n",
      "145           6.7          3.0           5.2          2.3  Virginica\n",
      "146           6.3          2.5           5.0          1.9  Virginica\n",
      "147           6.5          3.0           5.2          2.0  Virginica\n",
      "148           6.2          3.4           5.4          2.3  Virginica\n",
      "149           5.9          3.0           5.1          1.8  Virginica\n",
      "\n",
      "[150 rows x 5 columns]\n",
      "     sepal.length  sepal.width  petal.length  petal.width    variety\n",
      "0             5.1          3.5           1.4          0.2     Setosa\n",
      "1             4.9          3.0           1.4          0.2     Setosa\n",
      "2             4.7          3.2           1.3          0.2     Setosa\n",
      "3             4.6          3.1           1.5          0.2     Setosa\n",
      "4             5.0          3.6           1.4          0.2     Setosa\n",
      "..            ...          ...           ...          ...        ...\n",
      "145           6.7          3.0           5.2          2.3  Virginica\n",
      "146           6.3          2.5           5.0          1.9  Virginica\n",
      "147           6.5          3.0           5.2          2.0  Virginica\n",
      "148           6.2          3.4           5.4          2.3  Virginica\n",
      "149           5.9          3.0           5.1          1.8  Virginica\n",
      "\n",
      "[150 rows x 5 columns]\n",
      "1505391353616\n",
      "1507461144976\n",
      "1505391353616\n",
      "1505391353616\n"
     ]
    }
   ],
   "source": [
    "import pandas as pd\n",
    "import numpy as np\n",
    "file_obj=pd.read_csv('iris.csv')\n",
    "\n",
    "#To make a separate copy of this data\n",
    "copy_file_obj=file_obj.copy()\n",
    "print(copy_file_obj)\n",
    "print(file_obj)\n",
    "print(id(file_obj))\n",
    "print(id(copy_file_obj))\n",
    "\n",
    "copy=file_obj                   ## here both copy and file_obj is pointing towards the same object,,, hence it has same reference id and also changes in\n",
    "print(id(copy))                         ## one variable will reflect to another one also\n",
    "print(id(file_obj))"
   ]
  },
  {
   "cell_type": "markdown",
   "id": "861f48b4-2cab-493f-b464-8454fa43c963",
   "metadata": {},
   "source": [
    "## Using .head()"
   ]
  },
  {
   "cell_type": "code",
   "execution_count": 9,
   "id": "d0be9f9c-6434-4d1b-9a0a-db36301eb00d",
   "metadata": {},
   "outputs": [
    {
     "name": "stdout",
     "output_type": "stream",
     "text": [
      "   sepal.length  sepal.width  petal.length  petal.width variety\n",
      "0           5.1          3.5           1.4          0.2  Setosa\n",
      "1           4.9          3.0           1.4          0.2  Setosa\n",
      "2           4.7          3.2           1.3          0.2  Setosa\n",
      "3           4.6          3.1           1.5          0.2  Setosa\n",
      "4           5.0          3.6           1.4          0.2  Setosa\n"
     ]
    },
    {
     "data": {
      "text/html": [
       "<div>\n",
       "<style scoped>\n",
       "    .dataframe tbody tr th:only-of-type {\n",
       "        vertical-align: middle;\n",
       "    }\n",
       "\n",
       "    .dataframe tbody tr th {\n",
       "        vertical-align: top;\n",
       "    }\n",
       "\n",
       "    .dataframe thead th {\n",
       "        text-align: right;\n",
       "    }\n",
       "</style>\n",
       "<table border=\"1\" class=\"dataframe\">\n",
       "  <thead>\n",
       "    <tr style=\"text-align: right;\">\n",
       "      <th></th>\n",
       "      <th>sepal.length</th>\n",
       "      <th>sepal.width</th>\n",
       "      <th>petal.length</th>\n",
       "      <th>petal.width</th>\n",
       "      <th>variety</th>\n",
       "    </tr>\n",
       "  </thead>\n",
       "  <tbody>\n",
       "    <tr>\n",
       "      <th>0</th>\n",
       "      <td>5.1</td>\n",
       "      <td>3.5</td>\n",
       "      <td>1.4</td>\n",
       "      <td>0.2</td>\n",
       "      <td>Setosa</td>\n",
       "    </tr>\n",
       "    <tr>\n",
       "      <th>1</th>\n",
       "      <td>4.9</td>\n",
       "      <td>3.0</td>\n",
       "      <td>1.4</td>\n",
       "      <td>0.2</td>\n",
       "      <td>Setosa</td>\n",
       "    </tr>\n",
       "  </tbody>\n",
       "</table>\n",
       "</div>"
      ],
      "text/plain": [
       "   sepal.length  sepal.width  petal.length  petal.width variety\n",
       "0           5.1          3.5           1.4          0.2  Setosa\n",
       "1           4.9          3.0           1.4          0.2  Setosa"
      ]
     },
     "execution_count": 9,
     "metadata": {},
     "output_type": "execute_result"
    }
   ],
   "source": [
    "print(copy_file_obj.head())\n",
    "copy_file_obj.head(2)"
   ]
  },
  {
   "cell_type": "markdown",
   "id": "e2288caa-b584-4c2b-96e5-58a24befdf4f",
   "metadata": {},
   "source": [
    "## Accessing some part of the data  ,,, .iloc[]"
   ]
  },
  {
   "cell_type": "code",
   "execution_count": 16,
   "id": "e9ec3832-51d9-451b-8a63-7e0bb7e885b2",
   "metadata": {},
   "outputs": [
    {
     "data": {
      "text/html": [
       "<div>\n",
       "<style scoped>\n",
       "    .dataframe tbody tr th:only-of-type {\n",
       "        vertical-align: middle;\n",
       "    }\n",
       "\n",
       "    .dataframe tbody tr th {\n",
       "        vertical-align: top;\n",
       "    }\n",
       "\n",
       "    .dataframe thead th {\n",
       "        text-align: right;\n",
       "    }\n",
       "</style>\n",
       "<table border=\"1\" class=\"dataframe\">\n",
       "  <thead>\n",
       "    <tr style=\"text-align: right;\">\n",
       "      <th></th>\n",
       "      <th>petal.width</th>\n",
       "      <th>variety</th>\n",
       "    </tr>\n",
       "  </thead>\n",
       "  <tbody>\n",
       "    <tr>\n",
       "      <th>1</th>\n",
       "      <td>0.2</td>\n",
       "      <td>Setosa</td>\n",
       "    </tr>\n",
       "    <tr>\n",
       "      <th>2</th>\n",
       "      <td>0.2</td>\n",
       "      <td>Setosa</td>\n",
       "    </tr>\n",
       "    <tr>\n",
       "      <th>3</th>\n",
       "      <td>0.2</td>\n",
       "      <td>Setosa</td>\n",
       "    </tr>\n",
       "    <tr>\n",
       "      <th>4</th>\n",
       "      <td>0.2</td>\n",
       "      <td>Setosa</td>\n",
       "    </tr>\n",
       "  </tbody>\n",
       "</table>\n",
       "</div>"
      ],
      "text/plain": [
       "   petal.width variety\n",
       "1          0.2  Setosa\n",
       "2          0.2  Setosa\n",
       "3          0.2  Setosa\n",
       "4          0.2  Setosa"
      ]
     },
     "execution_count": 16,
     "metadata": {},
     "output_type": "execute_result"
    }
   ],
   "source": [
    "copy_file_obj.iloc[1:5,3:5]"
   ]
  },
  {
   "cell_type": "markdown",
   "id": "1ce5aa4a-7ae1-4b7e-8384-3300300ca1ee",
   "metadata": {},
   "source": [
    "## .shape and .dtypes"
   ]
  },
  {
   "cell_type": "code",
   "execution_count": 13,
   "id": "4d19b3fe-ef03-4c3c-b55d-94b1b3849f1c",
   "metadata": {},
   "outputs": [
    {
     "name": "stdout",
     "output_type": "stream",
     "text": [
      "(150, 5)\n"
     ]
    },
    {
     "data": {
      "text/plain": [
       "sepal.length    float64\n",
       "sepal.width     float64\n",
       "petal.length    float64\n",
       "petal.width     float64\n",
       "variety          object\n",
       "dtype: object"
      ]
     },
     "execution_count": 13,
     "metadata": {},
     "output_type": "execute_result"
    }
   ],
   "source": [
    "print(copy_file_obj.shape)\n",
    "copy_file_obj.dtypes"
   ]
  },
  {
   "cell_type": "markdown",
   "id": "f4ee3c5c-2765-4124-b852-be021a3290bc",
   "metadata": {},
   "source": [
    "### .describe()"
   ]
  },
  {
   "cell_type": "code",
   "execution_count": 14,
   "id": "a7c3b91e-7ab9-4ff2-be0f-c048a892ac37",
   "metadata": {},
   "outputs": [
    {
     "data": {
      "text/html": [
       "<div>\n",
       "<style scoped>\n",
       "    .dataframe tbody tr th:only-of-type {\n",
       "        vertical-align: middle;\n",
       "    }\n",
       "\n",
       "    .dataframe tbody tr th {\n",
       "        vertical-align: top;\n",
       "    }\n",
       "\n",
       "    .dataframe thead th {\n",
       "        text-align: right;\n",
       "    }\n",
       "</style>\n",
       "<table border=\"1\" class=\"dataframe\">\n",
       "  <thead>\n",
       "    <tr style=\"text-align: right;\">\n",
       "      <th></th>\n",
       "      <th>sepal.length</th>\n",
       "      <th>sepal.width</th>\n",
       "      <th>petal.length</th>\n",
       "      <th>petal.width</th>\n",
       "    </tr>\n",
       "  </thead>\n",
       "  <tbody>\n",
       "    <tr>\n",
       "      <th>count</th>\n",
       "      <td>150.000000</td>\n",
       "      <td>150.000000</td>\n",
       "      <td>150.000000</td>\n",
       "      <td>150.000000</td>\n",
       "    </tr>\n",
       "    <tr>\n",
       "      <th>mean</th>\n",
       "      <td>5.843333</td>\n",
       "      <td>3.057333</td>\n",
       "      <td>3.758000</td>\n",
       "      <td>1.199333</td>\n",
       "    </tr>\n",
       "    <tr>\n",
       "      <th>std</th>\n",
       "      <td>0.828066</td>\n",
       "      <td>0.435866</td>\n",
       "      <td>1.765298</td>\n",
       "      <td>0.762238</td>\n",
       "    </tr>\n",
       "    <tr>\n",
       "      <th>min</th>\n",
       "      <td>4.300000</td>\n",
       "      <td>2.000000</td>\n",
       "      <td>1.000000</td>\n",
       "      <td>0.100000</td>\n",
       "    </tr>\n",
       "    <tr>\n",
       "      <th>25%</th>\n",
       "      <td>5.100000</td>\n",
       "      <td>2.800000</td>\n",
       "      <td>1.600000</td>\n",
       "      <td>0.300000</td>\n",
       "    </tr>\n",
       "    <tr>\n",
       "      <th>50%</th>\n",
       "      <td>5.800000</td>\n",
       "      <td>3.000000</td>\n",
       "      <td>4.350000</td>\n",
       "      <td>1.300000</td>\n",
       "    </tr>\n",
       "    <tr>\n",
       "      <th>75%</th>\n",
       "      <td>6.400000</td>\n",
       "      <td>3.300000</td>\n",
       "      <td>5.100000</td>\n",
       "      <td>1.800000</td>\n",
       "    </tr>\n",
       "    <tr>\n",
       "      <th>max</th>\n",
       "      <td>7.900000</td>\n",
       "      <td>4.400000</td>\n",
       "      <td>6.900000</td>\n",
       "      <td>2.500000</td>\n",
       "    </tr>\n",
       "  </tbody>\n",
       "</table>\n",
       "</div>"
      ],
      "text/plain": [
       "       sepal.length  sepal.width  petal.length  petal.width\n",
       "count    150.000000   150.000000    150.000000   150.000000\n",
       "mean       5.843333     3.057333      3.758000     1.199333\n",
       "std        0.828066     0.435866      1.765298     0.762238\n",
       "min        4.300000     2.000000      1.000000     0.100000\n",
       "25%        5.100000     2.800000      1.600000     0.300000\n",
       "50%        5.800000     3.000000      4.350000     1.300000\n",
       "75%        6.400000     3.300000      5.100000     1.800000\n",
       "max        7.900000     4.400000      6.900000     2.500000"
      ]
     },
     "execution_count": 14,
     "metadata": {},
     "output_type": "execute_result"
    }
   ],
   "source": [
    "copy_file_obj.describe()"
   ]
  },
  {
   "cell_type": "markdown",
   "id": "f23e382e-cd53-48e7-a48a-ba8c960c8bf5",
   "metadata": {},
   "source": [
    "## checking isnull and also total isnull in a column"
   ]
  },
  {
   "cell_type": "code",
   "execution_count": 15,
   "id": "fc3b7c26-c715-48bc-96fb-39ec6f98ce89",
   "metadata": {},
   "outputs": [
    {
     "name": "stdout",
     "output_type": "stream",
     "text": [
      "     sepal.length  sepal.width  petal.length  petal.width  variety\n",
      "0           False        False         False        False    False\n",
      "1           False        False         False        False    False\n",
      "2           False        False         False        False    False\n",
      "3           False        False         False        False    False\n",
      "4           False        False         False        False    False\n",
      "..            ...          ...           ...          ...      ...\n",
      "145         False        False         False        False    False\n",
      "146         False        False         False        False    False\n",
      "147         False        False         False        False    False\n",
      "148         False        False         False        False    False\n",
      "149         False        False         False        False    False\n",
      "\n",
      "[150 rows x 5 columns]\n"
     ]
    },
    {
     "data": {
      "text/plain": [
       "sepal.length    0\n",
       "sepal.width     0\n",
       "petal.length    0\n",
       "petal.width     0\n",
       "variety         0\n",
       "dtype: int64"
      ]
     },
     "execution_count": 15,
     "metadata": {},
     "output_type": "execute_result"
    }
   ],
   "source": [
    "print(copy_file_obj.isnull())\n",
    "copy_file_obj.isnull().sum()"
   ]
  },
  {
   "cell_type": "code",
   "execution_count": null,
   "id": "359e9638-ad83-48c3-b33a-a995b222833f",
   "metadata": {},
   "outputs": [],
   "source": []
  },
  {
   "cell_type": "markdown",
   "id": "f3d2e3a1-71ae-4189-8443-716b160b1944",
   "metadata": {},
   "source": [
    "## Data Manuplating"
   ]
  },
  {
   "cell_type": "markdown",
   "id": "7ade3335-5f29-4502-bea3-30b135de0487",
   "metadata": {},
   "source": [
    "## row .drop() by label"
   ]
  },
  {
   "cell_type": "code",
   "execution_count": 19,
   "id": "1f479fc4-a398-4306-b5ab-4da306cdd5d6",
   "metadata": {},
   "outputs": [
    {
     "name": "stdout",
     "output_type": "stream",
     "text": [
      "     sepal.length  sepal.width  petal.length  petal.width    variety\n",
      "0             5.1          3.5           1.4          0.2     Setosa\n",
      "1             4.9          3.0           1.4          0.2     Setosa\n",
      "2             4.7          3.2           1.3          0.2     Setosa\n",
      "3             4.6          3.1           1.5          0.2     Setosa\n",
      "4             5.0          3.6           1.4          0.2     Setosa\n",
      "..            ...          ...           ...          ...        ...\n",
      "145           6.7          3.0           5.2          2.3  Virginica\n",
      "146           6.3          2.5           5.0          1.9  Virginica\n",
      "147           6.5          3.0           5.2          2.0  Virginica\n",
      "148           6.2          3.4           5.4          2.3  Virginica\n",
      "149           5.9          3.0           5.1          1.8  Virginica\n",
      "\n",
      "[150 rows x 5 columns]\n",
      "     sepal.length  sepal.width  petal.length  petal.width    variety\n",
      "1             4.9          3.0           1.4          0.2     Setosa\n",
      "2             4.7          3.2           1.3          0.2     Setosa\n",
      "3             4.6          3.1           1.5          0.2     Setosa\n",
      "4             5.0          3.6           1.4          0.2     Setosa\n",
      "5             5.4          3.9           1.7          0.4     Setosa\n",
      "..            ...          ...           ...          ...        ...\n",
      "145           6.7          3.0           5.2          2.3  Virginica\n",
      "146           6.3          2.5           5.0          1.9  Virginica\n",
      "147           6.5          3.0           5.2          2.0  Virginica\n",
      "148           6.2          3.4           5.4          2.3  Virginica\n",
      "149           5.9          3.0           5.1          1.8  Virginica\n",
      "\n",
      "[149 rows x 5 columns]\n"
     ]
    }
   ],
   "source": [
    "print(file_obj)\n",
    "file_obj.drop(0, inplace=True)\n",
    "print(file_obj)"
   ]
  },
  {
   "cell_type": "markdown",
   "id": "fe6ab7ba-dd19-4965-b668-b9a045dfcc27",
   "metadata": {},
   "source": [
    "## .drop() on the basis of index number"
   ]
  },
  {
   "cell_type": "code",
   "execution_count": 4,
   "id": "6fb5f83a-202e-4e61-8500-c016ceb69625",
   "metadata": {},
   "outputs": [
    {
     "name": "stdout",
     "output_type": "stream",
     "text": [
      "     sepal.length  sepal.width  petal.length  petal.width    variety\n",
      "0             5.1          3.5           1.4          0.2     Setosa\n",
      "1             4.9          3.0           1.4          0.2     Setosa\n",
      "2             4.7          3.2           1.3          0.2     Setosa\n",
      "3             4.6          3.1           1.5          0.2     Setosa\n",
      "4             5.0          3.6           1.4          0.2     Setosa\n",
      "..            ...          ...           ...          ...        ...\n",
      "145           6.7          3.0           5.2          2.3  Virginica\n",
      "146           6.3          2.5           5.0          1.9  Virginica\n",
      "147           6.5          3.0           5.2          2.0  Virginica\n",
      "148           6.2          3.4           5.4          2.3  Virginica\n",
      "149           5.9          3.0           5.1          1.8  Virginica\n",
      "\n",
      "[150 rows x 5 columns]\n",
      "     sepal.length  sepal.width  petal.length  petal.width    variety\n",
      "2             4.7          3.2           1.3          0.2     Setosa\n",
      "3             4.6          3.1           1.5          0.2     Setosa\n",
      "4             5.0          3.6           1.4          0.2     Setosa\n",
      "5             5.4          3.9           1.7          0.4     Setosa\n",
      "6             4.6          3.4           1.4          0.3     Setosa\n",
      "..            ...          ...           ...          ...        ...\n",
      "145           6.7          3.0           5.2          2.3  Virginica\n",
      "146           6.3          2.5           5.0          1.9  Virginica\n",
      "147           6.5          3.0           5.2          2.0  Virginica\n",
      "148           6.2          3.4           5.4          2.3  Virginica\n",
      "149           5.9          3.0           5.1          1.8  Virginica\n",
      "\n",
      "[147 rows x 5 columns]\n"
     ]
    }
   ],
   "source": [
    "print(file_obj)\n",
    "file_obj.drop(13,inplace=True)\n",
    "file_obj.drop(file_obj.index[0:2],inplace=True)\n",
    "print(file_obj)"
   ]
  },
  {
   "cell_type": "markdown",
   "id": "3ffa777b-8abc-4f40-b17c-975997cdb380",
   "metadata": {},
   "source": [
    "## Accessing data on particular condition"
   ]
  },
  {
   "cell_type": "code",
   "execution_count": 3,
   "id": "93b2678c-e6ba-4aaf-a5e5-4944c86e485b",
   "metadata": {},
   "outputs": [
    {
     "data": {
      "text/html": [
       "<div>\n",
       "<style scoped>\n",
       "    .dataframe tbody tr th:only-of-type {\n",
       "        vertical-align: middle;\n",
       "    }\n",
       "\n",
       "    .dataframe tbody tr th {\n",
       "        vertical-align: top;\n",
       "    }\n",
       "\n",
       "    .dataframe thead th {\n",
       "        text-align: right;\n",
       "    }\n",
       "</style>\n",
       "<table border=\"1\" class=\"dataframe\">\n",
       "  <thead>\n",
       "    <tr style=\"text-align: right;\">\n",
       "      <th></th>\n",
       "      <th>sepal.length</th>\n",
       "      <th>sepal.width</th>\n",
       "      <th>petal.length</th>\n",
       "      <th>petal.width</th>\n",
       "      <th>variety</th>\n",
       "    </tr>\n",
       "  </thead>\n",
       "  <tbody>\n",
       "    <tr>\n",
       "      <th>0</th>\n",
       "      <td>5.1</td>\n",
       "      <td>3.5</td>\n",
       "      <td>1.4</td>\n",
       "      <td>0.2</td>\n",
       "      <td>Setosa</td>\n",
       "    </tr>\n",
       "    <tr>\n",
       "      <th>1</th>\n",
       "      <td>4.9</td>\n",
       "      <td>3.0</td>\n",
       "      <td>1.4</td>\n",
       "      <td>0.2</td>\n",
       "      <td>Setosa</td>\n",
       "    </tr>\n",
       "    <tr>\n",
       "      <th>2</th>\n",
       "      <td>4.7</td>\n",
       "      <td>3.2</td>\n",
       "      <td>1.3</td>\n",
       "      <td>0.2</td>\n",
       "      <td>Setosa</td>\n",
       "    </tr>\n",
       "    <tr>\n",
       "      <th>3</th>\n",
       "      <td>4.6</td>\n",
       "      <td>3.1</td>\n",
       "      <td>1.5</td>\n",
       "      <td>0.2</td>\n",
       "      <td>Setosa</td>\n",
       "    </tr>\n",
       "    <tr>\n",
       "      <th>4</th>\n",
       "      <td>5.0</td>\n",
       "      <td>3.6</td>\n",
       "      <td>1.4</td>\n",
       "      <td>0.2</td>\n",
       "      <td>Setosa</td>\n",
       "    </tr>\n",
       "    <tr>\n",
       "      <th>5</th>\n",
       "      <td>5.4</td>\n",
       "      <td>3.9</td>\n",
       "      <td>1.7</td>\n",
       "      <td>0.4</td>\n",
       "      <td>Setosa</td>\n",
       "    </tr>\n",
       "    <tr>\n",
       "      <th>6</th>\n",
       "      <td>4.6</td>\n",
       "      <td>3.4</td>\n",
       "      <td>1.4</td>\n",
       "      <td>0.3</td>\n",
       "      <td>Setosa</td>\n",
       "    </tr>\n",
       "    <tr>\n",
       "      <th>7</th>\n",
       "      <td>5.0</td>\n",
       "      <td>3.4</td>\n",
       "      <td>1.5</td>\n",
       "      <td>0.2</td>\n",
       "      <td>Setosa</td>\n",
       "    </tr>\n",
       "    <tr>\n",
       "      <th>8</th>\n",
       "      <td>4.4</td>\n",
       "      <td>2.9</td>\n",
       "      <td>1.4</td>\n",
       "      <td>0.2</td>\n",
       "      <td>Setosa</td>\n",
       "    </tr>\n",
       "    <tr>\n",
       "      <th>9</th>\n",
       "      <td>4.9</td>\n",
       "      <td>3.1</td>\n",
       "      <td>1.5</td>\n",
       "      <td>0.1</td>\n",
       "      <td>Setosa</td>\n",
       "    </tr>\n",
       "    <tr>\n",
       "      <th>10</th>\n",
       "      <td>5.4</td>\n",
       "      <td>3.7</td>\n",
       "      <td>1.5</td>\n",
       "      <td>0.2</td>\n",
       "      <td>Setosa</td>\n",
       "    </tr>\n",
       "    <tr>\n",
       "      <th>11</th>\n",
       "      <td>4.8</td>\n",
       "      <td>3.4</td>\n",
       "      <td>1.6</td>\n",
       "      <td>0.2</td>\n",
       "      <td>Setosa</td>\n",
       "    </tr>\n",
       "    <tr>\n",
       "      <th>12</th>\n",
       "      <td>4.8</td>\n",
       "      <td>3.0</td>\n",
       "      <td>1.4</td>\n",
       "      <td>0.1</td>\n",
       "      <td>Setosa</td>\n",
       "    </tr>\n",
       "    <tr>\n",
       "      <th>13</th>\n",
       "      <td>4.3</td>\n",
       "      <td>3.0</td>\n",
       "      <td>1.1</td>\n",
       "      <td>0.1</td>\n",
       "      <td>Setosa</td>\n",
       "    </tr>\n",
       "    <tr>\n",
       "      <th>14</th>\n",
       "      <td>5.8</td>\n",
       "      <td>4.0</td>\n",
       "      <td>1.2</td>\n",
       "      <td>0.2</td>\n",
       "      <td>Setosa</td>\n",
       "    </tr>\n",
       "    <tr>\n",
       "      <th>15</th>\n",
       "      <td>5.7</td>\n",
       "      <td>4.4</td>\n",
       "      <td>1.5</td>\n",
       "      <td>0.4</td>\n",
       "      <td>Setosa</td>\n",
       "    </tr>\n",
       "    <tr>\n",
       "      <th>16</th>\n",
       "      <td>5.4</td>\n",
       "      <td>3.9</td>\n",
       "      <td>1.3</td>\n",
       "      <td>0.4</td>\n",
       "      <td>Setosa</td>\n",
       "    </tr>\n",
       "    <tr>\n",
       "      <th>17</th>\n",
       "      <td>5.1</td>\n",
       "      <td>3.5</td>\n",
       "      <td>1.4</td>\n",
       "      <td>0.3</td>\n",
       "      <td>Setosa</td>\n",
       "    </tr>\n",
       "    <tr>\n",
       "      <th>18</th>\n",
       "      <td>5.7</td>\n",
       "      <td>3.8</td>\n",
       "      <td>1.7</td>\n",
       "      <td>0.3</td>\n",
       "      <td>Setosa</td>\n",
       "    </tr>\n",
       "    <tr>\n",
       "      <th>19</th>\n",
       "      <td>5.1</td>\n",
       "      <td>3.8</td>\n",
       "      <td>1.5</td>\n",
       "      <td>0.3</td>\n",
       "      <td>Setosa</td>\n",
       "    </tr>\n",
       "    <tr>\n",
       "      <th>20</th>\n",
       "      <td>5.4</td>\n",
       "      <td>3.4</td>\n",
       "      <td>1.7</td>\n",
       "      <td>0.2</td>\n",
       "      <td>Setosa</td>\n",
       "    </tr>\n",
       "    <tr>\n",
       "      <th>21</th>\n",
       "      <td>5.1</td>\n",
       "      <td>3.7</td>\n",
       "      <td>1.5</td>\n",
       "      <td>0.4</td>\n",
       "      <td>Setosa</td>\n",
       "    </tr>\n",
       "    <tr>\n",
       "      <th>22</th>\n",
       "      <td>4.6</td>\n",
       "      <td>3.6</td>\n",
       "      <td>1.0</td>\n",
       "      <td>0.2</td>\n",
       "      <td>Setosa</td>\n",
       "    </tr>\n",
       "    <tr>\n",
       "      <th>23</th>\n",
       "      <td>5.1</td>\n",
       "      <td>3.3</td>\n",
       "      <td>1.7</td>\n",
       "      <td>0.5</td>\n",
       "      <td>Setosa</td>\n",
       "    </tr>\n",
       "    <tr>\n",
       "      <th>24</th>\n",
       "      <td>4.8</td>\n",
       "      <td>3.4</td>\n",
       "      <td>1.9</td>\n",
       "      <td>0.2</td>\n",
       "      <td>Setosa</td>\n",
       "    </tr>\n",
       "    <tr>\n",
       "      <th>25</th>\n",
       "      <td>5.0</td>\n",
       "      <td>3.0</td>\n",
       "      <td>1.6</td>\n",
       "      <td>0.2</td>\n",
       "      <td>Setosa</td>\n",
       "    </tr>\n",
       "    <tr>\n",
       "      <th>26</th>\n",
       "      <td>5.0</td>\n",
       "      <td>3.4</td>\n",
       "      <td>1.6</td>\n",
       "      <td>0.4</td>\n",
       "      <td>Setosa</td>\n",
       "    </tr>\n",
       "    <tr>\n",
       "      <th>27</th>\n",
       "      <td>5.2</td>\n",
       "      <td>3.5</td>\n",
       "      <td>1.5</td>\n",
       "      <td>0.2</td>\n",
       "      <td>Setosa</td>\n",
       "    </tr>\n",
       "    <tr>\n",
       "      <th>28</th>\n",
       "      <td>5.2</td>\n",
       "      <td>3.4</td>\n",
       "      <td>1.4</td>\n",
       "      <td>0.2</td>\n",
       "      <td>Setosa</td>\n",
       "    </tr>\n",
       "    <tr>\n",
       "      <th>29</th>\n",
       "      <td>4.7</td>\n",
       "      <td>3.2</td>\n",
       "      <td>1.6</td>\n",
       "      <td>0.2</td>\n",
       "      <td>Setosa</td>\n",
       "    </tr>\n",
       "    <tr>\n",
       "      <th>30</th>\n",
       "      <td>4.8</td>\n",
       "      <td>3.1</td>\n",
       "      <td>1.6</td>\n",
       "      <td>0.2</td>\n",
       "      <td>Setosa</td>\n",
       "    </tr>\n",
       "    <tr>\n",
       "      <th>31</th>\n",
       "      <td>5.4</td>\n",
       "      <td>3.4</td>\n",
       "      <td>1.5</td>\n",
       "      <td>0.4</td>\n",
       "      <td>Setosa</td>\n",
       "    </tr>\n",
       "    <tr>\n",
       "      <th>32</th>\n",
       "      <td>5.2</td>\n",
       "      <td>4.1</td>\n",
       "      <td>1.5</td>\n",
       "      <td>0.1</td>\n",
       "      <td>Setosa</td>\n",
       "    </tr>\n",
       "    <tr>\n",
       "      <th>33</th>\n",
       "      <td>5.5</td>\n",
       "      <td>4.2</td>\n",
       "      <td>1.4</td>\n",
       "      <td>0.2</td>\n",
       "      <td>Setosa</td>\n",
       "    </tr>\n",
       "    <tr>\n",
       "      <th>34</th>\n",
       "      <td>4.9</td>\n",
       "      <td>3.1</td>\n",
       "      <td>1.5</td>\n",
       "      <td>0.2</td>\n",
       "      <td>Setosa</td>\n",
       "    </tr>\n",
       "    <tr>\n",
       "      <th>35</th>\n",
       "      <td>5.0</td>\n",
       "      <td>3.2</td>\n",
       "      <td>1.2</td>\n",
       "      <td>0.2</td>\n",
       "      <td>Setosa</td>\n",
       "    </tr>\n",
       "    <tr>\n",
       "      <th>36</th>\n",
       "      <td>5.5</td>\n",
       "      <td>3.5</td>\n",
       "      <td>1.3</td>\n",
       "      <td>0.2</td>\n",
       "      <td>Setosa</td>\n",
       "    </tr>\n",
       "    <tr>\n",
       "      <th>37</th>\n",
       "      <td>4.9</td>\n",
       "      <td>3.6</td>\n",
       "      <td>1.4</td>\n",
       "      <td>0.1</td>\n",
       "      <td>Setosa</td>\n",
       "    </tr>\n",
       "    <tr>\n",
       "      <th>38</th>\n",
       "      <td>4.4</td>\n",
       "      <td>3.0</td>\n",
       "      <td>1.3</td>\n",
       "      <td>0.2</td>\n",
       "      <td>Setosa</td>\n",
       "    </tr>\n",
       "    <tr>\n",
       "      <th>39</th>\n",
       "      <td>5.1</td>\n",
       "      <td>3.4</td>\n",
       "      <td>1.5</td>\n",
       "      <td>0.2</td>\n",
       "      <td>Setosa</td>\n",
       "    </tr>\n",
       "    <tr>\n",
       "      <th>40</th>\n",
       "      <td>5.0</td>\n",
       "      <td>3.5</td>\n",
       "      <td>1.3</td>\n",
       "      <td>0.3</td>\n",
       "      <td>Setosa</td>\n",
       "    </tr>\n",
       "    <tr>\n",
       "      <th>41</th>\n",
       "      <td>4.5</td>\n",
       "      <td>2.3</td>\n",
       "      <td>1.3</td>\n",
       "      <td>0.3</td>\n",
       "      <td>Setosa</td>\n",
       "    </tr>\n",
       "    <tr>\n",
       "      <th>42</th>\n",
       "      <td>4.4</td>\n",
       "      <td>3.2</td>\n",
       "      <td>1.3</td>\n",
       "      <td>0.2</td>\n",
       "      <td>Setosa</td>\n",
       "    </tr>\n",
       "    <tr>\n",
       "      <th>43</th>\n",
       "      <td>5.0</td>\n",
       "      <td>3.5</td>\n",
       "      <td>1.6</td>\n",
       "      <td>0.6</td>\n",
       "      <td>Setosa</td>\n",
       "    </tr>\n",
       "    <tr>\n",
       "      <th>44</th>\n",
       "      <td>5.1</td>\n",
       "      <td>3.8</td>\n",
       "      <td>1.9</td>\n",
       "      <td>0.4</td>\n",
       "      <td>Setosa</td>\n",
       "    </tr>\n",
       "    <tr>\n",
       "      <th>45</th>\n",
       "      <td>4.8</td>\n",
       "      <td>3.0</td>\n",
       "      <td>1.4</td>\n",
       "      <td>0.3</td>\n",
       "      <td>Setosa</td>\n",
       "    </tr>\n",
       "    <tr>\n",
       "      <th>46</th>\n",
       "      <td>5.1</td>\n",
       "      <td>3.8</td>\n",
       "      <td>1.6</td>\n",
       "      <td>0.2</td>\n",
       "      <td>Setosa</td>\n",
       "    </tr>\n",
       "    <tr>\n",
       "      <th>47</th>\n",
       "      <td>4.6</td>\n",
       "      <td>3.2</td>\n",
       "      <td>1.4</td>\n",
       "      <td>0.2</td>\n",
       "      <td>Setosa</td>\n",
       "    </tr>\n",
       "    <tr>\n",
       "      <th>48</th>\n",
       "      <td>5.3</td>\n",
       "      <td>3.7</td>\n",
       "      <td>1.5</td>\n",
       "      <td>0.2</td>\n",
       "      <td>Setosa</td>\n",
       "    </tr>\n",
       "    <tr>\n",
       "      <th>49</th>\n",
       "      <td>5.0</td>\n",
       "      <td>3.3</td>\n",
       "      <td>1.4</td>\n",
       "      <td>0.2</td>\n",
       "      <td>Setosa</td>\n",
       "    </tr>\n",
       "  </tbody>\n",
       "</table>\n",
       "</div>"
      ],
      "text/plain": [
       "    sepal.length  sepal.width  petal.length  petal.width variety\n",
       "0            5.1          3.5           1.4          0.2  Setosa\n",
       "1            4.9          3.0           1.4          0.2  Setosa\n",
       "2            4.7          3.2           1.3          0.2  Setosa\n",
       "3            4.6          3.1           1.5          0.2  Setosa\n",
       "4            5.0          3.6           1.4          0.2  Setosa\n",
       "5            5.4          3.9           1.7          0.4  Setosa\n",
       "6            4.6          3.4           1.4          0.3  Setosa\n",
       "7            5.0          3.4           1.5          0.2  Setosa\n",
       "8            4.4          2.9           1.4          0.2  Setosa\n",
       "9            4.9          3.1           1.5          0.1  Setosa\n",
       "10           5.4          3.7           1.5          0.2  Setosa\n",
       "11           4.8          3.4           1.6          0.2  Setosa\n",
       "12           4.8          3.0           1.4          0.1  Setosa\n",
       "13           4.3          3.0           1.1          0.1  Setosa\n",
       "14           5.8          4.0           1.2          0.2  Setosa\n",
       "15           5.7          4.4           1.5          0.4  Setosa\n",
       "16           5.4          3.9           1.3          0.4  Setosa\n",
       "17           5.1          3.5           1.4          0.3  Setosa\n",
       "18           5.7          3.8           1.7          0.3  Setosa\n",
       "19           5.1          3.8           1.5          0.3  Setosa\n",
       "20           5.4          3.4           1.7          0.2  Setosa\n",
       "21           5.1          3.7           1.5          0.4  Setosa\n",
       "22           4.6          3.6           1.0          0.2  Setosa\n",
       "23           5.1          3.3           1.7          0.5  Setosa\n",
       "24           4.8          3.4           1.9          0.2  Setosa\n",
       "25           5.0          3.0           1.6          0.2  Setosa\n",
       "26           5.0          3.4           1.6          0.4  Setosa\n",
       "27           5.2          3.5           1.5          0.2  Setosa\n",
       "28           5.2          3.4           1.4          0.2  Setosa\n",
       "29           4.7          3.2           1.6          0.2  Setosa\n",
       "30           4.8          3.1           1.6          0.2  Setosa\n",
       "31           5.4          3.4           1.5          0.4  Setosa\n",
       "32           5.2          4.1           1.5          0.1  Setosa\n",
       "33           5.5          4.2           1.4          0.2  Setosa\n",
       "34           4.9          3.1           1.5          0.2  Setosa\n",
       "35           5.0          3.2           1.2          0.2  Setosa\n",
       "36           5.5          3.5           1.3          0.2  Setosa\n",
       "37           4.9          3.6           1.4          0.1  Setosa\n",
       "38           4.4          3.0           1.3          0.2  Setosa\n",
       "39           5.1          3.4           1.5          0.2  Setosa\n",
       "40           5.0          3.5           1.3          0.3  Setosa\n",
       "41           4.5          2.3           1.3          0.3  Setosa\n",
       "42           4.4          3.2           1.3          0.2  Setosa\n",
       "43           5.0          3.5           1.6          0.6  Setosa\n",
       "44           5.1          3.8           1.9          0.4  Setosa\n",
       "45           4.8          3.0           1.4          0.3  Setosa\n",
       "46           5.1          3.8           1.6          0.2  Setosa\n",
       "47           4.6          3.2           1.4          0.2  Setosa\n",
       "48           5.3          3.7           1.5          0.2  Setosa\n",
       "49           5.0          3.3           1.4          0.2  Setosa"
      ]
     },
     "execution_count": 3,
     "metadata": {},
     "output_type": "execute_result"
    }
   ],
   "source": [
    "c=copy[copy.variety=='Setosa']\n",
    "c"
   ]
  },
  {
   "cell_type": "markdown",
   "id": "3ab2abb8-5976-4852-ad3f-e2fa4be9cd66",
   "metadata": {},
   "source": [
    "## .iloc() vs loc"
   ]
  },
  {
   "cell_type": "code",
   "execution_count": 11,
   "id": "206488b1-464b-42cd-985f-ecf8a584bcda",
   "metadata": {},
   "outputs": [
    {
     "name": "stdout",
     "output_type": "stream",
     "text": [
      "   sepal.length  sepal.width  petal.length  petal.width variety\n",
      "2           4.7          3.2           1.3          0.2  Setosa\n",
      "3           4.6          3.1           1.5          0.2  Setosa\n",
      "4           5.0          3.6           1.4          0.2  Setosa\n",
      "5           5.4          3.9           1.7          0.4  Setosa\n",
      "6           4.6          3.4           1.4          0.3  Setosa\n",
      "sepal.length       4.7\n",
      "sepal.width        3.2\n",
      "petal.length       1.3\n",
      "petal.width        0.2\n",
      "variety         Setosa\n",
      "Name: 2, dtype: object\n",
      "\n",
      "sepal.length       4.6\n",
      "sepal.width        3.4\n",
      "petal.length       1.4\n",
      "petal.width        0.3\n",
      "variety         Setosa\n",
      "Name: 6, dtype: object\n"
     ]
    }
   ],
   "source": [
    "print(file_obj.head())\n",
    "print(file_obj.iloc[0])  ## print row acc. to its index\n",
    "print()\n",
    "print(file_obj.loc[6])  ## print row acc. to its label"
   ]
  },
  {
   "cell_type": "markdown",
   "id": "071e5d15-df91-4080-b787-b4ffb9f1d5d4",
   "metadata": {},
   "source": [
    "## Add a new row"
   ]
  },
  {
   "cell_type": "code",
   "execution_count": 14,
   "id": "bf5e3cde-f689-4a7a-89bd-93e890b3bd9a",
   "metadata": {},
   "outputs": [
    {
     "name": "stdout",
     "output_type": "stream",
     "text": [
      "     sepal.length  sepal.width  petal.length  petal.width    variety\n",
      "145           6.7          3.0           5.2          2.3  Virginica\n",
      "146           6.3          2.5           5.0          1.9  Virginica\n",
      "147           6.5          3.0           5.2          2.0  Virginica\n",
      "148           6.2          3.4           5.4          2.3  Virginica\n",
      "149           1.0          2.0           3.0          4.0     Setosa\n",
      "     sepal.length  sepal.width  petal.length  petal.width    variety\n",
      "146           6.3          2.5           5.0          1.9  Virginica\n",
      "147           6.5          3.0           5.2          2.0  Virginica\n",
      "148           6.2          3.4           5.4          2.3  Virginica\n",
      "149           1.0          2.0           3.0          4.0     Setosa\n",
      "150           1.0          2.0           3.0          4.0     Setosa\n"
     ]
    }
   ],
   "source": [
    "print(file_obj.tail())\n",
    "file_obj.loc[150]=[1,2,3,4,'Setosa']\n",
    "print(file_obj.tail())"
   ]
  },
  {
   "cell_type": "markdown",
   "id": "542b40d7-95ab-4f35-ad7f-239ae9119366",
   "metadata": {},
   "source": [
    "## Deleting and Adding column"
   ]
  },
  {
   "cell_type": "code",
   "execution_count": 17,
   "id": "acf485be-9d35-432e-9d81-635f04f68347",
   "metadata": {},
   "outputs": [
    {
     "name": "stdout",
     "output_type": "stream",
     "text": [
      "   petal.length  petal.width variety\n",
      "2           1.3          0.2  Setosa\n",
      "3           1.5          0.2  Setosa\n",
      "4           1.4          0.2  Setosa\n",
      "5           1.7          0.4  Setosa\n",
      "6           1.4          0.3  Setosa\n"
     ]
    }
   ],
   "source": [
    "#del file_obj['sepal.length']\n",
    "del file_obj['sepal.width']\n",
    "print(file_obj.head())"
   ]
  },
  {
   "cell_type": "code",
   "execution_count": 18,
   "id": "8577602e-c8e4-4086-8ebf-836976c04702",
   "metadata": {},
   "outputs": [
    {
     "name": "stdout",
     "output_type": "stream",
     "text": [
      "     petal.length  petal.width    variety  difference_pl_pw\n",
      "2             1.3          0.2     Setosa               1.1\n",
      "3             1.5          0.2     Setosa               1.3\n",
      "4             1.4          0.2     Setosa               1.2\n",
      "5             1.7          0.4     Setosa               1.3\n",
      "6             1.4          0.3     Setosa               1.1\n",
      "..            ...          ...        ...               ...\n",
      "146           5.0          1.9  Virginica               3.1\n",
      "147           5.2          2.0  Virginica               3.2\n",
      "148           5.4          2.3  Virginica               3.1\n",
      "149           3.0          4.0     Setosa              -1.0\n",
      "150           3.0          4.0     Setosa              -1.0\n",
      "\n",
      "[148 rows x 4 columns]\n"
     ]
    }
   ],
   "source": [
    "## Adding a column\n",
    "file_obj['difference_pl_pw']=file_obj['petal.length']-file_obj['petal.width']\n",
    "print(file_obj)"
   ]
  },
  {
   "cell_type": "code",
   "execution_count": null,
   "id": "261e089b-3408-46a6-b435-064e90a8ae91",
   "metadata": {},
   "outputs": [],
   "source": []
  },
  {
   "cell_type": "markdown",
   "id": "b6dd885d-e9f3-46e4-866c-23c427bf9a25",
   "metadata": {},
   "source": [
    "## Dealing with Nan data"
   ]
  },
  {
   "cell_type": "code",
   "execution_count": 20,
   "id": "be9170a6-728f-43f6-a7b0-93d5ef18cde7",
   "metadata": {},
   "outputs": [
    {
     "name": "stdout",
     "output_type": "stream",
     "text": [
      "   sepal.length  sepal.width  petal.length  petal.width variety\n",
      "0           5.1          3.5           1.4          0.2  Setosa\n",
      "1           4.9          3.0           1.4          0.2  Setosa\n",
      "2           4.7          3.2           1.3          0.2  Setosa\n",
      "3           4.6          3.1           1.5          0.2  Setosa\n",
      "4           5.0          3.6           1.4          0.2  Setosa\n"
     ]
    }
   ],
   "source": [
    "print(file_obj.head())"
   ]
  },
  {
   "cell_type": "code",
   "execution_count": 21,
   "id": "41139554-9217-4525-ab6b-7b93f6b561dd",
   "metadata": {},
   "outputs": [
    {
     "name": "stdout",
     "output_type": "stream",
     "text": [
      "     sepal.length  sepal.width  petal.length  petal.width    variety\n",
      "0             5.1          3.5           1.4          0.2     Setosa\n",
      "1             4.9          NaN           NaN          0.2     Setosa\n",
      "2             4.7          NaN           NaN          0.2     Setosa\n",
      "3             4.6          3.1           1.5          0.2     Setosa\n",
      "4             5.0          3.6           1.4          0.2     Setosa\n",
      "..            ...          ...           ...          ...        ...\n",
      "145           6.7          3.0           5.2          2.3  Virginica\n",
      "146           6.3          2.5           5.0          1.9  Virginica\n",
      "147           6.5          3.0           5.2          2.0  Virginica\n",
      "148           6.2          3.4           5.4          2.3  Virginica\n",
      "149           5.9          3.0           5.1          1.8  Virginica\n",
      "\n",
      "[150 rows x 5 columns]\n"
     ]
    }
   ],
   "source": [
    "file_obj.iloc[1:3,1:3]=np.nan\n",
    "print(file_obj)"
   ]
  },
  {
   "cell_type": "markdown",
   "id": "857b27be-fcfa-4323-9f48-4e1a6eb9c1db",
   "metadata": {},
   "source": [
    "## Changing that NaN value with mean value"
   ]
  },
  {
   "cell_type": "code",
   "execution_count": 27,
   "id": "ec3e32d1-06ad-40b7-8b30-bccbe934bbd2",
   "metadata": {},
   "outputs": [
    {
     "ename": "AttributeError",
     "evalue": "'DataFrame' object has no attribute 'sepal'",
     "output_type": "error",
     "traceback": [
      "\u001b[1;31m---------------------------------------------------------------------------\u001b[0m",
      "\u001b[1;31mAttributeError\u001b[0m                            Traceback (most recent call last)",
      "\u001b[1;32m~\\AppData\\Local\\Temp\\ipykernel_2904\\428507122.py\u001b[0m in \u001b[0;36m?\u001b[1;34m()\u001b[0m\n\u001b[1;32m----> 1\u001b[1;33m \u001b[0mfile_obj\u001b[0m\u001b[1;33m.\u001b[0m\u001b[0msepal\u001b[0m\u001b[1;33m.\u001b[0m\u001b[0mwidth\u001b[0m\u001b[1;33m.\u001b[0m\u001b[0mfillna\u001b[0m\u001b[1;33m(\u001b[0m\u001b[0mfile_obj\u001b[0m\u001b[1;33m.\u001b[0m\u001b[0msepal\u001b[0m\u001b[1;33m.\u001b[0m\u001b[0mwidth\u001b[0m\u001b[1;33m.\u001b[0m\u001b[0mmean\u001b[0m\u001b[1;33m(\u001b[0m\u001b[1;33m)\u001b[0m\u001b[1;33m,\u001b[0m\u001b[0minplace\u001b[0m\u001b[1;33m=\u001b[0m\u001b[1;32mTrue\u001b[0m\u001b[1;33m)\u001b[0m\u001b[1;33m\u001b[0m\u001b[1;33m\u001b[0m\u001b[0m\n\u001b[0m\u001b[0;32m      2\u001b[0m \u001b[0mfile_obj\u001b[0m\u001b[1;33m.\u001b[0m\u001b[0mpetal\u001b[0m\u001b[1;33m.\u001b[0m\u001b[0mlength\u001b[0m\u001b[1;33m.\u001b[0m\u001b[0mfillna\u001b[0m\u001b[1;33m(\u001b[0m\u001b[0mfile_obj\u001b[0m\u001b[1;33m.\u001b[0m\u001b[0mpetal\u001b[0m\u001b[1;33m.\u001b[0m\u001b[0mlenght\u001b[0m\u001b[1;33m.\u001b[0m\u001b[0mmean\u001b[0m\u001b[1;33m(\u001b[0m\u001b[1;33m)\u001b[0m\u001b[1;33m,\u001b[0m\u001b[0minplace\u001b[0m\u001b[1;33m=\u001b[0m\u001b[1;32mTrue\u001b[0m\u001b[1;33m)\u001b[0m\u001b[1;33m\u001b[0m\u001b[1;33m\u001b[0m\u001b[0m\n\u001b[0;32m      3\u001b[0m \u001b[0mprint\u001b[0m\u001b[1;33m(\u001b[0m\u001b[0mfile_obj\u001b[0m\u001b[1;33m)\u001b[0m\u001b[1;33m\u001b[0m\u001b[1;33m\u001b[0m\u001b[0m\n",
      "\u001b[1;32m~\\anaconda3\\Lib\\site-packages\\pandas\\core\\generic.py\u001b[0m in \u001b[0;36m?\u001b[1;34m(self, name)\u001b[0m\n\u001b[0;32m   6200\u001b[0m             \u001b[1;32mand\u001b[0m \u001b[0mname\u001b[0m \u001b[1;32mnot\u001b[0m \u001b[1;32min\u001b[0m \u001b[0mself\u001b[0m\u001b[1;33m.\u001b[0m\u001b[0m_accessors\u001b[0m\u001b[1;33m\u001b[0m\u001b[1;33m\u001b[0m\u001b[0m\n\u001b[0;32m   6201\u001b[0m             \u001b[1;32mand\u001b[0m \u001b[0mself\u001b[0m\u001b[1;33m.\u001b[0m\u001b[0m_info_axis\u001b[0m\u001b[1;33m.\u001b[0m\u001b[0m_can_hold_identifiers_and_holds_name\u001b[0m\u001b[1;33m(\u001b[0m\u001b[0mname\u001b[0m\u001b[1;33m)\u001b[0m\u001b[1;33m\u001b[0m\u001b[1;33m\u001b[0m\u001b[0m\n\u001b[0;32m   6202\u001b[0m         ):\n\u001b[0;32m   6203\u001b[0m             \u001b[1;32mreturn\u001b[0m \u001b[0mself\u001b[0m\u001b[1;33m[\u001b[0m\u001b[0mname\u001b[0m\u001b[1;33m]\u001b[0m\u001b[1;33m\u001b[0m\u001b[1;33m\u001b[0m\u001b[0m\n\u001b[1;32m-> 6204\u001b[1;33m         \u001b[1;32mreturn\u001b[0m \u001b[0mobject\u001b[0m\u001b[1;33m.\u001b[0m\u001b[0m__getattribute__\u001b[0m\u001b[1;33m(\u001b[0m\u001b[0mself\u001b[0m\u001b[1;33m,\u001b[0m \u001b[0mname\u001b[0m\u001b[1;33m)\u001b[0m\u001b[1;33m\u001b[0m\u001b[1;33m\u001b[0m\u001b[0m\n\u001b[0m",
      "\u001b[1;31mAttributeError\u001b[0m: 'DataFrame' object has no attribute 'sepal'"
     ]
    }
   ],
   "source": [
    "file_obj.sepal.width.fillna(file_obj.sepal.width.mean(),inplace=True)\n",
    "file_obj.petal.length.fillna(file_obj.petal.lenght.mean(),inplace=True)\n",
    "print(file_obj)"
   ]
  },
  {
   "cell_type": "code",
   "execution_count": null,
   "id": "891aef3d-e5d4-4d5f-ae10-de15159c6500",
   "metadata": {},
   "outputs": [],
   "source": []
  },
  {
   "cell_type": "markdown",
   "id": "dc1b5b55-c9f4-4c51-97c8-a9ceafda5f07",
   "metadata": {},
   "source": [
    "## Handling string based data"
   ]
  },
  {
   "cell_type": "code",
   "execution_count": 41,
   "id": "0faddf67-b45d-423e-ab73-caaba0f07cb8",
   "metadata": {},
   "outputs": [
    {
     "name": "stdout",
     "output_type": "stream",
     "text": [
      "     sepal.length  sepal.width  petal.length  petal.width    variety Gender\n",
      "0             5.1          3.5           1.4          0.2     Setosa   Male\n",
      "1             4.9          NaN           NaN          0.2     Setosa   Male\n",
      "2             4.7          NaN           NaN          0.2     Setosa   Male\n",
      "3             4.6          3.1           1.5          0.2     Setosa   Male\n",
      "4             5.0          3.6           1.4          0.2     Setosa   Male\n",
      "..            ...          ...           ...          ...        ...    ...\n",
      "145           6.7          3.0           5.2          2.3  Virginica   Male\n",
      "146           6.3          2.5           5.0          1.9  Virginica   Male\n",
      "147           6.5          3.0           5.2          2.0  Virginica   Male\n",
      "148           6.2          3.4           5.4          2.3  Virginica   Male\n",
      "149           5.9          3.0           5.1          1.8  Virginica   Male\n",
      "\n",
      "[150 rows x 6 columns]\n",
      "     sepal.length  sepal.width  petal.length  petal.width    variety  Gender\n",
      "0             5.1          3.5           1.4          0.2     Setosa  Female\n",
      "1             4.9          NaN           NaN          0.2     Setosa  Female\n",
      "2             4.7          NaN           NaN          0.2     Setosa  Female\n",
      "3             4.6          3.1           1.5          0.2     Setosa  Female\n",
      "4             5.0          3.6           1.4          0.2     Setosa    Male\n",
      "..            ...          ...           ...          ...        ...     ...\n",
      "145           6.7          3.0           5.2          2.3  Virginica    Male\n",
      "146           6.3          2.5           5.0          1.9  Virginica    Male\n",
      "147           6.5          3.0           5.2          2.0  Virginica    Male\n",
      "148           6.2          3.4           5.4          2.3  Virginica    Male\n",
      "149           5.9          3.0           5.1          1.8  Virginica    Male\n",
      "\n",
      "[150 rows x 6 columns]\n"
     ]
    }
   ],
   "source": [
    "#print(file_obj)\n",
    "file_obj['Gender']='Male'\n",
    "print(file_obj)\n",
    "file_obj.iloc[0:4,5]='Female'\n",
    "print(file_obj)\n"
   ]
  },
  {
   "cell_type": "markdown",
   "id": "4fbfae8f-ad3e-4fd6-af75-714210777e51",
   "metadata": {},
   "source": [
    "## Changing string to numeric value to apply mathematical operations on it"
   ]
  },
  {
   "cell_type": "code",
   "execution_count": 42,
   "id": "95d7b550-1f50-457f-b377-05cace857213",
   "metadata": {},
   "outputs": [
    {
     "name": "stdout",
     "output_type": "stream",
     "text": [
      "     sepal.length  sepal.width  petal.length  petal.width    variety  Gender  \\\n",
      "0             5.1          3.5           1.4          0.2     Setosa  Female   \n",
      "1             4.9          NaN           NaN          0.2     Setosa  Female   \n",
      "2             4.7          NaN           NaN          0.2     Setosa  Female   \n",
      "3             4.6          3.1           1.5          0.2     Setosa  Female   \n",
      "4             5.0          3.6           1.4          0.2     Setosa    Male   \n",
      "..            ...          ...           ...          ...        ...     ...   \n",
      "145           6.7          3.0           5.2          2.3  Virginica    Male   \n",
      "146           6.3          2.5           5.0          1.9  Virginica    Male   \n",
      "147           6.5          3.0           5.2          2.0  Virginica    Male   \n",
      "148           6.2          3.4           5.4          2.3  Virginica    Male   \n",
      "149           5.9          3.0           5.1          1.8  Virginica    Male   \n",
      "\n",
      "     sex  \n",
      "0      0  \n",
      "1      0  \n",
      "2      0  \n",
      "3      0  \n",
      "4      1  \n",
      "..   ...  \n",
      "145    1  \n",
      "146    1  \n",
      "147    1  \n",
      "148    1  \n",
      "149    1  \n",
      "\n",
      "[150 rows x 7 columns]\n",
      "     sepal.length  sepal.width  petal.length  petal.width    variety  sex\n",
      "0             5.1          3.5           1.4          0.2     Setosa    0\n",
      "1             4.9          NaN           NaN          0.2     Setosa    0\n",
      "2             4.7          NaN           NaN          0.2     Setosa    0\n",
      "3             4.6          3.1           1.5          0.2     Setosa    0\n",
      "4             5.0          3.6           1.4          0.2     Setosa    1\n",
      "..            ...          ...           ...          ...        ...  ...\n",
      "145           6.7          3.0           5.2          2.3  Virginica    1\n",
      "146           6.3          2.5           5.0          1.9  Virginica    1\n",
      "147           6.5          3.0           5.2          2.0  Virginica    1\n",
      "148           6.2          3.4           5.4          2.3  Virginica    1\n",
      "149           5.9          3.0           5.1          1.8  Virginica    1\n",
      "\n",
      "[150 rows x 6 columns]\n"
     ]
    }
   ],
   "source": [
    "##using .apply() function            Changing string to numeric value to apply mathematical operations on it\n",
    "def f(s):\n",
    "    if s=='Male':\n",
    "        return 1\n",
    "    else:\n",
    "        return 0\n",
    "\n",
    "file_obj['sex']=file_obj.Gender.apply(f)\n",
    "print(file_obj)\n",
    "del file_obj['Gender']\n",
    "print(file_obj)"
   ]
  },
  {
   "cell_type": "markdown",
   "id": "e432c7c7-b1fa-4960-96bd-36eb057d39b4",
   "metadata": {},
   "source": [
    "### Assignment Questions"
   ]
  },
  {
   "cell_type": "markdown",
   "id": "5b470bc5-edbf-48c0-aeda-11be2baba0dd",
   "metadata": {},
   "source": [
    "## Q. to find the total counts of kind of flower"
   ]
  },
  {
   "cell_type": "code",
   "execution_count": 44,
   "id": "a0c59da9-2dd6-4470-8972-a8eb61c7af8c",
   "metadata": {},
   "outputs": [
    {
     "data": {
      "text/plain": [
       "variety\n",
       "Setosa        50\n",
       "Versicolor    50\n",
       "Virginica     50\n",
       "Name: count, dtype: int64"
      ]
     },
     "execution_count": 44,
     "metadata": {},
     "output_type": "execute_result"
    }
   ],
   "source": [
    "count_flower=file_obj['variety'].value_counts()\n",
    "count_flower"
   ]
  },
  {
   "cell_type": "markdown",
   "id": "d114efed-a66d-4f90-8e0c-ef3eb8ea76b5",
   "metadata": {},
   "source": [
    "## Q to find virginica type where pl > 1.5"
   ]
  },
  {
   "cell_type": "code",
   "execution_count": 49,
   "id": "d77fefeb-2d02-4ac3-ab2b-5610d4b30dc5",
   "metadata": {},
   "outputs": [
    {
     "name": "stdout",
     "output_type": "stream",
     "text": [
      "     sepal.length  sepal.width  petal.length  petal.width    variety  sex\n",
      "100           6.3          3.3           6.0          2.5  Virginica    1\n",
      "101           5.8          2.7           5.1          1.9  Virginica    1\n",
      "102           7.1          3.0           5.9          2.1  Virginica    1\n",
      "103           6.3          2.9           5.6          1.8  Virginica    1\n",
      "104           6.5          3.0           5.8          2.2  Virginica    1\n",
      "105           7.6          3.0           6.6          2.1  Virginica    1\n",
      "106           4.9          2.5           4.5          1.7  Virginica    1\n",
      "107           7.3          2.9           6.3          1.8  Virginica    1\n",
      "108           6.7          2.5           5.8          1.8  Virginica    1\n",
      "109           7.2          3.6           6.1          2.5  Virginica    1\n",
      "110           6.5          3.2           5.1          2.0  Virginica    1\n",
      "111           6.4          2.7           5.3          1.9  Virginica    1\n",
      "112           6.8          3.0           5.5          2.1  Virginica    1\n",
      "113           5.7          2.5           5.0          2.0  Virginica    1\n",
      "114           5.8          2.8           5.1          2.4  Virginica    1\n",
      "115           6.4          3.2           5.3          2.3  Virginica    1\n",
      "116           6.5          3.0           5.5          1.8  Virginica    1\n",
      "117           7.7          3.8           6.7          2.2  Virginica    1\n",
      "118           7.7          2.6           6.9          2.3  Virginica    1\n",
      "119           6.0          2.2           5.0          1.5  Virginica    1\n",
      "120           6.9          3.2           5.7          2.3  Virginica    1\n",
      "121           5.6          2.8           4.9          2.0  Virginica    1\n",
      "122           7.7          2.8           6.7          2.0  Virginica    1\n",
      "123           6.3          2.7           4.9          1.8  Virginica    1\n",
      "124           6.7          3.3           5.7          2.1  Virginica    1\n",
      "125           7.2          3.2           6.0          1.8  Virginica    1\n",
      "126           6.2          2.8           4.8          1.8  Virginica    1\n",
      "127           6.1          3.0           4.9          1.8  Virginica    1\n",
      "128           6.4          2.8           5.6          2.1  Virginica    1\n",
      "129           7.2          3.0           5.8          1.6  Virginica    1\n",
      "130           7.4          2.8           6.1          1.9  Virginica    1\n",
      "131           7.9          3.8           6.4          2.0  Virginica    1\n",
      "132           6.4          2.8           5.6          2.2  Virginica    1\n",
      "133           6.3          2.8           5.1          1.5  Virginica    1\n",
      "134           6.1          2.6           5.6          1.4  Virginica    1\n",
      "135           7.7          3.0           6.1          2.3  Virginica    1\n",
      "136           6.3          3.4           5.6          2.4  Virginica    1\n",
      "137           6.4          3.1           5.5          1.8  Virginica    1\n",
      "138           6.0          3.0           4.8          1.8  Virginica    1\n",
      "139           6.9          3.1           5.4          2.1  Virginica    1\n",
      "140           6.7          3.1           5.6          2.4  Virginica    1\n",
      "141           6.9          3.1           5.1          2.3  Virginica    1\n",
      "142           5.8          2.7           5.1          1.9  Virginica    1\n",
      "143           6.8          3.2           5.9          2.3  Virginica    1\n",
      "144           6.7          3.3           5.7          2.5  Virginica    1\n",
      "145           6.7          3.0           5.2          2.3  Virginica    1\n",
      "146           6.3          2.5           5.0          1.9  Virginica    1\n",
      "147           6.5          3.0           5.2          2.0  Virginica    1\n",
      "148           6.2          3.4           5.4          2.3  Virginica    1\n",
      "149           5.9          3.0           5.1          1.8  Virginica    1\n",
      "50\n",
      "50\n"
     ]
    }
   ],
   "source": [
    "type_virginica=file_obj[(file_obj['variety']=='Virginica') & (file_obj['petal.length']>1.5)] \n",
    "print(type_virginica)\n",
    "print(type_virginica.shape[0])\n",
    "\n",
    "\n"
   ]
  },
  {
   "cell_type": "markdown",
   "id": "a64c0b95-095d-4931-9e97-966ceb43f8a1",
   "metadata": {},
   "source": [
    "## printing min , max , mean for each kind of flower"
   ]
  },
  {
   "cell_type": "code",
   "execution_count": 51,
   "id": "133ae632-1e48-4a64-8bf2-1d725d10c9ec",
   "metadata": {},
   "outputs": [
    {
     "data": {
      "text/html": [
       "<div>\n",
       "<style scoped>\n",
       "    .dataframe tbody tr th:only-of-type {\n",
       "        vertical-align: middle;\n",
       "    }\n",
       "\n",
       "    .dataframe tbody tr th {\n",
       "        vertical-align: top;\n",
       "    }\n",
       "\n",
       "    .dataframe thead tr th {\n",
       "        text-align: left;\n",
       "    }\n",
       "\n",
       "    .dataframe thead tr:last-of-type th {\n",
       "        text-align: right;\n",
       "    }\n",
       "</style>\n",
       "<table border=\"1\" class=\"dataframe\">\n",
       "  <thead>\n",
       "    <tr>\n",
       "      <th></th>\n",
       "      <th colspan=\"3\" halign=\"left\">sepal.length</th>\n",
       "      <th colspan=\"3\" halign=\"left\">sepal.width</th>\n",
       "      <th colspan=\"3\" halign=\"left\">petal.length</th>\n",
       "      <th colspan=\"3\" halign=\"left\">petal.width</th>\n",
       "      <th colspan=\"3\" halign=\"left\">sex</th>\n",
       "    </tr>\n",
       "    <tr>\n",
       "      <th></th>\n",
       "      <th>min</th>\n",
       "      <th>max</th>\n",
       "      <th>mean</th>\n",
       "      <th>min</th>\n",
       "      <th>max</th>\n",
       "      <th>mean</th>\n",
       "      <th>min</th>\n",
       "      <th>max</th>\n",
       "      <th>mean</th>\n",
       "      <th>min</th>\n",
       "      <th>max</th>\n",
       "      <th>mean</th>\n",
       "      <th>min</th>\n",
       "      <th>max</th>\n",
       "      <th>mean</th>\n",
       "    </tr>\n",
       "    <tr>\n",
       "      <th>variety</th>\n",
       "      <th></th>\n",
       "      <th></th>\n",
       "      <th></th>\n",
       "      <th></th>\n",
       "      <th></th>\n",
       "      <th></th>\n",
       "      <th></th>\n",
       "      <th></th>\n",
       "      <th></th>\n",
       "      <th></th>\n",
       "      <th></th>\n",
       "      <th></th>\n",
       "      <th></th>\n",
       "      <th></th>\n",
       "      <th></th>\n",
       "    </tr>\n",
       "  </thead>\n",
       "  <tbody>\n",
       "    <tr>\n",
       "      <th>Setosa</th>\n",
       "      <td>4.3</td>\n",
       "      <td>5.8</td>\n",
       "      <td>5.006</td>\n",
       "      <td>2.3</td>\n",
       "      <td>4.4</td>\n",
       "      <td>3.441667</td>\n",
       "      <td>1.0</td>\n",
       "      <td>1.9</td>\n",
       "      <td>1.466667</td>\n",
       "      <td>0.1</td>\n",
       "      <td>0.6</td>\n",
       "      <td>0.246</td>\n",
       "      <td>0</td>\n",
       "      <td>1</td>\n",
       "      <td>0.92</td>\n",
       "    </tr>\n",
       "    <tr>\n",
       "      <th>Versicolor</th>\n",
       "      <td>4.9</td>\n",
       "      <td>7.0</td>\n",
       "      <td>5.936</td>\n",
       "      <td>2.0</td>\n",
       "      <td>3.4</td>\n",
       "      <td>2.770000</td>\n",
       "      <td>3.0</td>\n",
       "      <td>5.1</td>\n",
       "      <td>4.260000</td>\n",
       "      <td>1.0</td>\n",
       "      <td>1.8</td>\n",
       "      <td>1.326</td>\n",
       "      <td>1</td>\n",
       "      <td>1</td>\n",
       "      <td>1.00</td>\n",
       "    </tr>\n",
       "    <tr>\n",
       "      <th>Virginica</th>\n",
       "      <td>4.9</td>\n",
       "      <td>7.9</td>\n",
       "      <td>6.588</td>\n",
       "      <td>2.2</td>\n",
       "      <td>3.8</td>\n",
       "      <td>2.974000</td>\n",
       "      <td>4.5</td>\n",
       "      <td>6.9</td>\n",
       "      <td>5.552000</td>\n",
       "      <td>1.4</td>\n",
       "      <td>2.5</td>\n",
       "      <td>2.026</td>\n",
       "      <td>1</td>\n",
       "      <td>1</td>\n",
       "      <td>1.00</td>\n",
       "    </tr>\n",
       "  </tbody>\n",
       "</table>\n",
       "</div>"
      ],
      "text/plain": [
       "           sepal.length             sepal.width                petal.length  \\\n",
       "                    min  max   mean         min  max      mean          min   \n",
       "variety                                                                       \n",
       "Setosa              4.3  5.8  5.006         2.3  4.4  3.441667          1.0   \n",
       "Versicolor          4.9  7.0  5.936         2.0  3.4  2.770000          3.0   \n",
       "Virginica           4.9  7.9  6.588         2.2  3.8  2.974000          4.5   \n",
       "\n",
       "                          petal.width             sex            \n",
       "            max      mean         min  max   mean min max  mean  \n",
       "variety                                                          \n",
       "Setosa      1.9  1.466667         0.1  0.6  0.246   0   1  0.92  \n",
       "Versicolor  5.1  4.260000         1.0  1.8  1.326   1   1  1.00  \n",
       "Virginica   6.9  5.552000         1.4  2.5  2.026   1   1  1.00  "
      ]
     },
     "execution_count": 51,
     "metadata": {},
     "output_type": "execute_result"
    }
   ],
   "source": [
    "stats=file_obj.groupby('variety').agg(['min','max','mean'])\n",
    "stats"
   ]
  },
  {
   "cell_type": "code",
   "execution_count": null,
   "id": "4f88ca99-ca4b-4213-af1e-a15fe8fb6f6c",
   "metadata": {},
   "outputs": [],
   "source": []
  },
  {
   "cell_type": "markdown",
   "id": "8cf4a925-1a84-4014-b794-42631bd02b5a",
   "metadata": {},
   "source": [
    "## Data Extracting from terrorism data"
   ]
  },
  {
   "cell_type": "markdown",
   "id": "570991f5-495e-4b9e-b3d2-933480473917",
   "metadata": {},
   "source": [
    "## Q. Finding Most active group in J&K and total attack by them"
   ]
  },
  {
   "cell_type": "code",
   "execution_count": 2,
   "id": "42ac19b2-74ba-425a-8b4f-bf36278d50b2",
   "metadata": {},
   "outputs": [
    {
     "name": "stdout",
     "output_type": "stream",
     "text": [
      "Most Active group in J&K: Hizbul Mujahideen (HM)\n",
      "count of attack by Hizbul Mujahideen (HM): 193\n"
     ]
    }
   ],
   "source": [
    "import numpy as np\n",
    "import pandas as pd\n",
    "import csv\n",
    "\n",
    "file_obj=pd.read_csv('terrorismData.csv')\n",
    "#print(file_obj.head())\n",
    "j_k_data=file_obj[file_obj['State']=='Jammu and Kashmir']\n",
    "\n",
    "j_k_data_filtered=j_k_data[j_k_data['Group']!='Unknown']  ## Exluding Unkown entries of Group column  \n",
    "\n",
    "most_active_group=j_k_data_filtered['Group'].value_counts().idxmax()\n",
    "\n",
    "total_attack=j_k_data_filtered[j_k_data_filtered['Group']==most_active_group].shape[0]\n",
    "print(f\"Most Active group in J&K: {most_active_group}\")\n",
    "print(f\"count of attack by {most_active_group}: {total_attack}\")"
   ]
  },
  {
   "cell_type": "markdown",
   "id": "6b8eae4a-ba4f-4ec6-98e7-ffeb0d1fa008",
   "metadata": {},
   "source": [
    "## Finding country with highest number of terror attack and in which year most attack happened"
   ]
  },
  {
   "cell_type": "code",
   "execution_count": 7,
   "id": "c31b2044-4f2a-48d0-b59f-c37b539f1eaf",
   "metadata": {},
   "outputs": [
    {
     "name": "stdout",
     "output_type": "stream",
     "text": [
      "Country with highest number of terror attack: Iraq\n",
      "Year in which most attack happened : 2014\n"
     ]
    }
   ],
   "source": [
    "dang_country=file_obj['Country'].value_counts().idxmax()\n",
    "print(f\"Country with highest number of terror attack: {dang_country}\")\n",
    "\n",
    "year_data=file_obj[file_obj['Country']==dang_country]\n",
    "\n",
    "year_with_most_att=year_data['Year'].value_counts().idxmax()\n",
    "print(f'Year in which most attack happened : {year_with_most_att}')"
   ]
  },
  {
   "cell_type": "code",
   "execution_count": null,
   "id": "c76aee9b-30dc-4e50-b439-d2f2580491ad",
   "metadata": {},
   "outputs": [],
   "source": []
  }
 ],
 "metadata": {
  "kernelspec": {
   "display_name": "Python 3 (ipykernel)",
   "language": "python",
   "name": "python3"
  },
  "language_info": {
   "codemirror_mode": {
    "name": "ipython",
    "version": 3
   },
   "file_extension": ".py",
   "mimetype": "text/x-python",
   "name": "python",
   "nbconvert_exporter": "python",
   "pygments_lexer": "ipython3",
   "version": "3.11.7"
  }
 },
 "nbformat": 4,
 "nbformat_minor": 5
}
