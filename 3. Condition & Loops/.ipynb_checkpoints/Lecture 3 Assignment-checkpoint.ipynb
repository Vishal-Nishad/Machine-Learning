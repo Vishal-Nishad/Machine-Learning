{
 "cells": [
  {
   "cell_type": "markdown",
   "id": "3b26cb8c-6b88-4a5a-a63e-084d3c0e69a3",
   "metadata": {},
   "source": [
    "## If else "
   ]
  },
  {
   "cell_type": "code",
   "execution_count": 1,
   "id": "e0f47c73-866b-4e1c-b2f0-355ae2fbd3a4",
   "metadata": {},
   "outputs": [
    {
     "name": "stdout",
     "output_type": "stream",
     "text": [
      "if block executed\n"
     ]
    }
   ],
   "source": [
    "a=True\n",
    "if a:\n",
    "    print(\"if block executed\")\n",
    "else :\n",
    "    print(\"else block executed\")"
   ]
  },
  {
   "cell_type": "markdown",
   "id": "1e9e90eb-39d3-4791-803f-478c18db69b7",
   "metadata": {},
   "source": [
    "## Find the Number is Odd or Even"
   ]
  },
  {
   "cell_type": "code",
   "execution_count": 4,
   "id": "7f1fc57e-071e-4394-954e-59fd870477c5",
   "metadata": {},
   "outputs": [
    {
     "name": "stdin",
     "output_type": "stream",
     "text": [
      "enter any number 5\n"
     ]
    },
    {
     "name": "stdout",
     "output_type": "stream",
     "text": [
      " is a Odd number.\n"
     ]
    }
   ],
   "source": [
    "a=int(input(\"enter any number\"))\n",
    "if a%2==0:\n",
    "    print(\" is a Even number\")\n",
    "else :\n",
    "    print(\" is a Odd number.\")"
   ]
  },
  {
   "cell_type": "code",
   "execution_count": 6,
   "id": "aeb2cf55-0ce0-4113-8a77-1b0e949c9531",
   "metadata": {},
   "outputs": [
    {
     "name": "stdin",
     "output_type": "stream",
     "text": [
      "enter any number 1000000000\n"
     ]
    },
    {
     "name": "stdout",
     "output_type": "stream",
     "text": [
      " is a Even number\n"
     ]
    }
   ],
   "source": [
    "a=int(input(\"enter any number\"))\n",
    "if a%2==0:\n",
    "    print(\" is a Even number\")\n",
    "else :\n",
    "    print(\" is a Odd number.\")"
   ]
  },
  {
   "cell_type": "markdown",
   "id": "381f0314-7658-4d2b-95dd-6cfdab17a0d0",
   "metadata": {},
   "source": [
    "## Print the Largest number"
   ]
  },
  {
   "cell_type": "code",
   "execution_count": 12,
   "id": "d84b91d2-2213-48e7-b0d6-9d776d4b4a7a",
   "metadata": {},
   "outputs": [
    {
     "name": "stdin",
     "output_type": "stream",
     "text": [
      "enter first number: 5\n",
      "enter second number: 8\n",
      "enter third number: 99\n"
     ]
    },
    {
     "name": "stdout",
     "output_type": "stream",
     "text": [
      "c is the largest number.\n"
     ]
    }
   ],
   "source": [
    "a=int(input(\"enter first number:\"))\n",
    "b=int(input(\"enter second number:\"))\n",
    "c=int(input('enter third number:'))\n",
    "if a>b and a>c:\n",
    "    print(\"a is the largest number.\")\n",
    "elif b>c:\n",
    "    print(\"b is the largest number.\")\n",
    "else :\n",
    "    print (\"c is the largest number.\")"
   ]
  },
  {
   "cell_type": "markdown",
   "id": "4b531549-ebc5-40ad-8db5-b2e12bc1d64c",
   "metadata": {},
   "source": [
    "## Find the number is positive , negative or 0"
   ]
  },
  {
   "cell_type": "code",
   "execution_count": 15,
   "id": "278b9912-b980-46bb-b47a-4b63a859673d",
   "metadata": {},
   "outputs": [
    {
     "name": "stdin",
     "output_type": "stream",
     "text": [
      "enter any number. -5\n"
     ]
    },
    {
     "name": "stdout",
     "output_type": "stream",
     "text": [
      "number is negative.\n"
     ]
    }
   ],
   "source": [
    "a=int(input(\"enter any number.\"))\n",
    "if a >=1:\n",
    "    print(\"positive number.\")\n",
    "elif a==0:\n",
    "    print(\"number is 0 i.e neutral\")\n",
    "else:\n",
    "    print(\"number is negative.\")"
   ]
  },
  {
   "cell_type": "markdown",
   "id": "3cdb0614-b67b-4be1-8196-372b650e979b",
   "metadata": {},
   "source": [
    "## Q.While loop "
   ]
  },
  {
   "cell_type": "code",
   "execution_count": 1,
   "id": "dd939e0a-9527-4c20-a4a3-97e9a1dbda47",
   "metadata": {},
   "outputs": [
    {
     "name": "stdin",
     "output_type": "stream",
     "text": [
      "enter n number 5\n"
     ]
    },
    {
     "name": "stdout",
     "output_type": "stream",
     "text": [
      "1\n",
      "2\n",
      "3\n",
      "4\n",
      "5\n"
     ]
    }
   ],
   "source": [
    "## print first n natural number\n",
    "n=int(input(\"enter n number\"))\n",
    "count=1\n",
    "while count<=n:\n",
    "    print(count)\n",
    "    \n",
    "    count=count+1"
   ]
  },
  {
   "cell_type": "markdown",
   "id": "c058d66b-950b-4791-8f06-eae1ef316e5e",
   "metadata": {},
   "source": [
    "## Q . Primality Check"
   ]
  },
  {
   "cell_type": "code",
   "execution_count": 5,
   "id": "9cc918ca-0b43-4211-94c9-bf6177f3fb1a",
   "metadata": {},
   "outputs": [
    {
     "name": "stdin",
     "output_type": "stream",
     "text": [
      "enter integer number. 2\n"
     ]
    }
   ],
   "source": [
    "n=int(input(\"enter integer number.\"))\n",
    "d=2\n",
    "while d<n:\n",
    "    if n%d==0:\n",
    "        print(\"number is not prime.\")\n",
    "    else :\n",
    "        print (\"number is prime.\")\n",
    "    break\n",
    "    d=d+1"
   ]
  },
  {
   "cell_type": "markdown",
   "id": "2a0285e0-bbb7-4d57-9a0b-a2086731c1bd",
   "metadata": {},
   "source": [
    "## Prime Check by using Flag "
   ]
  },
  {
   "cell_type": "code",
   "execution_count": 15,
   "id": "03dfceef-9a93-4d90-85a0-0283ec1f7392",
   "metadata": {},
   "outputs": [
    {
     "name": "stdin",
     "output_type": "stream",
     "text": [
      "enter integer number. 13\n"
     ]
    },
    {
     "name": "stdout",
     "output_type": "stream",
     "text": [
      "number is prime.\n"
     ]
    }
   ],
   "source": [
    "n=int(input(\"enter integer number.\"))\n",
    "d=2\n",
    "flag=False\n",
    "while d<n:\n",
    "    if n%d==0:\n",
    "        flag=True\n",
    "    d=d+1\n",
    "if flag:\n",
    "    print(\"number is not prime.\")\n",
    "else :\n",
    "    print(\"number is prime.\")"
   ]
  },
  {
   "cell_type": "markdown",
   "id": "3121e182-d87d-402b-9232-779dbed15b90",
   "metadata": {},
   "source": [
    "## Print Series of Prime Number , Nested Loop"
   ]
  },
  {
   "cell_type": "code",
   "execution_count": 5,
   "id": "a58b4aee-0d51-43c2-9e17-bc08e10a80b4",
   "metadata": {},
   "outputs": [
    {
     "name": "stdin",
     "output_type": "stream",
     "text": [
      " 10\n"
     ]
    },
    {
     "name": "stdout",
     "output_type": "stream",
     "text": [
      "2\n",
      "3\n",
      "5\n",
      "7\n"
     ]
    }
   ],
   "source": [
    "n=int(input())\n",
    "count=2\n",
    "while count<=n:\n",
    "    flag=False\n",
    "    d=2\n",
    "    while d<count:\n",
    "        if count%d==0:\n",
    "            flag=True\n",
    "        d=d+1\n",
    "    if not flag:\n",
    "        print(count)\n",
    "    count=count+1"
   ]
  },
  {
   "cell_type": "markdown",
   "id": "14df798d-fec8-4325-ad1d-d4233839b5b8",
   "metadata": {},
   "source": [
    "## Calculator"
   ]
  },
  {
   "cell_type": "code",
   "execution_count": 11,
   "id": "42602e87-ee81-4753-9c0b-b1eb0537401d",
   "metadata": {},
   "outputs": [
    {
     "ename": "KeyboardInterrupt",
     "evalue": "Interrupted by user",
     "output_type": "error",
     "traceback": [
      "\u001b[1;31m---------------------------------------------------------------------------\u001b[0m",
      "\u001b[1;31mKeyboardInterrupt\u001b[0m                         Traceback (most recent call last)",
      "Cell \u001b[1;32mIn[11], line 2\u001b[0m\n\u001b[0;32m      1\u001b[0m \u001b[38;5;28;01mwhile\u001b[39;00m n\u001b[38;5;241m!=\u001b[39m\u001b[38;5;241m6\u001b[39m:\n\u001b[1;32m----> 2\u001b[0m     n\u001b[38;5;241m=\u001b[39m\u001b[38;5;28mint\u001b[39m(\u001b[38;5;28minput\u001b[39m())\n\u001b[0;32m      3\u001b[0m     \u001b[38;5;28;01mif\u001b[39;00m n \u001b[38;5;241m!=\u001b[39m \u001b[38;5;241m6\u001b[39m:\n\u001b[0;32m      4\u001b[0m         a\u001b[38;5;241m=\u001b[39m\u001b[38;5;28mint\u001b[39m(\u001b[38;5;28minput\u001b[39m())\n",
      "File \u001b[1;32m~\\anaconda3\\Lib\\site-packages\\ipykernel\\kernelbase.py:1262\u001b[0m, in \u001b[0;36mKernel.raw_input\u001b[1;34m(self, prompt)\u001b[0m\n\u001b[0;32m   1260\u001b[0m     msg \u001b[38;5;241m=\u001b[39m \u001b[38;5;124m\"\u001b[39m\u001b[38;5;124mraw_input was called, but this frontend does not support input requests.\u001b[39m\u001b[38;5;124m\"\u001b[39m\n\u001b[0;32m   1261\u001b[0m     \u001b[38;5;28;01mraise\u001b[39;00m StdinNotImplementedError(msg)\n\u001b[1;32m-> 1262\u001b[0m \u001b[38;5;28;01mreturn\u001b[39;00m \u001b[38;5;28mself\u001b[39m\u001b[38;5;241m.\u001b[39m_input_request(\n\u001b[0;32m   1263\u001b[0m     \u001b[38;5;28mstr\u001b[39m(prompt),\n\u001b[0;32m   1264\u001b[0m     \u001b[38;5;28mself\u001b[39m\u001b[38;5;241m.\u001b[39m_parent_ident[\u001b[38;5;124m\"\u001b[39m\u001b[38;5;124mshell\u001b[39m\u001b[38;5;124m\"\u001b[39m],\n\u001b[0;32m   1265\u001b[0m     \u001b[38;5;28mself\u001b[39m\u001b[38;5;241m.\u001b[39mget_parent(\u001b[38;5;124m\"\u001b[39m\u001b[38;5;124mshell\u001b[39m\u001b[38;5;124m\"\u001b[39m),\n\u001b[0;32m   1266\u001b[0m     password\u001b[38;5;241m=\u001b[39m\u001b[38;5;28;01mFalse\u001b[39;00m,\n\u001b[0;32m   1267\u001b[0m )\n",
      "File \u001b[1;32m~\\anaconda3\\Lib\\site-packages\\ipykernel\\kernelbase.py:1305\u001b[0m, in \u001b[0;36mKernel._input_request\u001b[1;34m(self, prompt, ident, parent, password)\u001b[0m\n\u001b[0;32m   1302\u001b[0m \u001b[38;5;28;01mexcept\u001b[39;00m \u001b[38;5;167;01mKeyboardInterrupt\u001b[39;00m:\n\u001b[0;32m   1303\u001b[0m     \u001b[38;5;66;03m# re-raise KeyboardInterrupt, to truncate traceback\u001b[39;00m\n\u001b[0;32m   1304\u001b[0m     msg \u001b[38;5;241m=\u001b[39m \u001b[38;5;124m\"\u001b[39m\u001b[38;5;124mInterrupted by user\u001b[39m\u001b[38;5;124m\"\u001b[39m\n\u001b[1;32m-> 1305\u001b[0m     \u001b[38;5;28;01mraise\u001b[39;00m \u001b[38;5;167;01mKeyboardInterrupt\u001b[39;00m(msg) \u001b[38;5;28;01mfrom\u001b[39;00m \u001b[38;5;28;01mNone\u001b[39;00m\n\u001b[0;32m   1306\u001b[0m \u001b[38;5;28;01mexcept\u001b[39;00m \u001b[38;5;167;01mException\u001b[39;00m:\n\u001b[0;32m   1307\u001b[0m     \u001b[38;5;28mself\u001b[39m\u001b[38;5;241m.\u001b[39mlog\u001b[38;5;241m.\u001b[39mwarning(\u001b[38;5;124m\"\u001b[39m\u001b[38;5;124mInvalid Message:\u001b[39m\u001b[38;5;124m\"\u001b[39m, exc_info\u001b[38;5;241m=\u001b[39m\u001b[38;5;28;01mTrue\u001b[39;00m)\n",
      "\u001b[1;31mKeyboardInterrupt\u001b[0m: Interrupted by user"
     ]
    }
   ],
   "source": [
    "while n!=6:\n",
    "    n=int(input())\n",
    "    if n != 6:\n",
    "        a=int(input())\n",
    "        b=int(input())\n",
    "        if n==1:\n",
    "            print(a+b)\n",
    "        elif n==2:\n",
    "            print(a-b)\n",
    "        elif n==3:\n",
    "            print(a*b)\n",
    "        elif n==4:\n",
    "            print(a/b)\n",
    "        elif n==5:\n",
    "            print(a%b)\n",
    "        else :\n",
    "            print(\"Invalid Operation\")\n",
    "            \n",
    "    "
   ]
  },
  {
   "cell_type": "markdown",
   "id": "f933c6b1-2d93-4947-9a89-a576e1d6300c",
   "metadata": {},
   "source": [
    "## Q. Program to Reverse a Number"
   ]
  },
  {
   "cell_type": "code",
   "execution_count": 14,
   "id": "d4c21cf3-e188-4cbf-ae6a-7bf04fd4092a",
   "metadata": {},
   "outputs": [
    {
     "name": "stdin",
     "output_type": "stream",
     "text": [
      " 123\n"
     ]
    },
    {
     "name": "stdout",
     "output_type": "stream",
     "text": [
      "321\n"
     ]
    }
   ],
   "source": [
    "n=int(input())\n",
    "ans=0\n",
    "while n/10!=0:\n",
    "    num=n%10\n",
    "    ans=ans*10+num\n",
    "    n=n//10\n",
    "print(ans)\n",
    "    "
   ]
  },
  {
   "cell_type": "markdown",
   "id": "9567d9f9-8609-4e96-aa3c-226f998905a0",
   "metadata": {},
   "source": [
    "## Q. Check no. is pallindrome or not"
   ]
  },
  {
   "cell_type": "code",
   "execution_count": 19,
   "id": "2339f792-13e5-4b25-94e7-581962f16992",
   "metadata": {},
   "outputs": [
    {
     "name": "stdin",
     "output_type": "stream",
     "text": [
      "enter number. 1221\n"
     ]
    },
    {
     "name": "stdout",
     "output_type": "stream",
     "text": [
      "1221\n",
      "The number is pallindrome.\n"
     ]
    }
   ],
   "source": [
    "num=int(input(\"enter number.\"))\n",
    "ans=0\n",
    "nm=num\n",
    "while num>0:\n",
    "    digit=num%10\n",
    "    ans=ans*10+digit\n",
    "    num=num//10\n",
    "print(ans)\n",
    "if ans==nm:\n",
    "    print(\"The number is pallindrome.\")\n",
    "else:\n",
    "    print(\"The number is not pallindrome.\")"
   ]
  },
  {
   "cell_type": "markdown",
   "id": "1c47dad6-d6b3-470f-9e90-3e9cce963f9c",
   "metadata": {},
   "source": [
    "## Q. print the sum of even digits and sum of odd digits"
   ]
  },
  {
   "cell_type": "code",
   "execution_count": 27,
   "id": "88a58220-41c6-4c4a-9d20-c7cff45706b5",
   "metadata": {},
   "outputs": [
    {
     "name": "stdin",
     "output_type": "stream",
     "text": [
      "enter number. 1234\n"
     ]
    },
    {
     "name": "stdout",
     "output_type": "stream",
     "text": [
      "sum of even digits \n",
      "6\n",
      "sum of odd digits\n",
      "4\n"
     ]
    }
   ],
   "source": [
    "num=int(input(\"enter number.\"))\n",
    "even=0\n",
    "odd=0\n",
    "while num>0:\n",
    "    digit=num%10\n",
    "    if digit%2==0:\n",
    "        even=even+digit\n",
    "    else:\n",
    "        odd=odd+digit\n",
    "    num=num//10\n",
    "print(\"sum of even digits \")\n",
    "print(even)\n",
    "print(\"sum of odd digits\" )\n",
    "print(odd)"
   ]
  },
  {
   "cell_type": "markdown",
   "id": "6b5887ef-5b9e-497d-ae56-1c666f4b7563",
   "metadata": {},
   "source": [
    "## Q. print the nth fibonocci series "
   ]
  },
  {
   "cell_type": "code",
   "execution_count": null,
   "id": "c5b46a95-8e5a-47d1-9895-aecf1eb3d235",
   "metadata": {},
   "outputs": [],
   "source": []
  }
 ],
 "metadata": {
  "kernelspec": {
   "display_name": "Python 3 (ipykernel)",
   "language": "python",
   "name": "python3"
  },
  "language_info": {
   "codemirror_mode": {
    "name": "ipython",
    "version": 3
   },
   "file_extension": ".py",
   "mimetype": "text/x-python",
   "name": "python",
   "nbconvert_exporter": "python",
   "pygments_lexer": "ipython3",
   "version": "3.11.7"
  }
 },
 "nbformat": 4,
 "nbformat_minor": 5
}
