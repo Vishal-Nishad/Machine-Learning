{
 "cells": [
  {
   "cell_type": "markdown",
   "id": "cc53ff69-ec43-49a3-a698-dfd49daa86ad",
   "metadata": {},
   "source": [
    "## Q. Create a Function for Calc. Factorial of num"
   ]
  },
  {
   "cell_type": "code",
   "execution_count": 2,
   "id": "c425aefa-c5fe-49df-825b-6dccfb9d5f0a",
   "metadata": {},
   "outputs": [],
   "source": [
    "def factorial(a):\n",
    "    ans=1\n",
    "    for i in range(1,a+1):\n",
    "       ans=ans*i\n",
    "    return ans"
   ]
  },
  {
   "cell_type": "code",
   "execution_count": 4,
   "id": "7c688bdb-58b2-46d4-977c-29ec4bb35453",
   "metadata": {},
   "outputs": [
    {
     "name": "stdin",
     "output_type": "stream",
     "text": [
      " 4\n",
      " 2\n"
     ]
    },
    {
     "data": {
      "text/plain": [
       "6"
      ]
     },
     "execution_count": 4,
     "metadata": {},
     "output_type": "execute_result"
    }
   ],
   "source": [
    "## calculating nCr\n",
    "n=int(input())\n",
    "r=int(input())\n",
    "n_fact=factorial(n)\n",
    "r_fact=factorial(r)\n",
    "n_r_fact=factorial(n-r)\n",
    "ans=n_fact//(r_fact*n_r_fact)\n",
    "ans"
   ]
  },
  {
   "cell_type": "code",
   "execution_count": 35,
   "id": "129cc88d-2edc-44e5-bd4d-339a4bb11a9f",
   "metadata": {},
   "outputs": [],
   "source": [
    "def nCr(n,r):\n",
    "    n_fact=factorial(n)\n",
    "    r_fact=factorial(r)\n",
    "    n_r_fact=factorial(n-r)\n",
    "    ans=n_fact//(r_fact*n_r_fact)\n",
    "    return ans"
   ]
  },
  {
   "cell_type": "code",
   "execution_count": 36,
   "id": "c80ebd7e-fea9-4c62-a65d-29cc6ebc71ba",
   "metadata": {},
   "outputs": [
    {
     "data": {
      "text/plain": [
       "6"
      ]
     },
     "execution_count": 36,
     "metadata": {},
     "output_type": "execute_result"
    }
   ],
   "source": [
    "nCr(4,2)"
   ]
  },
  {
   "cell_type": "markdown",
   "id": "5a910d6d-e100-4969-87cb-b181f6521239",
   "metadata": {},
   "source": [
    "## To print prime num from 2ToN"
   ]
  },
  {
   "cell_type": "code",
   "execution_count": 13,
   "id": "28b44b68-eae3-4b88-a657-cb33bb2b8d8a",
   "metadata": {},
   "outputs": [
    {
     "name": "stdin",
     "output_type": "stream",
     "text": [
      " 10\n"
     ]
    },
    {
     "name": "stdout",
     "output_type": "stream",
     "text": [
      "2\n",
      "3\n",
      "5\n",
      "7\n"
     ]
    }
   ],
   "source": [
    "n=int(input())\n",
    "flag=True\n",
    "for i in range(2,n):\n",
    "    flag=True\n",
    "    for j in range(2,i):\n",
    "       # print(i)\n",
    "        if(i%j==0):\n",
    "            flag=False\n",
    "    if(flag):\n",
    "        print(i)"
   ]
  },
  {
   "cell_type": "markdown",
   "id": "20ed06de-78a2-433f-80ff-b6803ee7f9d3",
   "metadata": {},
   "source": [
    "## Now Create a Function to print prime num"
   ]
  },
  {
   "cell_type": "code",
   "execution_count": 33,
   "id": "20832ca4-c4f1-404e-9f00-3afb3d629e24",
   "metadata": {},
   "outputs": [],
   "source": [
    "def isPrime(n):\n",
    "    for i in range(2,n):\n",
    "        if(n%i==0):\n",
    "            break\n",
    "    else:\n",
    "        return True\n",
    "    return False"
   ]
  },
  {
   "cell_type": "code",
   "execution_count": 28,
   "id": "e84f5cc4-3bd3-45ac-82ec-53947a5e6fca",
   "metadata": {},
   "outputs": [
    {
     "name": "stdout",
     "output_type": "stream",
     "text": [
      "4\n"
     ]
    },
    {
     "data": {
      "text/plain": [
       "False"
      ]
     },
     "execution_count": 28,
     "metadata": {},
     "output_type": "execute_result"
    }
   ],
   "source": [
    "isPrime(4)\n"
   ]
  },
  {
   "cell_type": "markdown",
   "id": "01cf6ebd-4111-4bc8-9fee-cb30911c308c",
   "metadata": {},
   "source": [
    "## Q.To print prime num series"
   ]
  },
  {
   "cell_type": "code",
   "execution_count": 34,
   "id": "407980a3-2084-43c1-bdd5-c2f1885cb13b",
   "metadata": {},
   "outputs": [
    {
     "name": "stdin",
     "output_type": "stream",
     "text": [
      " 20\n"
     ]
    },
    {
     "name": "stdout",
     "output_type": "stream",
     "text": [
      "2\n",
      "3\n",
      "5\n",
      "7\n",
      "11\n",
      "13\n",
      "17\n",
      "19\n"
     ]
    }
   ],
   "source": [
    "n=int(input())\n",
    "for i in range(2,n+1):\n",
    "    ans=isPrime(i)\n",
    "    if (ans):\n",
    "        print(i)"
   ]
  },
  {
   "cell_type": "markdown",
   "id": "716b50f6-28fa-441a-a47d-a87ef8237129",
   "metadata": {},
   "source": [
    "## Faherenhite To Celsius"
   ]
  },
  {
   "cell_type": "code",
   "execution_count": 44,
   "id": "1fa6b40e-e0b9-408d-b088-dfad8b026b60",
   "metadata": {},
   "outputs": [],
   "source": [
    "def celsius(s,e,w):\n",
    "    for i in range(s,e+1,w):\n",
    "        celsius=int((5/9)*(i-32))\n",
    "        print(i , ' ' , celsius)\n",
    "    return"
   ]
  },
  {
   "cell_type": "code",
   "execution_count": 46,
   "id": "9135530d-0b1e-4629-bb00-5d99ac763821",
   "metadata": {},
   "outputs": [
    {
     "name": "stdout",
     "output_type": "stream",
     "text": [
      "120   48\n",
      "160   71\n",
      "200   93\n"
     ]
    }
   ],
   "source": [
    "celsius(120,200,40)"
   ]
  },
  {
   "cell_type": "markdown",
   "id": "cc194b9b-2631-4562-ad24-d2ac1110ba39",
   "metadata": {},
   "source": [
    "## Q. To Print fibonacci series"
   ]
  },
  {
   "cell_type": "code",
   "execution_count": 51,
   "id": "af58b7c2-5c01-4e8b-84be-a9bb1562ea3e",
   "metadata": {},
   "outputs": [],
   "source": [
    "def fib_series(n):\n",
    "    l=[0,1]\n",
    "    for i in range(1,n):\n",
    "        l.append(l[-1]+l[-2])\n",
    "    return l"
   ]
  },
  {
   "cell_type": "code",
   "execution_count": 52,
   "id": "bad5336a-23bf-446c-bba5-0d6ff8b88c55",
   "metadata": {},
   "outputs": [
    {
     "data": {
      "text/plain": [
       "[0, 1, 1, 2, 3, 5, 8, 13, 21, 34, 55]"
      ]
     },
     "execution_count": 52,
     "metadata": {},
     "output_type": "execute_result"
    }
   ],
   "source": [
    "fib_series(10)"
   ]
  },
  {
   "cell_type": "code",
   "execution_count": 53,
   "id": "cb735c04-8bea-4a41-b7bf-824b66ff08fb",
   "metadata": {},
   "outputs": [],
   "source": [
    "def fib_series(n):\n",
    "    l=[0,1]\n",
    "    for i in range(1,n):\n",
    "        l.append(l[-1]+l[-2])\n",
    "    return l[-1]"
   ]
  },
  {
   "cell_type": "code",
   "execution_count": 54,
   "id": "3f121eec-ebef-4bc6-9c07-9b5ed2263036",
   "metadata": {},
   "outputs": [
    {
     "data": {
      "text/plain": [
       "55"
      ]
     },
     "execution_count": 54,
     "metadata": {},
     "output_type": "execute_result"
    }
   ],
   "source": [
    "fib_series(10)"
   ]
  },
  {
   "cell_type": "code",
   "execution_count": null,
   "id": "aee7a52f-683a-438d-a243-34d112d6ec72",
   "metadata": {},
   "outputs": [],
   "source": [
    "def isMember(n):\n",
    "    if (n is in fib)"
   ]
  },
  {
   "cell_type": "markdown",
   "id": "8773aafe-605a-4817-8533-5a2b9ffed8a6",
   "metadata": {},
   "source": [
    "## Q. Swap alternate number"
   ]
  },
  {
   "cell_type": "code",
   "execution_count": 71,
   "id": "b1257efe-ff6a-4772-b57c-54548fc86501",
   "metadata": {},
   "outputs": [],
   "source": [
    "def swap_consecutive(l):\n",
    "    i=0\n",
    "    while i+1<len(l):\n",
    "       # k=l[i]\n",
    "        l[i],l[i+1]=l[i+1],l[i]\n",
    "        \n",
    "        #l[i+1]=l[i]\n",
    "        i+=2\n",
    "    return l"
   ]
  },
  {
   "cell_type": "code",
   "execution_count": 72,
   "id": "dcf3278b-cf91-441a-9a99-fb175e727236",
   "metadata": {},
   "outputs": [
    {
     "data": {
      "text/plain": [
       "[3, 2, 4]"
      ]
     },
     "execution_count": 72,
     "metadata": {},
     "output_type": "execute_result"
    }
   ],
   "source": [
    "swap_consecutive([2,3,4])"
   ]
  },
  {
   "cell_type": "code",
   "execution_count": 73,
   "id": "5daded03-ee16-45df-b217-70f3a1f7839f",
   "metadata": {},
   "outputs": [],
   "source": [
    "def swap_consecutive(l):\n",
    "    i=0\n",
    "    while i+1<len(l):\n",
    "        #k=l[i]\n",
    "        l[i]=l[i+1]\n",
    "        \n",
    "        l[i+1]=l[i]\n",
    "        i+=2\n",
    "    return l"
   ]
  },
  {
   "cell_type": "code",
   "execution_count": 74,
   "id": "37aa6c44-02e4-4979-8181-87defa681810",
   "metadata": {},
   "outputs": [
    {
     "data": {
      "text/plain": [
       "[3, 3, 4]"
      ]
     },
     "execution_count": 74,
     "metadata": {},
     "output_type": "execute_result"
    }
   ],
   "source": [
    "swap_consecutive([2,3,4])"
   ]
  },
  {
   "cell_type": "markdown",
   "id": "1b2755e0-c616-4fc4-9f2f-24cbb406f821",
   "metadata": {},
   "source": [
    "## Variable Scope"
   ]
  },
  {
   "cell_type": "code",
   "execution_count": 80,
   "id": "6b07cf1f-95f9-4ade-a98f-b6fb59bfeada",
   "metadata": {},
   "outputs": [],
   "source": [
    "# global variable\n",
    "a=4\n",
    "def fun():\n",
    "    b=8 #local variable\n",
    "    print(a)"
   ]
  },
  {
   "cell_type": "code",
   "execution_count": 81,
   "id": "2c47fb8a-432b-405a-b9ef-dc441eabb21e",
   "metadata": {},
   "outputs": [
    {
     "name": "stdout",
     "output_type": "stream",
     "text": [
      "4\n",
      "4\n"
     ]
    }
   ],
   "source": [
    "print(a)\n",
    "fun()"
   ]
  },
  {
   "cell_type": "code",
   "execution_count": 83,
   "id": "cdeb8284-387b-4c3e-affd-6a0b0c3d7ef2",
   "metadata": {},
   "outputs": [
    {
     "name": "stdout",
     "output_type": "stream",
     "text": [
      "7\n",
      "9\n",
      "65\n"
     ]
    }
   ],
   "source": [
    "def fn():\n",
    "    b=7\n",
    "    c=9\n",
    "    print(b)\n",
    "    print(c)\n",
    "    print(a)\n",
    "\n",
    "a=65\n",
    "fn()"
   ]
  },
  {
   "cell_type": "code",
   "execution_count": 86,
   "id": "34672274-e023-4ddc-be7b-4c4dcad6e10e",
   "metadata": {},
   "outputs": [
    {
     "name": "stdout",
     "output_type": "stream",
     "text": [
      "7\n",
      "9\n",
      "95\n",
      "95\n"
     ]
    }
   ],
   "source": [
    "def fn():\n",
    "    b=7\n",
    "    c=9\n",
    "    print(b)\n",
    "    print(c)\n",
    "    print(a)\n",
    "\n",
    "#a=65\n",
    "fn()\n",
    "print(a)\n",
    "a=95"
   ]
  },
  {
   "cell_type": "code",
   "execution_count": 87,
   "id": "6b5d73cc-a917-4f0b-82f6-4350c32f9f5b",
   "metadata": {},
   "outputs": [
    {
     "name": "stdout",
     "output_type": "stream",
     "text": [
      "4\n",
      "5\n",
      "4\n"
     ]
    }
   ],
   "source": [
    "a=4\n",
    "def fn():\n",
    "    a=5\n",
    "    print(a)\n",
    "\n",
    "print(a)\n",
    "fn()\n",
    "print(a)"
   ]
  },
  {
   "cell_type": "code",
   "execution_count": 88,
   "id": "703900a1-94bd-4092-a0bf-0c7b584da369",
   "metadata": {},
   "outputs": [
    {
     "name": "stdout",
     "output_type": "stream",
     "text": [
      "4\n",
      "5\n",
      "5\n"
     ]
    }
   ],
   "source": [
    "a=4\n",
    "def fn():\n",
    "    global a\n",
    "    a=5\n",
    "    print(a)\n",
    "\n",
    "print(a)\n",
    "fn()\n",
    "print(a)"
   ]
  },
  {
   "cell_type": "markdown",
   "id": "6ed11e1f-f903-401f-8363-3e36954d1789",
   "metadata": {},
   "source": [
    "## Default Arguments"
   ]
  },
  {
   "cell_type": "code",
   "execution_count": 89,
   "id": "d1c9b74d-962a-4b6d-a4cb-72c51cf287c0",
   "metadata": {},
   "outputs": [
    {
     "data": {
      "text/plain": [
       "10"
      ]
     },
     "execution_count": 89,
     "metadata": {},
     "output_type": "execute_result"
    }
   ],
   "source": [
    "#always write non-default arg. first before default arguments\n",
    "def fn(a,b,c=2,d=0):\n",
    "    return a+b+c+d\n",
    "\n",
    "fn(3,2,d=3)"
   ]
  },
  {
   "cell_type": "code",
   "execution_count": null,
   "id": "2fa9b2f7-dc69-495d-9d67-afa05ed8a2fc",
   "metadata": {},
   "outputs": [],
   "source": []
  }
 ],
 "metadata": {
  "kernelspec": {
   "display_name": "Python 3 (ipykernel)",
   "language": "python",
   "name": "python3"
  },
  "language_info": {
   "codemirror_mode": {
    "name": "ipython",
    "version": 3
   },
   "file_extension": ".py",
   "mimetype": "text/x-python",
   "name": "python",
   "nbconvert_exporter": "python",
   "pygments_lexer": "ipython3",
   "version": "3.11.7"
  }
 },
 "nbformat": 4,
 "nbformat_minor": 5
}
