{
 "cells": [
  {
   "cell_type": "markdown",
   "id": "d8765f39-907c-451a-a304-056765b131cb",
   "metadata": {},
   "source": [
    "## Creating class"
   ]
  },
  {
   "cell_type": "code",
   "execution_count": 7,
   "id": "bac70bbe-0aaa-45f9-9f1d-2e8c99065ed8",
   "metadata": {},
   "outputs": [],
   "source": [
    "class student:\n",
    "    pass\n",
    "\n",
    "s1=student()\n",
    "s2=student()\n",
    "s3=student()\n"
   ]
  },
  {
   "cell_type": "markdown",
   "id": "db736221-bc45-4a81-b957-8d0974e44a23",
   "metadata": {},
   "source": [
    "## Now we can add attribute to the created object like ....\n",
    "## Instance attribute"
   ]
  },
  {
   "cell_type": "code",
   "execution_count": 8,
   "id": "fa61dc21-20d7-44ef-8c08-0756237c0c7f",
   "metadata": {},
   "outputs": [],
   "source": [
    "s1.name='vishal'\n",
    "s1.age=20\n",
    "s2.age=21\n",
    "s2.phone=809584\n",
    "s3.address='sec 20'"
   ]
  },
  {
   "cell_type": "markdown",
   "id": "4cf961cf-0b6c-4a6c-ab04-80129186f05c",
   "metadata": {},
   "source": [
    "## Objects Store attributes and its values in dict(key:values )pair... Lets see how we can access it"
   ]
  },
  {
   "cell_type": "code",
   "execution_count": 7,
   "id": "5ae118b3-be26-4d13-b85a-46cb677672ce",
   "metadata": {},
   "outputs": [
    {
     "name": "stdout",
     "output_type": "stream",
     "text": [
      "{'name': 'vishal', 'age': 20}\n"
     ]
    }
   ],
   "source": [
    "print(s1.__dict__)"
   ]
  },
  {
   "cell_type": "code",
   "execution_count": 9,
   "id": "48f5beb8-8321-47e8-bb74-6793faa8e982",
   "metadata": {},
   "outputs": [
    {
     "name": "stdout",
     "output_type": "stream",
     "text": [
      "{'age': 21, 'phone': 809584}\n"
     ]
    }
   ],
   "source": [
    "print(s2.__dict__)"
   ]
  },
  {
   "cell_type": "code",
   "execution_count": 10,
   "id": "fe4f0f66-9fa3-448e-b5a4-224f24da22d6",
   "metadata": {},
   "outputs": [],
   "source": [
    "s4=student()"
   ]
  },
  {
   "cell_type": "code",
   "execution_count": 12,
   "id": "ebeddba9-e196-44e1-a26a-b63d8c231cd1",
   "metadata": {},
   "outputs": [
    {
     "name": "stdout",
     "output_type": "stream",
     "text": [
      "{}\n"
     ]
    }
   ],
   "source": [
    "print(s4.__dict__)##empty dictionary"
   ]
  },
  {
   "cell_type": "code",
   "execution_count": 9,
   "id": "7d445755-09bd-4199-8a7a-f5984dfd55c8",
   "metadata": {},
   "outputs": [
    {
     "name": "stdout",
     "output_type": "stream",
     "text": [
      "vishal\n"
     ]
    }
   ],
   "source": [
    "print(s1.name)"
   ]
  },
  {
   "cell_type": "code",
   "execution_count": 12,
   "id": "411859cf-fa34-4ee8-b683-d64a308420f2",
   "metadata": {},
   "outputs": [
    {
     "name": "stdout",
     "output_type": "stream",
     "text": [
      "True\n",
      "False\n"
     ]
    }
   ],
   "source": [
    "print(hasattr(s1,'name'))\n",
    "print(hasattr(s1,'phone'))"
   ]
  },
  {
   "cell_type": "markdown",
   "id": "afea6116-374f-433d-8acc-048c214f5c36",
   "metadata": {},
   "source": [
    "## Delete , get and set functions"
   ]
  },
  {
   "cell_type": "code",
   "execution_count": 18,
   "id": "f0df5d1b-ecd8-4cd8-8abb-832993d7ab38",
   "metadata": {},
   "outputs": [
    {
     "data": {
      "text/plain": [
       "'vishal nishad'"
      ]
     },
     "execution_count": 18,
     "metadata": {},
     "output_type": "execute_result"
    }
   ],
   "source": [
    "getattr(s1,\"name\")"
   ]
  },
  {
   "cell_type": "code",
   "execution_count": 15,
   "id": "140bd7ea-5040-44b7-9465-ce97138b9eb7",
   "metadata": {},
   "outputs": [
    {
     "data": {
      "text/plain": [
       "'this attr is not exist'"
      ]
     },
     "execution_count": 15,
     "metadata": {},
     "output_type": "execute_result"
    }
   ],
   "source": [
    "#using default value with getattr\n",
    "getattr(s1,'phone','this attr is not exist')"
   ]
  },
  {
   "cell_type": "code",
   "execution_count": 16,
   "id": "12c0f2ad-33e8-4449-a752-8f51fc2c2333",
   "metadata": {},
   "outputs": [],
   "source": [
    "#set attr\n",
    "setattr(s1,'name','vishal nishad')"
   ]
  },
  {
   "cell_type": "code",
   "execution_count": 17,
   "id": "a3d4f4d7-ea61-4c8c-a06c-fb91556d6a26",
   "metadata": {},
   "outputs": [
    {
     "data": {
      "text/plain": [
       "'vishal nishad'"
      ]
     },
     "execution_count": 17,
     "metadata": {},
     "output_type": "execute_result"
    }
   ],
   "source": [
    "getattr(s1,'name')"
   ]
  },
  {
   "cell_type": "code",
   "execution_count": 19,
   "id": "29e492be-6cf5-4b08-a425-a9cbb49b4c33",
   "metadata": {},
   "outputs": [
    {
     "data": {
      "text/plain": [
       "{'name': 'vishal nishad', 'age': 20}"
      ]
     },
     "execution_count": 19,
     "metadata": {},
     "output_type": "execute_result"
    }
   ],
   "source": [
    "s1.__dict__"
   ]
  },
  {
   "cell_type": "code",
   "execution_count": 20,
   "id": "96c01862-b98d-4c35-b1b6-9e0525f21ae7",
   "metadata": {},
   "outputs": [],
   "source": [
    "delattr(s1,'age')"
   ]
  },
  {
   "cell_type": "code",
   "execution_count": 21,
   "id": "0788a289-bfbc-44dd-90d1-fc2add0ec169",
   "metadata": {},
   "outputs": [
    {
     "data": {
      "text/plain": [
       "{'name': 'vishal nishad'}"
      ]
     },
     "execution_count": 21,
     "metadata": {},
     "output_type": "execute_result"
    }
   ],
   "source": [
    "s1.__dict__"
   ]
  },
  {
   "cell_type": "markdown",
   "id": "5c7e07ac-9362-4d8a-ac1a-fc59ca74c396",
   "metadata": {},
   "source": [
    "## Class Attribute"
   ]
  },
  {
   "cell_type": "code",
   "execution_count": 35,
   "id": "57a5f770-2886-4dc2-8e4b-0bc63cd6cf20",
   "metadata": {},
   "outputs": [],
   "source": [
    "class ScienceClass:\n",
    "    totalStudents=50\n",
    "    classTeacher='vishal'"
   ]
  },
  {
   "cell_type": "code",
   "execution_count": 36,
   "id": "8abf5d40-bae5-45c1-ad32-9d00dff4de1c",
   "metadata": {},
   "outputs": [],
   "source": [
    "v1=ScienceClass()\n",
    "v2=ScienceClass()"
   ]
  },
  {
   "cell_type": "code",
   "execution_count": 37,
   "id": "291adbde-e1c0-48d2-8458-0537ed29324e",
   "metadata": {},
   "outputs": [
    {
     "name": "stdout",
     "output_type": "stream",
     "text": [
      "{}\n"
     ]
    }
   ],
   "source": [
    "print(v1.__dict__)"
   ]
  },
  {
   "cell_type": "code",
   "execution_count": 39,
   "id": "324d6798-f379-47b2-835a-7950a7fe7b1c",
   "metadata": {},
   "outputs": [
    {
     "name": "stdout",
     "output_type": "stream",
     "text": [
      "50\n"
     ]
    }
   ],
   "source": [
    "print(v1.totalStudents)\n",
    "\n",
    "ScienceClass.section='A'"
   ]
  },
  {
   "cell_type": "code",
   "execution_count": 40,
   "id": "0e7ab4b9-fccf-4644-a099-be99d6f981be",
   "metadata": {},
   "outputs": [
    {
     "name": "stdout",
     "output_type": "stream",
     "text": [
      "100\n",
      "{'totalStudents': 100}\n"
     ]
    }
   ],
   "source": [
    "v1.totalStudents=100\n",
    "print(v1.totalStudents)\n",
    "print(v1.__dict__)"
   ]
  },
  {
   "cell_type": "code",
   "execution_count": 41,
   "id": "ce7cbd8d-583a-41ee-975f-e00c6e5520f3",
   "metadata": {},
   "outputs": [
    {
     "data": {
      "text/plain": [
       "{'totalStudents': 100}"
      ]
     },
     "execution_count": 41,
     "metadata": {},
     "output_type": "execute_result"
    }
   ],
   "source": [
    "v1.__dict__"
   ]
  },
  {
   "cell_type": "code",
   "execution_count": 42,
   "id": "9f704ea2-273f-4c2e-98e3-57bfe0d1246e",
   "metadata": {},
   "outputs": [
    {
     "name": "stdout",
     "output_type": "stream",
     "text": [
      "50\n",
      "100\n",
      "50\n"
     ]
    }
   ],
   "source": [
    "print(ScienceClass.totalStudents)\n",
    "print(v1.totalStudents)\n",
    "print(v2.totalStudents)"
   ]
  },
  {
   "cell_type": "code",
   "execution_count": 44,
   "id": "d13f480a-1fb2-4103-8869-404f6ce4d5ae",
   "metadata": {},
   "outputs": [
    {
     "data": {
      "text/plain": [
       "mappingproxy({'__module__': '__main__',\n",
       "              'totalStudents': 50,\n",
       "              'classTeacher': 'vishal',\n",
       "              '__dict__': <attribute '__dict__' of 'ScienceClass' objects>,\n",
       "              '__weakref__': <attribute '__weakref__' of 'ScienceClass' objects>,\n",
       "              '__doc__': None,\n",
       "              'section': 'A'})"
      ]
     },
     "execution_count": 44,
     "metadata": {},
     "output_type": "execute_result"
    }
   ],
   "source": [
    "ScienceClass.__dict__"
   ]
  },
  {
   "cell_type": "markdown",
   "id": "988cfcda-585f-4972-9b9c-ff8003165211",
   "metadata": {},
   "source": [
    "## Methods"
   ]
  },
  {
   "cell_type": "code",
   "execution_count": 72,
   "id": "e5c5e252-1fbd-486f-94c5-5955f5917f99",
   "metadata": {},
   "outputs": [],
   "source": [
    "class Class:\n",
    "    totalStu=50\n",
    "    classTeach='vishal'\n",
    "    def printHi(self):          ### self means reffering to current object it mandatory for accessing the method by any object\n",
    "        print('HI')\n",
    "    def givenStr(self,str):\n",
    "        print(str)\n",
    "    def printName(self):\n",
    "        #print(self.name)\n",
    "        print(name)"
   ]
  },
  {
   "cell_type": "code",
   "execution_count": 56,
   "id": "3c14f23b-5ec8-4b31-96e2-128b5965cde2",
   "metadata": {},
   "outputs": [],
   "source": [
    "c1=Class()\n",
    "c2=Class()\n"
   ]
  },
  {
   "cell_type": "code",
   "execution_count": 48,
   "id": "1448ed59-e516-4f80-9742-719ef216e979",
   "metadata": {},
   "outputs": [
    {
     "name": "stdout",
     "output_type": "stream",
     "text": [
      "HI\n"
     ]
    }
   ],
   "source": [
    "c1.printHi()"
   ]
  },
  {
   "cell_type": "code",
   "execution_count": 49,
   "id": "2147f519-ed29-40aa-8f60-373a4f5e41c1",
   "metadata": {},
   "outputs": [
    {
     "name": "stdout",
     "output_type": "stream",
     "text": [
      "Vishal Nishad\n"
     ]
    }
   ],
   "source": [
    "c2.givenStr('Vishal Nishad')"
   ]
  },
  {
   "cell_type": "code",
   "execution_count": 65,
   "id": "711f135c-fc03-4dc4-932c-dfd5a4d3961f",
   "metadata": {},
   "outputs": [],
   "source": [
    "c1.name='Nishad'"
   ]
  },
  {
   "cell_type": "code",
   "execution_count": 68,
   "id": "0a39fe26-f6a1-458c-b052-9f7d09645be4",
   "metadata": {},
   "outputs": [
    {
     "name": "stdout",
     "output_type": "stream",
     "text": [
      "Nishad\n"
     ]
    }
   ],
   "source": [
    "c1.printName()"
   ]
  },
  {
   "cell_type": "code",
   "execution_count": 71,
   "id": "d6bbda86-be01-44ab-a9fb-ea5b71b2b8a1",
   "metadata": {},
   "outputs": [
    {
     "name": "stdout",
     "output_type": "stream",
     "text": [
      "vishal \n"
     ]
    }
   ],
   "source": [
    "c2.name='vishal '\n",
    "c2.printName()"
   ]
  },
  {
   "cell_type": "markdown",
   "id": "08607042-4c16-4de5-96ca-513aa93836b1",
   "metadata": {},
   "source": [
    "## using method to create and update instance attribute"
   ]
  },
  {
   "cell_type": "code",
   "execution_count": 80,
   "id": "ef35fe5d-ff57-4a6d-90b2-86b79e94b9a2",
   "metadata": {},
   "outputs": [],
   "source": [
    "class Class:\n",
    "    totalStu=50\n",
    "    classTeach='vishal'\n",
    "    def printHi(self):          ### self means reffering to current object it mandatory for accessing the method by any object\n",
    "        print('HI')\n",
    "    def givenStr(self,str):\n",
    "        print(str)\n",
    "    def printName(self):\n",
    "        #print(self.name)\n",
    "        print(name)\n",
    "\n",
    "    def addName(self,name):  ## method for adding or updating name in object\n",
    "        self.name=name\n",
    "\n",
    "s1=Class()\n",
    "s2=Class()"
   ]
  },
  {
   "cell_type": "code",
   "execution_count": 82,
   "id": "8e4f8a4e-489b-40a0-8f25-a6d4b5daab2e",
   "metadata": {},
   "outputs": [
    {
     "data": {
      "text/plain": [
       "{}"
      ]
     },
     "execution_count": 82,
     "metadata": {},
     "output_type": "execute_result"
    }
   ],
   "source": [
    "#delattr(s1,'name')\n",
    "s1.__dict__"
   ]
  },
  {
   "cell_type": "code",
   "execution_count": 83,
   "id": "7be6360f-73ba-4281-bd42-a3660d4458db",
   "metadata": {},
   "outputs": [],
   "source": [
    "s1.addName('vishal')"
   ]
  },
  {
   "cell_type": "markdown",
   "id": "b0fb2506-1ede-4426-8354-bf4bdf7f0c2a",
   "metadata": {},
   "source": [
    "## Constructors"
   ]
  },
  {
   "cell_type": "code",
   "execution_count": 92,
   "id": "905f2a65-4fc8-4c4f-8458-a5f4a5126b70",
   "metadata": {},
   "outputs": [],
   "source": [
    "class Cons:\n",
    "    def __init__(self,name,age,rollNo):  ## adding constructor\n",
    "        print(name)"
   ]
  },
  {
   "cell_type": "code",
   "execution_count": 95,
   "id": "79d06bda-b526-48e4-86ae-0818960727e2",
   "metadata": {},
   "outputs": [
    {
     "name": "stdout",
     "output_type": "stream",
     "text": [
      "vishal\n",
      "{'address': 9889}\n"
     ]
    }
   ],
   "source": [
    "s1=Cons('vishal',25,101)  ## Class object attribute\n",
    "s1.address=9889           ## instance attribute\n",
    "print(s1.__dict__)"
   ]
  },
  {
   "cell_type": "code",
   "execution_count": null,
   "id": "7c8bfbfb-8af3-4e08-9f87-c86db84e462f",
   "metadata": {},
   "outputs": [],
   "source": []
  }
 ],
 "metadata": {
  "kernelspec": {
   "display_name": "Python 3 (ipykernel)",
   "language": "python",
   "name": "python3"
  },
  "language_info": {
   "codemirror_mode": {
    "name": "ipython",
    "version": 3
   },
   "file_extension": ".py",
   "mimetype": "text/x-python",
   "name": "python",
   "nbconvert_exporter": "python",
   "pygments_lexer": "ipython3",
   "version": "3.11.7"
  }
 },
 "nbformat": 4,
 "nbformat_minor": 5
}
