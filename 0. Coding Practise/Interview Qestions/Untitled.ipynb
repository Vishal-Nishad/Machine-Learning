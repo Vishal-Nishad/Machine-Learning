{
 "cells": [
  {
   "cell_type": "code",
   "execution_count": 12,
   "id": "a2cb8577-15e5-49de-b50e-3b13f9b26765",
   "metadata": {},
   "outputs": [
    {
     "name": "stdin",
     "output_type": "stream",
     "text": [
      "Enter strings: 4 24 564 32 64 43 4 1 2 8 56 5 98 5\n"
     ]
    },
    {
     "name": "stdout",
     "output_type": "stream",
     "text": [
      "Even list is : [4, 24, 564, 32, 64, 4, 2, 8, 56, 98]\n",
      "Sum of squares of element of even_list: 336632\n",
      "Even list in Descending order: [564, 98, 64, 56, 32, 24, 8, 4, 4, 2]\n",
      "[564, 98, 64, 56, 32, 24, 8, 4, 4, 2]\n"
     ]
    },
    {
     "data": {
      "text/plain": [
       "[564, 98, 64, 56, 32, 24, 8, 4, 4, 2]"
      ]
     },
     "execution_count": 12,
     "metadata": {},
     "output_type": "execute_result"
    }
   ],
   "source": [
    "## Take input as a list of integers,convert it into a list of even number , calculate sum of squares of even numbers \n",
    "num=input(\"Enter strings:\").split()\n",
    "list_num=[]\n",
    "for i in num:\n",
    "    list_num.append(int(i))\n",
    "even_list=[]\n",
    "for i in list_num:\n",
    "    if i%2==0:\n",
    "        even_list.append(i)\n",
    "sum=0\n",
    "for i in even_list:\n",
    "    sum=sum+(i**2)\n",
    "\n",
    "print(\"Even list is :\",even_list)\n",
    "print(\"Sum of squares of element of even_list:\", sum)\n",
    "even_list=sorted(even_list)\n",
    "print(\"Even list in Descending order:\",even_list[::-1])"
   ]
  },
  {
   "cell_type": "code",
   "execution_count": null,
   "id": "edbdfe8a-4fba-4d51-acc7-621c2b0b186e",
   "metadata": {},
   "outputs": [],
   "source": []
  }
 ],
 "metadata": {
  "kernelspec": {
   "display_name": "Python 3 (ipykernel)",
   "language": "python",
   "name": "python3"
  },
  "language_info": {
   "codemirror_mode": {
    "name": "ipython",
    "version": 3
   },
   "file_extension": ".py",
   "mimetype": "text/x-python",
   "name": "python",
   "nbconvert_exporter": "python",
   "pygments_lexer": "ipython3",
   "version": "3.11.7"
  }
 },
 "nbformat": 4,
 "nbformat_minor": 5
}
