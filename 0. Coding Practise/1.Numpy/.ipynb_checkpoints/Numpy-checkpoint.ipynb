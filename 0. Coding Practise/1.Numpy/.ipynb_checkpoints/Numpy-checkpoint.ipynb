{
 "cells": [
  {
   "cell_type": "markdown",
   "id": "b5e7045a-252e-4c8c-ba56-53324fbedeb0",
   "metadata": {},
   "source": [
    "## 6. Create a 2D array and print its attributes"
   ]
  },
  {
   "cell_type": "code",
   "execution_count": 15,
   "id": "08c3b534-b32d-4d32-a27b-2ff16abe8462",
   "metadata": {},
   "outputs": [
    {
     "name": "stdout",
     "output_type": "stream",
     "text": [
      "size: 6\n",
      "shape: (2, 3)\n",
      "Datatype: int32\n",
      "Number of dimensions: 2\n",
      "Item size: 4bytes\n",
      "total item size: 24bytes\n"
     ]
    }
   ],
   "source": [
    "import numpy as np\n",
    "a=np.array([[3,2,4],[5,3,6]])\n",
    "## Its attributes are\n",
    "print(f'size: {a.size}')\n",
    "print(f'shape: {a.shape}')\n",
    "print(f'Datatype: {a.dtype}')\n",
    "print(f'Number of dimensions: {a.ndim}')\n",
    "print(f'Item size: {a.itemsize} bytes')\n",
    "print(f\"total item size: {a.nbytes} bytes\")"
   ]
  },
  {
   "cell_type": "markdown",
   "id": "54ddeaaf-f792-4447-b88c-1752d57d2ba9",
   "metadata": {},
   "source": [
    "## Q. 7"
   ]
  },
  {
   "cell_type": "code",
   "execution_count": 7,
   "id": "668434dd-8d70-4da9-8f81-76826173b6a2",
   "metadata": {},
   "outputs": [
    {
     "name": "stdout",
     "output_type": "stream",
     "text": [
      "List of all students: ['vishal' 'nishad' 'rahul' 'vikas' 'ritesh' 'deepak' 'ritik' 'bob'\n",
      " 'martin']\n"
     ]
    }
   ],
   "source": [
    "import numpy as np\n",
    "arts_student=np.array(['vishal','nishad','rahul'])\n",
    "dance_st=np.array(['vikas','ritesh','deepak'])\n",
    "music_st=np.array(['ritik','bob','martin'])\n",
    "all_students=np.concatenate((arts_student,dance_st,music_st))\n",
    "print('List of all students:',all_students)"
   ]
  },
  {
   "cell_type": "markdown",
   "id": "89c66488-7f68-401b-a819-5a2fe1c3db38",
   "metadata": {},
   "source": [
    "## 8."
   ]
  },
  {
   "cell_type": "code",
   "execution_count": 29,
   "id": "257eeb65-9f62-4b58-892a-7c1eaa697e48",
   "metadata": {},
   "outputs": [
    {
     "name": "stdout",
     "output_type": "stream",
     "text": [
      "90\n",
      "13\n",
      "[[45 67 23 64]\n",
      " [64 34 13 90]\n",
      " [89 87 56 78]\n",
      " [67 56 90 43]\n",
      " [56 67 43 45]]\n",
      "\n",
      " [[45 67 23 64]\n",
      " [64 34 13 90]\n",
      " [67 56 90 43]\n",
      " [56 67 43 45]]\n"
     ]
    },
    {
     "data": {
      "text/plain": [
       "array([[45, 23, 64],\n",
       "       [64, 13, 90],\n",
       "       [67, 90, 43],\n",
       "       [56, 43, 45]])"
      ]
     },
     "execution_count": 29,
     "metadata": {},
     "output_type": "execute_result"
    }
   ],
   "source": [
    "import numpy as np\n",
    "marks=np.array([[45,67,23,64],[64,34,13,90],[89,87,56,78],[67,56,90,43]])\n",
    "print(marks.max())\n",
    "print(marks.min())\n",
    "new_st=np.array([56,67,43,45])\n",
    "updated_marks=np.append(marks,[new_st],axis=0)\n",
    "print(updated_marks)\n",
    "\n",
    "updated_marks=np.delete(updated_marks,2,axis=0)     ## Deleting a row\n",
    "print('\\n',updated_marks)\n",
    "\n",
    "updated_marks=np.delete(updated_marks,1,axis=1)     ## Deleting a column\n",
    "updated_marks\n"
   ]
  },
  {
   "cell_type": "markdown",
   "id": "14d0e944-999b-4ace-b031-acf8dfb89b5d",
   "metadata": {},
   "source": [
    "## Deleting a row"
   ]
  },
  {
   "cell_type": "code",
   "execution_count": 26,
   "id": "a0c28530-2fcb-430a-a4f7-85c3278777f3",
   "metadata": {},
   "outputs": [
    {
     "ename": "NameError",
     "evalue": "name 'udpated_marks' is not defined",
     "output_type": "error",
     "traceback": [
      "\u001b[1;31m---------------------------------------------------------------------------\u001b[0m",
      "\u001b[1;31mNameError\u001b[0m                                 Traceback (most recent call last)",
      "Cell \u001b[1;32mIn[26], line 1\u001b[0m\n\u001b[1;32m----> 1\u001b[0m updated_marks\u001b[38;5;241m=\u001b[39mnp\u001b[38;5;241m.\u001b[39mdelete(udpated_marks,\u001b[38;5;241m2\u001b[39m,axis\u001b[38;5;241m=\u001b[39m\u001b[38;5;241m0\u001b[39m)\n\u001b[0;32m      2\u001b[0m updated_marks\n",
      "\u001b[1;31mNameError\u001b[0m: name 'udpated_marks' is not defined"
     ]
    }
   ],
   "source": []
  },
  {
   "cell_type": "code",
   "execution_count": null,
   "id": "334fefbc-42cf-47fb-ae4f-5587e2df62e8",
   "metadata": {},
   "outputs": [],
   "source": []
  }
 ],
 "metadata": {
  "kernelspec": {
   "display_name": "Python 3 (ipykernel)",
   "language": "python",
   "name": "python3"
  },
  "language_info": {
   "codemirror_mode": {
    "name": "ipython",
    "version": 3
   },
   "file_extension": ".py",
   "mimetype": "text/x-python",
   "name": "python",
   "nbconvert_exporter": "python",
   "pygments_lexer": "ipython3",
   "version": "3.11.7"
  }
 },
 "nbformat": 4,
 "nbformat_minor": 5
}
