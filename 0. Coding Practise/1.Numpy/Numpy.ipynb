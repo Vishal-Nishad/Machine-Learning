{
 "cells": [
  {
   "cell_type": "markdown",
   "id": "b5e7045a-252e-4c8c-ba56-53324fbedeb0",
   "metadata": {},
   "source": [
    "## 6. Create a 2D array and print its attributes"
   ]
  },
  {
   "cell_type": "code",
   "execution_count": 15,
   "id": "08c3b534-b32d-4d32-a27b-2ff16abe8462",
   "metadata": {},
   "outputs": [
    {
     "name": "stdout",
     "output_type": "stream",
     "text": [
      "size: 6\n",
      "shape: (2, 3)\n",
      "Datatype: int32\n",
      "Number of dimensions: 2\n",
      "Item size: 4bytes\n",
      "total item size: 24bytes\n"
     ]
    }
   ],
   "source": [
    "import numpy as np\n",
    "a=np.array([[3,2,4],[5,3,6]])\n",
    "## Its attributes are\n",
    "print(f'size: {a.size}')\n",
    "print(f'shape: {a.shape}')\n",
    "print(f'Datatype: {a.dtype}')\n",
    "print(f'Number of dimensions: {a.ndim}')\n",
    "print(f'Item size: {a.itemsize} bytes')\n",
    "print(f\"total item size: {a.nbytes} bytes\")"
   ]
  },
  {
   "cell_type": "markdown",
   "id": "54ddeaaf-f792-4447-b88c-1752d57d2ba9",
   "metadata": {},
   "source": [
    "## Q. 7"
   ]
  },
  {
   "cell_type": "code",
   "execution_count": 7,
   "id": "668434dd-8d70-4da9-8f81-76826173b6a2",
   "metadata": {},
   "outputs": [
    {
     "name": "stdout",
     "output_type": "stream",
     "text": [
      "List of all students: ['vishal' 'nishad' 'rahul' 'vikas' 'ritesh' 'deepak' 'ritik' 'bob'\n",
      " 'martin']\n"
     ]
    }
   ],
   "source": [
    "import numpy as np\n",
    "arts_student=np.array(['vishal','nishad','rahul'])\n",
    "dance_st=np.array(['vikas','ritesh','deepak'])\n",
    "music_st=np.array(['ritik','bob','martin'])\n",
    "all_students=np.concatenate((arts_student,dance_st,music_st))\n",
    "print('List of all students:',all_students)"
   ]
  },
  {
   "cell_type": "code",
   "execution_count": null,
   "id": "2b61e190-9772-4f16-a876-697c54da2420",
   "metadata": {},
   "outputs": [],
   "source": []
  }
 ],
 "metadata": {
  "kernelspec": {
   "display_name": "Python 3 (ipykernel)",
   "language": "python",
   "name": "python3"
  },
  "language_info": {
   "codemirror_mode": {
    "name": "ipython",
    "version": 3
   },
   "file_extension": ".py",
   "mimetype": "text/x-python",
   "name": "python",
   "nbconvert_exporter": "python",
   "pygments_lexer": "ipython3",
   "version": "3.11.7"
  }
 },
 "nbformat": 4,
 "nbformat_minor": 5
}
